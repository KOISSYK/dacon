{
  "nbformat": 4,
  "nbformat_minor": 0,
  "metadata": {
    "colab": {
      "name": "영화관객수예측.ipynb",
      "provenance": [],
      "collapsed_sections": [],
      "authorship_tag": "ABX9TyPoOSiwNo9FNFVQwUnHjIsA",
      "include_colab_link": true
    },
    "kernelspec": {
      "name": "python3",
      "display_name": "Python 3"
    },
    "language_info": {
      "name": "python"
    }
  },
  "cells": [
    {
      "cell_type": "markdown",
      "metadata": {
        "id": "view-in-github",
        "colab_type": "text"
      },
      "source": [
        "<a href=\"https://colab.research.google.com/github/KOISSYK/dacon/blob/main/%EC%98%81%ED%99%94%EA%B4%80%EA%B0%9D%EC%88%98%EC%98%88%EC%B8%A1.ipynb\" target=\"_parent\"><img src=\"https://colab.research.google.com/assets/colab-badge.svg\" alt=\"Open In Colab\"/></a>"
      ]
    },
    {
      "cell_type": "markdown",
      "source": [
        "Dacon 영화관객수 예측\n",
        "\n"
      ],
      "metadata": {
        "id": "6TYuiHaXoL8E"
      }
    },
    {
      "cell_type": "code",
      "source": [
        "!sudo apt-get install -y fonts-nanum\n",
        "!sudo fc-cache -fv\n",
        "!rm ~/.cache/matplotlib -rf"
      ],
      "metadata": {
        "colab": {
          "base_uri": "https://localhost:8080/"
        },
        "id": "_wXXLSj09Miz",
        "outputId": "26305a41-eb4c-4c97-941a-b9e4c9c744c5"
      },
      "execution_count": 208,
      "outputs": [
        {
          "output_type": "stream",
          "name": "stdout",
          "text": [
            "Reading package lists... Done\n",
            "Building dependency tree       \n",
            "Reading state information... Done\n",
            "fonts-nanum is already the newest version (20170925-1).\n",
            "The following package was automatically installed and is no longer required:\n",
            "  libnvidia-common-460\n",
            "Use 'sudo apt autoremove' to remove it.\n",
            "0 upgraded, 0 newly installed, 0 to remove and 49 not upgraded.\n",
            "/usr/share/fonts: caching, new cache contents: 0 fonts, 1 dirs\n",
            "/usr/share/fonts/truetype: caching, new cache contents: 0 fonts, 3 dirs\n",
            "/usr/share/fonts/truetype/humor-sans: caching, new cache contents: 1 fonts, 0 dirs\n",
            "/usr/share/fonts/truetype/liberation: caching, new cache contents: 16 fonts, 0 dirs\n",
            "/usr/share/fonts/truetype/nanum: caching, new cache contents: 10 fonts, 0 dirs\n",
            "/usr/local/share/fonts: caching, new cache contents: 0 fonts, 0 dirs\n",
            "/root/.local/share/fonts: skipping, no such directory\n",
            "/root/.fonts: skipping, no such directory\n",
            "/var/cache/fontconfig: cleaning cache directory\n",
            "/root/.cache/fontconfig: not cleaning non-existent cache directory\n",
            "/root/.fontconfig: not cleaning non-existent cache directory\n",
            "fc-cache: succeeded\n"
          ]
        }
      ]
    },
    {
      "cell_type": "markdown",
      "source": [
        "title : 영화의 제목\n",
        "\n",
        "distributor : 배급사\n",
        "\n",
        "genre : 장르\n",
        "\n",
        "release_time : 개봉일\n",
        "\n",
        "time : 상영시간(분)\n",
        "\n",
        "screening_rat : 상영등급\n",
        "\n",
        "director : 감독이름\n",
        "\n",
        "dir_prev_bfnum : 해당 감독이 이 영화를 만들기 전 제작에 참여한 영화에서의 평균 관객수(단 \n",
        "관객수가 알려지지 않은 영화 제외)\n",
        "\n",
        "dir_prev_num : 해당 감독이 이 영화를 만들기 전 제작에 참여한 영화의 개수(단 관객수가 \n",
        "알려지지 않은 영화 제외)\n",
        "\n",
        "num_staff : 스텝수\n",
        "\n",
        "num_actor : 주연배우수\n",
        "\n",
        "box_off_num : 관객수\n"
      ],
      "metadata": {
        "id": "mYFs3SdRoBdK"
      }
    },
    {
      "cell_type": "markdown",
      "source": [
        "# 1.문제유형 및 데이터 정리"
      ],
      "metadata": {
        "id": "KD5hlpvqd7L1"
      }
    },
    {
      "cell_type": "markdown",
      "source": [
        "## 1.1 패키지로드"
      ],
      "metadata": {
        "id": "652E3mj4dzAW"
      }
    },
    {
      "cell_type": "code",
      "execution_count": 209,
      "metadata": {
        "id": "OId_GoIsdEbJ"
      },
      "outputs": [],
      "source": [
        "from numpy.lib.function_base import select\n",
        "import os\n",
        "import sys\n",
        "\n",
        "import pandas as pd\n",
        "import numpy as np\n",
        "\n",
        "from sklearn.preprocessing import OneHotEncoder\n",
        "from sklearn.preprocessing import StandardScaler\n",
        "from sklearn.preprocessing import MinMaxScaler\n",
        "\n",
        "from sklearn.model_selection import StratifiedKFold\n",
        "from sklearn.model_selection import train_test_split\n",
        "from sklearn.model_selection import KFold\n",
        "from sklearn.model_selection import cross_validate\n",
        "from sklearn.model_selection import GridSearchCV\n",
        "\n",
        "from sklearn.linear_model import LogisticRegression\n",
        "from sklearn.ensemble import RandomForestClassifier\n",
        "from sklearn.metrics import mean_squared_error\n",
        "import matplotlib.pyplot as plt\n",
        "import seaborn as sns\n",
        "\n",
        "from sklearn.decomposition import PCA\n",
        "from sklearn.pipeline import Pipeline, make_pipeline\n",
        "from sklearn.svm import SVC\n",
        "from sklearn.datasets import load_breast_cancer\n",
        "\n",
        "\n",
        "\n"
      ]
    },
    {
      "cell_type": "markdown",
      "source": [
        "## 1.2 파일로드"
      ],
      "metadata": {
        "id": "fsyCf6pXd2tQ"
      }
    },
    {
      "cell_type": "code",
      "source": [
        "df_train = pd.read_csv('movies_train.csv')\n",
        "df_test = pd.read_csv('movies_test.csv')\n",
        "df_sub = pd.read_csv('submission.csv')"
      ],
      "metadata": {
        "id": "VfH7ut-CikMX"
      },
      "execution_count": 210,
      "outputs": []
    },
    {
      "cell_type": "markdown",
      "source": [
        "# 2.전처리"
      ],
      "metadata": {
        "id": "jpj0T6pueEK7"
      }
    },
    {
      "cell_type": "markdown",
      "source": [
        "## 2.1 데이터 확인 분석"
      ],
      "metadata": {
        "id": "_GT81H3dl6aQ"
      }
    },
    {
      "cell_type": "code",
      "source": [
        "df_train.info()"
      ],
      "metadata": {
        "colab": {
          "base_uri": "https://localhost:8080/"
        },
        "id": "RSF4OFADl9zo",
        "outputId": "3106b1a9-0ee6-460a-e65b-f7332caf3cfe"
      },
      "execution_count": 211,
      "outputs": [
        {
          "output_type": "stream",
          "name": "stdout",
          "text": [
            "<class 'pandas.core.frame.DataFrame'>\n",
            "RangeIndex: 600 entries, 0 to 599\n",
            "Data columns (total 12 columns):\n",
            " #   Column          Non-Null Count  Dtype  \n",
            "---  ------          --------------  -----  \n",
            " 0   title           600 non-null    object \n",
            " 1   distributor     600 non-null    object \n",
            " 2   genre           600 non-null    object \n",
            " 3   release_time    600 non-null    object \n",
            " 4   time            600 non-null    int64  \n",
            " 5   screening_rat   600 non-null    object \n",
            " 6   director        600 non-null    object \n",
            " 7   dir_prev_bfnum  270 non-null    float64\n",
            " 8   dir_prev_num    600 non-null    int64  \n",
            " 9   num_staff       600 non-null    int64  \n",
            " 10  num_actor       600 non-null    int64  \n",
            " 11  box_off_num     600 non-null    int64  \n",
            "dtypes: float64(1), int64(5), object(6)\n",
            "memory usage: 56.4+ KB\n"
          ]
        }
      ]
    },
    {
      "cell_type": "code",
      "source": [
        "df_train.head()"
      ],
      "metadata": {
        "colab": {
          "base_uri": "https://localhost:8080/",
          "height": 250
        },
        "id": "v_OBhkRNl92B",
        "outputId": "96c04743-56fb-4084-d403-e6209de3eac1"
      },
      "execution_count": 212,
      "outputs": [
        {
          "output_type": "execute_result",
          "data": {
            "text/plain": [
              "       title   distributor genre release_time  time screening_rat director  \\\n",
              "0     개들의 전쟁      롯데엔터테인먼트    액션   2012-11-22    96      청소년 관람불가      조병옥   \n",
              "1       내부자들        (주)쇼박스   느와르   2015-11-19   130      청소년 관람불가      우민호   \n",
              "2  은밀하게 위대하게        (주)쇼박스    액션   2013-06-05   123       15세 관람가      장철수   \n",
              "3   나는 공무원이다        (주)NEW   코미디   2012-07-12   101        전체 관람가      구자홍   \n",
              "4       불량남녀  쇼박스(주)미디어플렉스   코미디   2010-11-04   108       15세 관람가      신근호   \n",
              "\n",
              "   dir_prev_bfnum  dir_prev_num  num_staff  num_actor  box_off_num  \n",
              "0             NaN             0         91          2        23398  \n",
              "1      1161602.50             2        387          3      7072501  \n",
              "2       220775.25             4        343          4      6959083  \n",
              "3        23894.00             2         20          6       217866  \n",
              "4            1.00             1        251          2       483387  "
            ],
            "text/html": [
              "\n",
              "  <div id=\"df-0f2f8825-181a-41fe-a903-b1bf9d968f34\">\n",
              "    <div class=\"colab-df-container\">\n",
              "      <div>\n",
              "<style scoped>\n",
              "    .dataframe tbody tr th:only-of-type {\n",
              "        vertical-align: middle;\n",
              "    }\n",
              "\n",
              "    .dataframe tbody tr th {\n",
              "        vertical-align: top;\n",
              "    }\n",
              "\n",
              "    .dataframe thead th {\n",
              "        text-align: right;\n",
              "    }\n",
              "</style>\n",
              "<table border=\"1\" class=\"dataframe\">\n",
              "  <thead>\n",
              "    <tr style=\"text-align: right;\">\n",
              "      <th></th>\n",
              "      <th>title</th>\n",
              "      <th>distributor</th>\n",
              "      <th>genre</th>\n",
              "      <th>release_time</th>\n",
              "      <th>time</th>\n",
              "      <th>screening_rat</th>\n",
              "      <th>director</th>\n",
              "      <th>dir_prev_bfnum</th>\n",
              "      <th>dir_prev_num</th>\n",
              "      <th>num_staff</th>\n",
              "      <th>num_actor</th>\n",
              "      <th>box_off_num</th>\n",
              "    </tr>\n",
              "  </thead>\n",
              "  <tbody>\n",
              "    <tr>\n",
              "      <th>0</th>\n",
              "      <td>개들의 전쟁</td>\n",
              "      <td>롯데엔터테인먼트</td>\n",
              "      <td>액션</td>\n",
              "      <td>2012-11-22</td>\n",
              "      <td>96</td>\n",
              "      <td>청소년 관람불가</td>\n",
              "      <td>조병옥</td>\n",
              "      <td>NaN</td>\n",
              "      <td>0</td>\n",
              "      <td>91</td>\n",
              "      <td>2</td>\n",
              "      <td>23398</td>\n",
              "    </tr>\n",
              "    <tr>\n",
              "      <th>1</th>\n",
              "      <td>내부자들</td>\n",
              "      <td>(주)쇼박스</td>\n",
              "      <td>느와르</td>\n",
              "      <td>2015-11-19</td>\n",
              "      <td>130</td>\n",
              "      <td>청소년 관람불가</td>\n",
              "      <td>우민호</td>\n",
              "      <td>1161602.50</td>\n",
              "      <td>2</td>\n",
              "      <td>387</td>\n",
              "      <td>3</td>\n",
              "      <td>7072501</td>\n",
              "    </tr>\n",
              "    <tr>\n",
              "      <th>2</th>\n",
              "      <td>은밀하게 위대하게</td>\n",
              "      <td>(주)쇼박스</td>\n",
              "      <td>액션</td>\n",
              "      <td>2013-06-05</td>\n",
              "      <td>123</td>\n",
              "      <td>15세 관람가</td>\n",
              "      <td>장철수</td>\n",
              "      <td>220775.25</td>\n",
              "      <td>4</td>\n",
              "      <td>343</td>\n",
              "      <td>4</td>\n",
              "      <td>6959083</td>\n",
              "    </tr>\n",
              "    <tr>\n",
              "      <th>3</th>\n",
              "      <td>나는 공무원이다</td>\n",
              "      <td>(주)NEW</td>\n",
              "      <td>코미디</td>\n",
              "      <td>2012-07-12</td>\n",
              "      <td>101</td>\n",
              "      <td>전체 관람가</td>\n",
              "      <td>구자홍</td>\n",
              "      <td>23894.00</td>\n",
              "      <td>2</td>\n",
              "      <td>20</td>\n",
              "      <td>6</td>\n",
              "      <td>217866</td>\n",
              "    </tr>\n",
              "    <tr>\n",
              "      <th>4</th>\n",
              "      <td>불량남녀</td>\n",
              "      <td>쇼박스(주)미디어플렉스</td>\n",
              "      <td>코미디</td>\n",
              "      <td>2010-11-04</td>\n",
              "      <td>108</td>\n",
              "      <td>15세 관람가</td>\n",
              "      <td>신근호</td>\n",
              "      <td>1.00</td>\n",
              "      <td>1</td>\n",
              "      <td>251</td>\n",
              "      <td>2</td>\n",
              "      <td>483387</td>\n",
              "    </tr>\n",
              "  </tbody>\n",
              "</table>\n",
              "</div>\n",
              "      <button class=\"colab-df-convert\" onclick=\"convertToInteractive('df-0f2f8825-181a-41fe-a903-b1bf9d968f34')\"\n",
              "              title=\"Convert this dataframe to an interactive table.\"\n",
              "              style=\"display:none;\">\n",
              "        \n",
              "  <svg xmlns=\"http://www.w3.org/2000/svg\" height=\"24px\"viewBox=\"0 0 24 24\"\n",
              "       width=\"24px\">\n",
              "    <path d=\"M0 0h24v24H0V0z\" fill=\"none\"/>\n",
              "    <path d=\"M18.56 5.44l.94 2.06.94-2.06 2.06-.94-2.06-.94-.94-2.06-.94 2.06-2.06.94zm-11 1L8.5 8.5l.94-2.06 2.06-.94-2.06-.94L8.5 2.5l-.94 2.06-2.06.94zm10 10l.94 2.06.94-2.06 2.06-.94-2.06-.94-.94-2.06-.94 2.06-2.06.94z\"/><path d=\"M17.41 7.96l-1.37-1.37c-.4-.4-.92-.59-1.43-.59-.52 0-1.04.2-1.43.59L10.3 9.45l-7.72 7.72c-.78.78-.78 2.05 0 2.83L4 21.41c.39.39.9.59 1.41.59.51 0 1.02-.2 1.41-.59l7.78-7.78 2.81-2.81c.8-.78.8-2.07 0-2.86zM5.41 20L4 18.59l7.72-7.72 1.47 1.35L5.41 20z\"/>\n",
              "  </svg>\n",
              "      </button>\n",
              "      \n",
              "  <style>\n",
              "    .colab-df-container {\n",
              "      display:flex;\n",
              "      flex-wrap:wrap;\n",
              "      gap: 12px;\n",
              "    }\n",
              "\n",
              "    .colab-df-convert {\n",
              "      background-color: #E8F0FE;\n",
              "      border: none;\n",
              "      border-radius: 50%;\n",
              "      cursor: pointer;\n",
              "      display: none;\n",
              "      fill: #1967D2;\n",
              "      height: 32px;\n",
              "      padding: 0 0 0 0;\n",
              "      width: 32px;\n",
              "    }\n",
              "\n",
              "    .colab-df-convert:hover {\n",
              "      background-color: #E2EBFA;\n",
              "      box-shadow: 0px 1px 2px rgba(60, 64, 67, 0.3), 0px 1px 3px 1px rgba(60, 64, 67, 0.15);\n",
              "      fill: #174EA6;\n",
              "    }\n",
              "\n",
              "    [theme=dark] .colab-df-convert {\n",
              "      background-color: #3B4455;\n",
              "      fill: #D2E3FC;\n",
              "    }\n",
              "\n",
              "    [theme=dark] .colab-df-convert:hover {\n",
              "      background-color: #434B5C;\n",
              "      box-shadow: 0px 1px 3px 1px rgba(0, 0, 0, 0.15);\n",
              "      filter: drop-shadow(0px 1px 2px rgba(0, 0, 0, 0.3));\n",
              "      fill: #FFFFFF;\n",
              "    }\n",
              "  </style>\n",
              "\n",
              "      <script>\n",
              "        const buttonEl =\n",
              "          document.querySelector('#df-0f2f8825-181a-41fe-a903-b1bf9d968f34 button.colab-df-convert');\n",
              "        buttonEl.style.display =\n",
              "          google.colab.kernel.accessAllowed ? 'block' : 'none';\n",
              "\n",
              "        async function convertToInteractive(key) {\n",
              "          const element = document.querySelector('#df-0f2f8825-181a-41fe-a903-b1bf9d968f34');\n",
              "          const dataTable =\n",
              "            await google.colab.kernel.invokeFunction('convertToInteractive',\n",
              "                                                     [key], {});\n",
              "          if (!dataTable) return;\n",
              "\n",
              "          const docLinkHtml = 'Like what you see? Visit the ' +\n",
              "            '<a target=\"_blank\" href=https://colab.research.google.com/notebooks/data_table.ipynb>data table notebook</a>'\n",
              "            + ' to learn more about interactive tables.';\n",
              "          element.innerHTML = '';\n",
              "          dataTable['output_type'] = 'display_data';\n",
              "          await google.colab.output.renderOutput(dataTable, element);\n",
              "          const docLink = document.createElement('div');\n",
              "          docLink.innerHTML = docLinkHtml;\n",
              "          element.appendChild(docLink);\n",
              "        }\n",
              "      </script>\n",
              "    </div>\n",
              "  </div>\n",
              "  "
            ]
          },
          "metadata": {},
          "execution_count": 212
        }
      ]
    },
    {
      "cell_type": "code",
      "source": [
        "df_test.head(10)"
      ],
      "metadata": {
        "colab": {
          "base_uri": "https://localhost:8080/",
          "height": 363
        },
        "id": "K_IRvxZDmJ9f",
        "outputId": "5d664c8f-2296-41f6-9e50-e23cf9404ba6"
      },
      "execution_count": 213,
      "outputs": [
        {
          "output_type": "execute_result",
          "data": {
            "text/plain": [
              "         title      distributor   genre release_time  time screening_rat  \\\n",
              "0       용서는 없다           시네마서비스     느와르   2010-01-07   125      청소년 관람불가   \n",
              "1  아빠가 여자를 좋아해           (주)쇼박스  멜로/로맨스   2010-01-14   113       12세 관람가   \n",
              "2          하모니        CJ 엔터테인먼트     드라마   2010-01-28   115       12세 관람가   \n",
              "3          의형제           (주)쇼박스      액션   2010-02-04   116       15세 관람가   \n",
              "4        평행 이론        CJ 엔터테인먼트      공포   2010-02-18   110       15세 관람가   \n",
              "5       회오리 바람             모쿠슈라     드라마   2010-02-25    95       15세 관람가   \n",
              "6       경계도시 2            시네마 달   다큐멘터리   2010-03-18   104       15세 관람가   \n",
              "7       이웃집 남자        (주)루믹스미디어     드라마   2010-03-18   100      청소년 관람불가   \n",
              "8  아마존의 눈물 극장판           마운틴픽쳐스   다큐멘터리   2010-03-25    88       15세 관람가   \n",
              "9      반가운 살인자  롯데쇼핑(주)롯데엔터테인먼트     코미디   2010-04-08   107       15세 관람가   \n",
              "\n",
              "  director  dir_prev_bfnum  dir_prev_num  num_staff  num_actor  \n",
              "0      김형준    3.005290e+05             2        304          3  \n",
              "1      이광재    3.427002e+05             4        275          3  \n",
              "2      강대규    4.206611e+06             3        419          7  \n",
              "3       장훈    6.913420e+05             2        408          2  \n",
              "4      권호영    3.173800e+04             1        380          1  \n",
              "5      장건재             NaN             0        156          2  \n",
              "6      홍형숙             NaN             0         11          2  \n",
              "7      장동홍             NaN             0        117          5  \n",
              "8      김진만             NaN             0         76          1  \n",
              "9      김동욱             NaN             0        255          3  "
            ],
            "text/html": [
              "\n",
              "  <div id=\"df-aad7d63c-75dc-48ca-8b29-149b9936b625\">\n",
              "    <div class=\"colab-df-container\">\n",
              "      <div>\n",
              "<style scoped>\n",
              "    .dataframe tbody tr th:only-of-type {\n",
              "        vertical-align: middle;\n",
              "    }\n",
              "\n",
              "    .dataframe tbody tr th {\n",
              "        vertical-align: top;\n",
              "    }\n",
              "\n",
              "    .dataframe thead th {\n",
              "        text-align: right;\n",
              "    }\n",
              "</style>\n",
              "<table border=\"1\" class=\"dataframe\">\n",
              "  <thead>\n",
              "    <tr style=\"text-align: right;\">\n",
              "      <th></th>\n",
              "      <th>title</th>\n",
              "      <th>distributor</th>\n",
              "      <th>genre</th>\n",
              "      <th>release_time</th>\n",
              "      <th>time</th>\n",
              "      <th>screening_rat</th>\n",
              "      <th>director</th>\n",
              "      <th>dir_prev_bfnum</th>\n",
              "      <th>dir_prev_num</th>\n",
              "      <th>num_staff</th>\n",
              "      <th>num_actor</th>\n",
              "    </tr>\n",
              "  </thead>\n",
              "  <tbody>\n",
              "    <tr>\n",
              "      <th>0</th>\n",
              "      <td>용서는 없다</td>\n",
              "      <td>시네마서비스</td>\n",
              "      <td>느와르</td>\n",
              "      <td>2010-01-07</td>\n",
              "      <td>125</td>\n",
              "      <td>청소년 관람불가</td>\n",
              "      <td>김형준</td>\n",
              "      <td>3.005290e+05</td>\n",
              "      <td>2</td>\n",
              "      <td>304</td>\n",
              "      <td>3</td>\n",
              "    </tr>\n",
              "    <tr>\n",
              "      <th>1</th>\n",
              "      <td>아빠가 여자를 좋아해</td>\n",
              "      <td>(주)쇼박스</td>\n",
              "      <td>멜로/로맨스</td>\n",
              "      <td>2010-01-14</td>\n",
              "      <td>113</td>\n",
              "      <td>12세 관람가</td>\n",
              "      <td>이광재</td>\n",
              "      <td>3.427002e+05</td>\n",
              "      <td>4</td>\n",
              "      <td>275</td>\n",
              "      <td>3</td>\n",
              "    </tr>\n",
              "    <tr>\n",
              "      <th>2</th>\n",
              "      <td>하모니</td>\n",
              "      <td>CJ 엔터테인먼트</td>\n",
              "      <td>드라마</td>\n",
              "      <td>2010-01-28</td>\n",
              "      <td>115</td>\n",
              "      <td>12세 관람가</td>\n",
              "      <td>강대규</td>\n",
              "      <td>4.206611e+06</td>\n",
              "      <td>3</td>\n",
              "      <td>419</td>\n",
              "      <td>7</td>\n",
              "    </tr>\n",
              "    <tr>\n",
              "      <th>3</th>\n",
              "      <td>의형제</td>\n",
              "      <td>(주)쇼박스</td>\n",
              "      <td>액션</td>\n",
              "      <td>2010-02-04</td>\n",
              "      <td>116</td>\n",
              "      <td>15세 관람가</td>\n",
              "      <td>장훈</td>\n",
              "      <td>6.913420e+05</td>\n",
              "      <td>2</td>\n",
              "      <td>408</td>\n",
              "      <td>2</td>\n",
              "    </tr>\n",
              "    <tr>\n",
              "      <th>4</th>\n",
              "      <td>평행 이론</td>\n",
              "      <td>CJ 엔터테인먼트</td>\n",
              "      <td>공포</td>\n",
              "      <td>2010-02-18</td>\n",
              "      <td>110</td>\n",
              "      <td>15세 관람가</td>\n",
              "      <td>권호영</td>\n",
              "      <td>3.173800e+04</td>\n",
              "      <td>1</td>\n",
              "      <td>380</td>\n",
              "      <td>1</td>\n",
              "    </tr>\n",
              "    <tr>\n",
              "      <th>5</th>\n",
              "      <td>회오리 바람</td>\n",
              "      <td>모쿠슈라</td>\n",
              "      <td>드라마</td>\n",
              "      <td>2010-02-25</td>\n",
              "      <td>95</td>\n",
              "      <td>15세 관람가</td>\n",
              "      <td>장건재</td>\n",
              "      <td>NaN</td>\n",
              "      <td>0</td>\n",
              "      <td>156</td>\n",
              "      <td>2</td>\n",
              "    </tr>\n",
              "    <tr>\n",
              "      <th>6</th>\n",
              "      <td>경계도시 2</td>\n",
              "      <td>시네마 달</td>\n",
              "      <td>다큐멘터리</td>\n",
              "      <td>2010-03-18</td>\n",
              "      <td>104</td>\n",
              "      <td>15세 관람가</td>\n",
              "      <td>홍형숙</td>\n",
              "      <td>NaN</td>\n",
              "      <td>0</td>\n",
              "      <td>11</td>\n",
              "      <td>2</td>\n",
              "    </tr>\n",
              "    <tr>\n",
              "      <th>7</th>\n",
              "      <td>이웃집 남자</td>\n",
              "      <td>(주)루믹스미디어</td>\n",
              "      <td>드라마</td>\n",
              "      <td>2010-03-18</td>\n",
              "      <td>100</td>\n",
              "      <td>청소년 관람불가</td>\n",
              "      <td>장동홍</td>\n",
              "      <td>NaN</td>\n",
              "      <td>0</td>\n",
              "      <td>117</td>\n",
              "      <td>5</td>\n",
              "    </tr>\n",
              "    <tr>\n",
              "      <th>8</th>\n",
              "      <td>아마존의 눈물 극장판</td>\n",
              "      <td>마운틴픽쳐스</td>\n",
              "      <td>다큐멘터리</td>\n",
              "      <td>2010-03-25</td>\n",
              "      <td>88</td>\n",
              "      <td>15세 관람가</td>\n",
              "      <td>김진만</td>\n",
              "      <td>NaN</td>\n",
              "      <td>0</td>\n",
              "      <td>76</td>\n",
              "      <td>1</td>\n",
              "    </tr>\n",
              "    <tr>\n",
              "      <th>9</th>\n",
              "      <td>반가운 살인자</td>\n",
              "      <td>롯데쇼핑(주)롯데엔터테인먼트</td>\n",
              "      <td>코미디</td>\n",
              "      <td>2010-04-08</td>\n",
              "      <td>107</td>\n",
              "      <td>15세 관람가</td>\n",
              "      <td>김동욱</td>\n",
              "      <td>NaN</td>\n",
              "      <td>0</td>\n",
              "      <td>255</td>\n",
              "      <td>3</td>\n",
              "    </tr>\n",
              "  </tbody>\n",
              "</table>\n",
              "</div>\n",
              "      <button class=\"colab-df-convert\" onclick=\"convertToInteractive('df-aad7d63c-75dc-48ca-8b29-149b9936b625')\"\n",
              "              title=\"Convert this dataframe to an interactive table.\"\n",
              "              style=\"display:none;\">\n",
              "        \n",
              "  <svg xmlns=\"http://www.w3.org/2000/svg\" height=\"24px\"viewBox=\"0 0 24 24\"\n",
              "       width=\"24px\">\n",
              "    <path d=\"M0 0h24v24H0V0z\" fill=\"none\"/>\n",
              "    <path d=\"M18.56 5.44l.94 2.06.94-2.06 2.06-.94-2.06-.94-.94-2.06-.94 2.06-2.06.94zm-11 1L8.5 8.5l.94-2.06 2.06-.94-2.06-.94L8.5 2.5l-.94 2.06-2.06.94zm10 10l.94 2.06.94-2.06 2.06-.94-2.06-.94-.94-2.06-.94 2.06-2.06.94z\"/><path d=\"M17.41 7.96l-1.37-1.37c-.4-.4-.92-.59-1.43-.59-.52 0-1.04.2-1.43.59L10.3 9.45l-7.72 7.72c-.78.78-.78 2.05 0 2.83L4 21.41c.39.39.9.59 1.41.59.51 0 1.02-.2 1.41-.59l7.78-7.78 2.81-2.81c.8-.78.8-2.07 0-2.86zM5.41 20L4 18.59l7.72-7.72 1.47 1.35L5.41 20z\"/>\n",
              "  </svg>\n",
              "      </button>\n",
              "      \n",
              "  <style>\n",
              "    .colab-df-container {\n",
              "      display:flex;\n",
              "      flex-wrap:wrap;\n",
              "      gap: 12px;\n",
              "    }\n",
              "\n",
              "    .colab-df-convert {\n",
              "      background-color: #E8F0FE;\n",
              "      border: none;\n",
              "      border-radius: 50%;\n",
              "      cursor: pointer;\n",
              "      display: none;\n",
              "      fill: #1967D2;\n",
              "      height: 32px;\n",
              "      padding: 0 0 0 0;\n",
              "      width: 32px;\n",
              "    }\n",
              "\n",
              "    .colab-df-convert:hover {\n",
              "      background-color: #E2EBFA;\n",
              "      box-shadow: 0px 1px 2px rgba(60, 64, 67, 0.3), 0px 1px 3px 1px rgba(60, 64, 67, 0.15);\n",
              "      fill: #174EA6;\n",
              "    }\n",
              "\n",
              "    [theme=dark] .colab-df-convert {\n",
              "      background-color: #3B4455;\n",
              "      fill: #D2E3FC;\n",
              "    }\n",
              "\n",
              "    [theme=dark] .colab-df-convert:hover {\n",
              "      background-color: #434B5C;\n",
              "      box-shadow: 0px 1px 3px 1px rgba(0, 0, 0, 0.15);\n",
              "      filter: drop-shadow(0px 1px 2px rgba(0, 0, 0, 0.3));\n",
              "      fill: #FFFFFF;\n",
              "    }\n",
              "  </style>\n",
              "\n",
              "      <script>\n",
              "        const buttonEl =\n",
              "          document.querySelector('#df-aad7d63c-75dc-48ca-8b29-149b9936b625 button.colab-df-convert');\n",
              "        buttonEl.style.display =\n",
              "          google.colab.kernel.accessAllowed ? 'block' : 'none';\n",
              "\n",
              "        async function convertToInteractive(key) {\n",
              "          const element = document.querySelector('#df-aad7d63c-75dc-48ca-8b29-149b9936b625');\n",
              "          const dataTable =\n",
              "            await google.colab.kernel.invokeFunction('convertToInteractive',\n",
              "                                                     [key], {});\n",
              "          if (!dataTable) return;\n",
              "\n",
              "          const docLinkHtml = 'Like what you see? Visit the ' +\n",
              "            '<a target=\"_blank\" href=https://colab.research.google.com/notebooks/data_table.ipynb>data table notebook</a>'\n",
              "            + ' to learn more about interactive tables.';\n",
              "          element.innerHTML = '';\n",
              "          dataTable['output_type'] = 'display_data';\n",
              "          await google.colab.output.renderOutput(dataTable, element);\n",
              "          const docLink = document.createElement('div');\n",
              "          docLink.innerHTML = docLinkHtml;\n",
              "          element.appendChild(docLink);\n",
              "        }\n",
              "      </script>\n",
              "    </div>\n",
              "  </div>\n",
              "  "
            ]
          },
          "metadata": {},
          "execution_count": 213
        }
      ]
    },
    {
      "cell_type": "code",
      "source": [
        "df_train.isnull().sum()"
      ],
      "metadata": {
        "colab": {
          "base_uri": "https://localhost:8080/"
        },
        "id": "7izYrnuFmTmv",
        "outputId": "79f287ff-666b-45f0-a5de-d1f28b25a58a"
      },
      "execution_count": 214,
      "outputs": [
        {
          "output_type": "execute_result",
          "data": {
            "text/plain": [
              "title               0\n",
              "distributor         0\n",
              "genre               0\n",
              "release_time        0\n",
              "time                0\n",
              "screening_rat       0\n",
              "director            0\n",
              "dir_prev_bfnum    330\n",
              "dir_prev_num        0\n",
              "num_staff           0\n",
              "num_actor           0\n",
              "box_off_num         0\n",
              "dtype: int64"
            ]
          },
          "metadata": {},
          "execution_count": 214
        }
      ]
    },
    {
      "cell_type": "code",
      "source": [
        "df_test.isnull().sum()"
      ],
      "metadata": {
        "colab": {
          "base_uri": "https://localhost:8080/"
        },
        "id": "6QHQxtofpMXC",
        "outputId": "c3c176b3-40b3-4985-e1b7-8aabca19e41e"
      },
      "execution_count": 215,
      "outputs": [
        {
          "output_type": "execute_result",
          "data": {
            "text/plain": [
              "title               0\n",
              "distributor         0\n",
              "genre               0\n",
              "release_time        0\n",
              "time                0\n",
              "screening_rat       0\n",
              "director            0\n",
              "dir_prev_bfnum    136\n",
              "dir_prev_num        0\n",
              "num_staff           0\n",
              "num_actor           0\n",
              "dtype: int64"
            ]
          },
          "metadata": {},
          "execution_count": 215
        }
      ]
    },
    {
      "cell_type": "markdown",
      "source": [
        "\n",
        "\n",
        "*   train, test set 결측치확인(dir_prev_bfnum)\n"
      ],
      "metadata": {
        "id": "843CWzISpKSm"
      }
    },
    {
      "cell_type": "code",
      "source": [
        "df_train.shape"
      ],
      "metadata": {
        "colab": {
          "base_uri": "https://localhost:8080/"
        },
        "id": "vrIOjt_0pof4",
        "outputId": "c6fdf3e7-63e4-4159-a186-4a2987a7826b"
      },
      "execution_count": 216,
      "outputs": [
        {
          "output_type": "execute_result",
          "data": {
            "text/plain": [
              "(600, 12)"
            ]
          },
          "metadata": {},
          "execution_count": 216
        }
      ]
    },
    {
      "cell_type": "code",
      "source": [
        "df_train.head()"
      ],
      "metadata": {
        "colab": {
          "base_uri": "https://localhost:8080/",
          "height": 250
        },
        "id": "W4TVvl4GsHS1",
        "outputId": "5bf5cf71-95b9-47ad-d694-d4ef50725dc2"
      },
      "execution_count": 217,
      "outputs": [
        {
          "output_type": "execute_result",
          "data": {
            "text/plain": [
              "       title   distributor genre release_time  time screening_rat director  \\\n",
              "0     개들의 전쟁      롯데엔터테인먼트    액션   2012-11-22    96      청소년 관람불가      조병옥   \n",
              "1       내부자들        (주)쇼박스   느와르   2015-11-19   130      청소년 관람불가      우민호   \n",
              "2  은밀하게 위대하게        (주)쇼박스    액션   2013-06-05   123       15세 관람가      장철수   \n",
              "3   나는 공무원이다        (주)NEW   코미디   2012-07-12   101        전체 관람가      구자홍   \n",
              "4       불량남녀  쇼박스(주)미디어플렉스   코미디   2010-11-04   108       15세 관람가      신근호   \n",
              "\n",
              "   dir_prev_bfnum  dir_prev_num  num_staff  num_actor  box_off_num  \n",
              "0             NaN             0         91          2        23398  \n",
              "1      1161602.50             2        387          3      7072501  \n",
              "2       220775.25             4        343          4      6959083  \n",
              "3        23894.00             2         20          6       217866  \n",
              "4            1.00             1        251          2       483387  "
            ],
            "text/html": [
              "\n",
              "  <div id=\"df-76a8052f-3480-473c-b10c-aa3f09edb9f9\">\n",
              "    <div class=\"colab-df-container\">\n",
              "      <div>\n",
              "<style scoped>\n",
              "    .dataframe tbody tr th:only-of-type {\n",
              "        vertical-align: middle;\n",
              "    }\n",
              "\n",
              "    .dataframe tbody tr th {\n",
              "        vertical-align: top;\n",
              "    }\n",
              "\n",
              "    .dataframe thead th {\n",
              "        text-align: right;\n",
              "    }\n",
              "</style>\n",
              "<table border=\"1\" class=\"dataframe\">\n",
              "  <thead>\n",
              "    <tr style=\"text-align: right;\">\n",
              "      <th></th>\n",
              "      <th>title</th>\n",
              "      <th>distributor</th>\n",
              "      <th>genre</th>\n",
              "      <th>release_time</th>\n",
              "      <th>time</th>\n",
              "      <th>screening_rat</th>\n",
              "      <th>director</th>\n",
              "      <th>dir_prev_bfnum</th>\n",
              "      <th>dir_prev_num</th>\n",
              "      <th>num_staff</th>\n",
              "      <th>num_actor</th>\n",
              "      <th>box_off_num</th>\n",
              "    </tr>\n",
              "  </thead>\n",
              "  <tbody>\n",
              "    <tr>\n",
              "      <th>0</th>\n",
              "      <td>개들의 전쟁</td>\n",
              "      <td>롯데엔터테인먼트</td>\n",
              "      <td>액션</td>\n",
              "      <td>2012-11-22</td>\n",
              "      <td>96</td>\n",
              "      <td>청소년 관람불가</td>\n",
              "      <td>조병옥</td>\n",
              "      <td>NaN</td>\n",
              "      <td>0</td>\n",
              "      <td>91</td>\n",
              "      <td>2</td>\n",
              "      <td>23398</td>\n",
              "    </tr>\n",
              "    <tr>\n",
              "      <th>1</th>\n",
              "      <td>내부자들</td>\n",
              "      <td>(주)쇼박스</td>\n",
              "      <td>느와르</td>\n",
              "      <td>2015-11-19</td>\n",
              "      <td>130</td>\n",
              "      <td>청소년 관람불가</td>\n",
              "      <td>우민호</td>\n",
              "      <td>1161602.50</td>\n",
              "      <td>2</td>\n",
              "      <td>387</td>\n",
              "      <td>3</td>\n",
              "      <td>7072501</td>\n",
              "    </tr>\n",
              "    <tr>\n",
              "      <th>2</th>\n",
              "      <td>은밀하게 위대하게</td>\n",
              "      <td>(주)쇼박스</td>\n",
              "      <td>액션</td>\n",
              "      <td>2013-06-05</td>\n",
              "      <td>123</td>\n",
              "      <td>15세 관람가</td>\n",
              "      <td>장철수</td>\n",
              "      <td>220775.25</td>\n",
              "      <td>4</td>\n",
              "      <td>343</td>\n",
              "      <td>4</td>\n",
              "      <td>6959083</td>\n",
              "    </tr>\n",
              "    <tr>\n",
              "      <th>3</th>\n",
              "      <td>나는 공무원이다</td>\n",
              "      <td>(주)NEW</td>\n",
              "      <td>코미디</td>\n",
              "      <td>2012-07-12</td>\n",
              "      <td>101</td>\n",
              "      <td>전체 관람가</td>\n",
              "      <td>구자홍</td>\n",
              "      <td>23894.00</td>\n",
              "      <td>2</td>\n",
              "      <td>20</td>\n",
              "      <td>6</td>\n",
              "      <td>217866</td>\n",
              "    </tr>\n",
              "    <tr>\n",
              "      <th>4</th>\n",
              "      <td>불량남녀</td>\n",
              "      <td>쇼박스(주)미디어플렉스</td>\n",
              "      <td>코미디</td>\n",
              "      <td>2010-11-04</td>\n",
              "      <td>108</td>\n",
              "      <td>15세 관람가</td>\n",
              "      <td>신근호</td>\n",
              "      <td>1.00</td>\n",
              "      <td>1</td>\n",
              "      <td>251</td>\n",
              "      <td>2</td>\n",
              "      <td>483387</td>\n",
              "    </tr>\n",
              "  </tbody>\n",
              "</table>\n",
              "</div>\n",
              "      <button class=\"colab-df-convert\" onclick=\"convertToInteractive('df-76a8052f-3480-473c-b10c-aa3f09edb9f9')\"\n",
              "              title=\"Convert this dataframe to an interactive table.\"\n",
              "              style=\"display:none;\">\n",
              "        \n",
              "  <svg xmlns=\"http://www.w3.org/2000/svg\" height=\"24px\"viewBox=\"0 0 24 24\"\n",
              "       width=\"24px\">\n",
              "    <path d=\"M0 0h24v24H0V0z\" fill=\"none\"/>\n",
              "    <path d=\"M18.56 5.44l.94 2.06.94-2.06 2.06-.94-2.06-.94-.94-2.06-.94 2.06-2.06.94zm-11 1L8.5 8.5l.94-2.06 2.06-.94-2.06-.94L8.5 2.5l-.94 2.06-2.06.94zm10 10l.94 2.06.94-2.06 2.06-.94-2.06-.94-.94-2.06-.94 2.06-2.06.94z\"/><path d=\"M17.41 7.96l-1.37-1.37c-.4-.4-.92-.59-1.43-.59-.52 0-1.04.2-1.43.59L10.3 9.45l-7.72 7.72c-.78.78-.78 2.05 0 2.83L4 21.41c.39.39.9.59 1.41.59.51 0 1.02-.2 1.41-.59l7.78-7.78 2.81-2.81c.8-.78.8-2.07 0-2.86zM5.41 20L4 18.59l7.72-7.72 1.47 1.35L5.41 20z\"/>\n",
              "  </svg>\n",
              "      </button>\n",
              "      \n",
              "  <style>\n",
              "    .colab-df-container {\n",
              "      display:flex;\n",
              "      flex-wrap:wrap;\n",
              "      gap: 12px;\n",
              "    }\n",
              "\n",
              "    .colab-df-convert {\n",
              "      background-color: #E8F0FE;\n",
              "      border: none;\n",
              "      border-radius: 50%;\n",
              "      cursor: pointer;\n",
              "      display: none;\n",
              "      fill: #1967D2;\n",
              "      height: 32px;\n",
              "      padding: 0 0 0 0;\n",
              "      width: 32px;\n",
              "    }\n",
              "\n",
              "    .colab-df-convert:hover {\n",
              "      background-color: #E2EBFA;\n",
              "      box-shadow: 0px 1px 2px rgba(60, 64, 67, 0.3), 0px 1px 3px 1px rgba(60, 64, 67, 0.15);\n",
              "      fill: #174EA6;\n",
              "    }\n",
              "\n",
              "    [theme=dark] .colab-df-convert {\n",
              "      background-color: #3B4455;\n",
              "      fill: #D2E3FC;\n",
              "    }\n",
              "\n",
              "    [theme=dark] .colab-df-convert:hover {\n",
              "      background-color: #434B5C;\n",
              "      box-shadow: 0px 1px 3px 1px rgba(0, 0, 0, 0.15);\n",
              "      filter: drop-shadow(0px 1px 2px rgba(0, 0, 0, 0.3));\n",
              "      fill: #FFFFFF;\n",
              "    }\n",
              "  </style>\n",
              "\n",
              "      <script>\n",
              "        const buttonEl =\n",
              "          document.querySelector('#df-76a8052f-3480-473c-b10c-aa3f09edb9f9 button.colab-df-convert');\n",
              "        buttonEl.style.display =\n",
              "          google.colab.kernel.accessAllowed ? 'block' : 'none';\n",
              "\n",
              "        async function convertToInteractive(key) {\n",
              "          const element = document.querySelector('#df-76a8052f-3480-473c-b10c-aa3f09edb9f9');\n",
              "          const dataTable =\n",
              "            await google.colab.kernel.invokeFunction('convertToInteractive',\n",
              "                                                     [key], {});\n",
              "          if (!dataTable) return;\n",
              "\n",
              "          const docLinkHtml = 'Like what you see? Visit the ' +\n",
              "            '<a target=\"_blank\" href=https://colab.research.google.com/notebooks/data_table.ipynb>data table notebook</a>'\n",
              "            + ' to learn more about interactive tables.';\n",
              "          element.innerHTML = '';\n",
              "          dataTable['output_type'] = 'display_data';\n",
              "          await google.colab.output.renderOutput(dataTable, element);\n",
              "          const docLink = document.createElement('div');\n",
              "          docLink.innerHTML = docLinkHtml;\n",
              "          element.appendChild(docLink);\n",
              "        }\n",
              "      </script>\n",
              "    </div>\n",
              "  </div>\n",
              "  "
            ]
          },
          "metadata": {},
          "execution_count": 217
        }
      ]
    },
    {
      "cell_type": "code",
      "source": [
        "df_test.info()"
      ],
      "metadata": {
        "colab": {
          "base_uri": "https://localhost:8080/"
        },
        "id": "aw7siNwYuFbj",
        "outputId": "320115b4-c9bc-4e3e-803b-05f7396bf305"
      },
      "execution_count": 218,
      "outputs": [
        {
          "output_type": "stream",
          "name": "stdout",
          "text": [
            "<class 'pandas.core.frame.DataFrame'>\n",
            "RangeIndex: 243 entries, 0 to 242\n",
            "Data columns (total 11 columns):\n",
            " #   Column          Non-Null Count  Dtype  \n",
            "---  ------          --------------  -----  \n",
            " 0   title           243 non-null    object \n",
            " 1   distributor     243 non-null    object \n",
            " 2   genre           243 non-null    object \n",
            " 3   release_time    243 non-null    object \n",
            " 4   time            243 non-null    int64  \n",
            " 5   screening_rat   243 non-null    object \n",
            " 6   director        243 non-null    object \n",
            " 7   dir_prev_bfnum  107 non-null    float64\n",
            " 8   dir_prev_num    243 non-null    int64  \n",
            " 9   num_staff       243 non-null    int64  \n",
            " 10  num_actor       243 non-null    int64  \n",
            "dtypes: float64(1), int64(4), object(6)\n",
            "memory usage: 21.0+ KB\n"
          ]
        }
      ]
    },
    {
      "cell_type": "markdown",
      "source": [
        "## 2.2 컬럼 삭제"
      ],
      "metadata": {
        "id": "wO5BEw77sDWj"
      }
    },
    {
      "cell_type": "code",
      "source": [
        "df_train.drop(['title'],inplace = True, axis = 1)\n",
        "df_test.drop(['title'],inplace = True, axis = 1)"
      ],
      "metadata": {
        "id": "dsMPJub69gSd"
      },
      "execution_count": 219,
      "outputs": []
    },
    {
      "cell_type": "markdown",
      "source": [
        "## 2.3 dir_prev_bfnum"
      ],
      "metadata": {
        "id": "C5-n8Y6ecZPq"
      }
    },
    {
      "cell_type": "markdown",
      "source": [
        "### 2.3.1결측치 확인 "
      ],
      "metadata": {
        "id": "Gt_ocJi1aRN0"
      }
    },
    {
      "cell_type": "code",
      "source": [
        "df_train[df_train['dir_prev_bfnum'].isna() == 1] #(dir_prev_bfnum)에 대한 결측치 확인 "
      ],
      "metadata": {
        "colab": {
          "base_uri": "https://localhost:8080/",
          "height": 424
        },
        "id": "Kq9ynYA4sYSU",
        "outputId": "a41d2572-3540-41ac-c4d0-25cc9c3d42c2"
      },
      "execution_count": 220,
      "outputs": [
        {
          "output_type": "execute_result",
          "data": {
            "text/plain": [
              "         distributor   genre release_time  time screening_rat director  \\\n",
              "0           롯데엔터테인먼트      액션   2012-11-22    96      청소년 관람불가      조병옥   \n",
              "6               백두대간   다큐멘터리   2013-05-23   104        전체 관람가      이창재   \n",
              "8    유니버설픽쳐스인터내셔널코리아     뮤지컬   2014-09-18   129        전체 관람가      정성복   \n",
              "9             (주)두타연     드라마   2012-03-15    94       15세 관람가      변성현   \n",
              "10         (주) 케이알씨지  멜로/로맨스   2015-07-27    89      청소년 관람불가   조조 히데오   \n",
              "..               ...     ...          ...   ...           ...      ...   \n",
              "593             퍼스트런    미스터리   2013-09-12    97      청소년 관람불가      최위안   \n",
              "594        (주)마운틴픽쳐스     코미디   2014-03-20    94      청소년 관람불가      노진수   \n",
              "597        (주)마운틴픽쳐스      공포   2010-09-30    99      청소년 관람불가      김대현   \n",
              "598        CJ 엔터테인먼트     느와르   2015-05-14   102       15세 관람가      백운학   \n",
              "599        CJ 엔터테인먼트      액션   2013-01-30   120       15세 관람가      류승완   \n",
              "\n",
              "     dir_prev_bfnum  dir_prev_num  num_staff  num_actor  box_off_num  \n",
              "0               NaN             0         91          2        23398  \n",
              "6               NaN             0         32          5        53526  \n",
              "8               NaN             0          3          5         4778  \n",
              "9               NaN             0        138          3          868  \n",
              "10              NaN             0          0          4          745  \n",
              "..              ...           ...        ...        ...          ...  \n",
              "593             NaN             0          5          3         1132  \n",
              "594             NaN             0         37          5         1958  \n",
              "597             NaN             0        123          4         2475  \n",
              "598             NaN             0        431          4      2192525  \n",
              "599             NaN             0        363          5      7166532  \n",
              "\n",
              "[330 rows x 11 columns]"
            ],
            "text/html": [
              "\n",
              "  <div id=\"df-87bc5a25-7ca0-4d2a-a126-12cdfdbe6dd5\">\n",
              "    <div class=\"colab-df-container\">\n",
              "      <div>\n",
              "<style scoped>\n",
              "    .dataframe tbody tr th:only-of-type {\n",
              "        vertical-align: middle;\n",
              "    }\n",
              "\n",
              "    .dataframe tbody tr th {\n",
              "        vertical-align: top;\n",
              "    }\n",
              "\n",
              "    .dataframe thead th {\n",
              "        text-align: right;\n",
              "    }\n",
              "</style>\n",
              "<table border=\"1\" class=\"dataframe\">\n",
              "  <thead>\n",
              "    <tr style=\"text-align: right;\">\n",
              "      <th></th>\n",
              "      <th>distributor</th>\n",
              "      <th>genre</th>\n",
              "      <th>release_time</th>\n",
              "      <th>time</th>\n",
              "      <th>screening_rat</th>\n",
              "      <th>director</th>\n",
              "      <th>dir_prev_bfnum</th>\n",
              "      <th>dir_prev_num</th>\n",
              "      <th>num_staff</th>\n",
              "      <th>num_actor</th>\n",
              "      <th>box_off_num</th>\n",
              "    </tr>\n",
              "  </thead>\n",
              "  <tbody>\n",
              "    <tr>\n",
              "      <th>0</th>\n",
              "      <td>롯데엔터테인먼트</td>\n",
              "      <td>액션</td>\n",
              "      <td>2012-11-22</td>\n",
              "      <td>96</td>\n",
              "      <td>청소년 관람불가</td>\n",
              "      <td>조병옥</td>\n",
              "      <td>NaN</td>\n",
              "      <td>0</td>\n",
              "      <td>91</td>\n",
              "      <td>2</td>\n",
              "      <td>23398</td>\n",
              "    </tr>\n",
              "    <tr>\n",
              "      <th>6</th>\n",
              "      <td>백두대간</td>\n",
              "      <td>다큐멘터리</td>\n",
              "      <td>2013-05-23</td>\n",
              "      <td>104</td>\n",
              "      <td>전체 관람가</td>\n",
              "      <td>이창재</td>\n",
              "      <td>NaN</td>\n",
              "      <td>0</td>\n",
              "      <td>32</td>\n",
              "      <td>5</td>\n",
              "      <td>53526</td>\n",
              "    </tr>\n",
              "    <tr>\n",
              "      <th>8</th>\n",
              "      <td>유니버설픽쳐스인터내셔널코리아</td>\n",
              "      <td>뮤지컬</td>\n",
              "      <td>2014-09-18</td>\n",
              "      <td>129</td>\n",
              "      <td>전체 관람가</td>\n",
              "      <td>정성복</td>\n",
              "      <td>NaN</td>\n",
              "      <td>0</td>\n",
              "      <td>3</td>\n",
              "      <td>5</td>\n",
              "      <td>4778</td>\n",
              "    </tr>\n",
              "    <tr>\n",
              "      <th>9</th>\n",
              "      <td>(주)두타연</td>\n",
              "      <td>드라마</td>\n",
              "      <td>2012-03-15</td>\n",
              "      <td>94</td>\n",
              "      <td>15세 관람가</td>\n",
              "      <td>변성현</td>\n",
              "      <td>NaN</td>\n",
              "      <td>0</td>\n",
              "      <td>138</td>\n",
              "      <td>3</td>\n",
              "      <td>868</td>\n",
              "    </tr>\n",
              "    <tr>\n",
              "      <th>10</th>\n",
              "      <td>(주) 케이알씨지</td>\n",
              "      <td>멜로/로맨스</td>\n",
              "      <td>2015-07-27</td>\n",
              "      <td>89</td>\n",
              "      <td>청소년 관람불가</td>\n",
              "      <td>조조 히데오</td>\n",
              "      <td>NaN</td>\n",
              "      <td>0</td>\n",
              "      <td>0</td>\n",
              "      <td>4</td>\n",
              "      <td>745</td>\n",
              "    </tr>\n",
              "    <tr>\n",
              "      <th>...</th>\n",
              "      <td>...</td>\n",
              "      <td>...</td>\n",
              "      <td>...</td>\n",
              "      <td>...</td>\n",
              "      <td>...</td>\n",
              "      <td>...</td>\n",
              "      <td>...</td>\n",
              "      <td>...</td>\n",
              "      <td>...</td>\n",
              "      <td>...</td>\n",
              "      <td>...</td>\n",
              "    </tr>\n",
              "    <tr>\n",
              "      <th>593</th>\n",
              "      <td>퍼스트런</td>\n",
              "      <td>미스터리</td>\n",
              "      <td>2013-09-12</td>\n",
              "      <td>97</td>\n",
              "      <td>청소년 관람불가</td>\n",
              "      <td>최위안</td>\n",
              "      <td>NaN</td>\n",
              "      <td>0</td>\n",
              "      <td>5</td>\n",
              "      <td>3</td>\n",
              "      <td>1132</td>\n",
              "    </tr>\n",
              "    <tr>\n",
              "      <th>594</th>\n",
              "      <td>(주)마운틴픽쳐스</td>\n",
              "      <td>코미디</td>\n",
              "      <td>2014-03-20</td>\n",
              "      <td>94</td>\n",
              "      <td>청소년 관람불가</td>\n",
              "      <td>노진수</td>\n",
              "      <td>NaN</td>\n",
              "      <td>0</td>\n",
              "      <td>37</td>\n",
              "      <td>5</td>\n",
              "      <td>1958</td>\n",
              "    </tr>\n",
              "    <tr>\n",
              "      <th>597</th>\n",
              "      <td>(주)마운틴픽쳐스</td>\n",
              "      <td>공포</td>\n",
              "      <td>2010-09-30</td>\n",
              "      <td>99</td>\n",
              "      <td>청소년 관람불가</td>\n",
              "      <td>김대현</td>\n",
              "      <td>NaN</td>\n",
              "      <td>0</td>\n",
              "      <td>123</td>\n",
              "      <td>4</td>\n",
              "      <td>2475</td>\n",
              "    </tr>\n",
              "    <tr>\n",
              "      <th>598</th>\n",
              "      <td>CJ 엔터테인먼트</td>\n",
              "      <td>느와르</td>\n",
              "      <td>2015-05-14</td>\n",
              "      <td>102</td>\n",
              "      <td>15세 관람가</td>\n",
              "      <td>백운학</td>\n",
              "      <td>NaN</td>\n",
              "      <td>0</td>\n",
              "      <td>431</td>\n",
              "      <td>4</td>\n",
              "      <td>2192525</td>\n",
              "    </tr>\n",
              "    <tr>\n",
              "      <th>599</th>\n",
              "      <td>CJ 엔터테인먼트</td>\n",
              "      <td>액션</td>\n",
              "      <td>2013-01-30</td>\n",
              "      <td>120</td>\n",
              "      <td>15세 관람가</td>\n",
              "      <td>류승완</td>\n",
              "      <td>NaN</td>\n",
              "      <td>0</td>\n",
              "      <td>363</td>\n",
              "      <td>5</td>\n",
              "      <td>7166532</td>\n",
              "    </tr>\n",
              "  </tbody>\n",
              "</table>\n",
              "<p>330 rows × 11 columns</p>\n",
              "</div>\n",
              "      <button class=\"colab-df-convert\" onclick=\"convertToInteractive('df-87bc5a25-7ca0-4d2a-a126-12cdfdbe6dd5')\"\n",
              "              title=\"Convert this dataframe to an interactive table.\"\n",
              "              style=\"display:none;\">\n",
              "        \n",
              "  <svg xmlns=\"http://www.w3.org/2000/svg\" height=\"24px\"viewBox=\"0 0 24 24\"\n",
              "       width=\"24px\">\n",
              "    <path d=\"M0 0h24v24H0V0z\" fill=\"none\"/>\n",
              "    <path d=\"M18.56 5.44l.94 2.06.94-2.06 2.06-.94-2.06-.94-.94-2.06-.94 2.06-2.06.94zm-11 1L8.5 8.5l.94-2.06 2.06-.94-2.06-.94L8.5 2.5l-.94 2.06-2.06.94zm10 10l.94 2.06.94-2.06 2.06-.94-2.06-.94-.94-2.06-.94 2.06-2.06.94z\"/><path d=\"M17.41 7.96l-1.37-1.37c-.4-.4-.92-.59-1.43-.59-.52 0-1.04.2-1.43.59L10.3 9.45l-7.72 7.72c-.78.78-.78 2.05 0 2.83L4 21.41c.39.39.9.59 1.41.59.51 0 1.02-.2 1.41-.59l7.78-7.78 2.81-2.81c.8-.78.8-2.07 0-2.86zM5.41 20L4 18.59l7.72-7.72 1.47 1.35L5.41 20z\"/>\n",
              "  </svg>\n",
              "      </button>\n",
              "      \n",
              "  <style>\n",
              "    .colab-df-container {\n",
              "      display:flex;\n",
              "      flex-wrap:wrap;\n",
              "      gap: 12px;\n",
              "    }\n",
              "\n",
              "    .colab-df-convert {\n",
              "      background-color: #E8F0FE;\n",
              "      border: none;\n",
              "      border-radius: 50%;\n",
              "      cursor: pointer;\n",
              "      display: none;\n",
              "      fill: #1967D2;\n",
              "      height: 32px;\n",
              "      padding: 0 0 0 0;\n",
              "      width: 32px;\n",
              "    }\n",
              "\n",
              "    .colab-df-convert:hover {\n",
              "      background-color: #E2EBFA;\n",
              "      box-shadow: 0px 1px 2px rgba(60, 64, 67, 0.3), 0px 1px 3px 1px rgba(60, 64, 67, 0.15);\n",
              "      fill: #174EA6;\n",
              "    }\n",
              "\n",
              "    [theme=dark] .colab-df-convert {\n",
              "      background-color: #3B4455;\n",
              "      fill: #D2E3FC;\n",
              "    }\n",
              "\n",
              "    [theme=dark] .colab-df-convert:hover {\n",
              "      background-color: #434B5C;\n",
              "      box-shadow: 0px 1px 3px 1px rgba(0, 0, 0, 0.15);\n",
              "      filter: drop-shadow(0px 1px 2px rgba(0, 0, 0, 0.3));\n",
              "      fill: #FFFFFF;\n",
              "    }\n",
              "  </style>\n",
              "\n",
              "      <script>\n",
              "        const buttonEl =\n",
              "          document.querySelector('#df-87bc5a25-7ca0-4d2a-a126-12cdfdbe6dd5 button.colab-df-convert');\n",
              "        buttonEl.style.display =\n",
              "          google.colab.kernel.accessAllowed ? 'block' : 'none';\n",
              "\n",
              "        async function convertToInteractive(key) {\n",
              "          const element = document.querySelector('#df-87bc5a25-7ca0-4d2a-a126-12cdfdbe6dd5');\n",
              "          const dataTable =\n",
              "            await google.colab.kernel.invokeFunction('convertToInteractive',\n",
              "                                                     [key], {});\n",
              "          if (!dataTable) return;\n",
              "\n",
              "          const docLinkHtml = 'Like what you see? Visit the ' +\n",
              "            '<a target=\"_blank\" href=https://colab.research.google.com/notebooks/data_table.ipynb>data table notebook</a>'\n",
              "            + ' to learn more about interactive tables.';\n",
              "          element.innerHTML = '';\n",
              "          dataTable['output_type'] = 'display_data';\n",
              "          await google.colab.output.renderOutput(dataTable, element);\n",
              "          const docLink = document.createElement('div');\n",
              "          docLink.innerHTML = docLinkHtml;\n",
              "          element.appendChild(docLink);\n",
              "        }\n",
              "      </script>\n",
              "    </div>\n",
              "  </div>\n",
              "  "
            ]
          },
          "metadata": {},
          "execution_count": 220
        }
      ]
    },
    {
      "cell_type": "markdown",
      "source": [
        "dir_prev_bfnum 의 nan값은 대체값을 넣어 계산하기에는 결측치가 너무 많아 제거하는게 낫다고 생각했으나 결측치값들은 해당 감독이 이 영화를 만들기 전 제작에 참여한 영화의 개수가 0일떄 이다.\n",
        "결측치의 값을 0으로 해주면될거같다."
      ],
      "metadata": {
        "id": "hllpMImtlobv"
      }
    },
    {
      "cell_type": "markdown",
      "source": [
        "### 2.3.2 결측치 대체"
      ],
      "metadata": {
        "id": "FkJksGZ0aZg2"
      }
    },
    {
      "cell_type": "code",
      "source": [
        "df_train['dir_prev_bfnum'].fillna(0, inplace = True)\n",
        "df_test['dir_prev_bfnum'].fillna(0, inplace = True)"
      ],
      "metadata": {
        "id": "uTchVw4VXcE1"
      },
      "execution_count": 221,
      "outputs": []
    },
    {
      "cell_type": "code",
      "source": [
        "df_train.head()"
      ],
      "metadata": {
        "colab": {
          "base_uri": "https://localhost:8080/",
          "height": 206
        },
        "id": "Ln8mYiiIjSYG",
        "outputId": "9a74fc99-8597-46b5-dd2e-9dcf2890e030"
      },
      "execution_count": 222,
      "outputs": [
        {
          "output_type": "execute_result",
          "data": {
            "text/plain": [
              "    distributor genre release_time  time screening_rat director  \\\n",
              "0      롯데엔터테인먼트    액션   2012-11-22    96      청소년 관람불가      조병옥   \n",
              "1        (주)쇼박스   느와르   2015-11-19   130      청소년 관람불가      우민호   \n",
              "2        (주)쇼박스    액션   2013-06-05   123       15세 관람가      장철수   \n",
              "3        (주)NEW   코미디   2012-07-12   101        전체 관람가      구자홍   \n",
              "4  쇼박스(주)미디어플렉스   코미디   2010-11-04   108       15세 관람가      신근호   \n",
              "\n",
              "   dir_prev_bfnum  dir_prev_num  num_staff  num_actor  box_off_num  \n",
              "0            0.00             0         91          2        23398  \n",
              "1      1161602.50             2        387          3      7072501  \n",
              "2       220775.25             4        343          4      6959083  \n",
              "3        23894.00             2         20          6       217866  \n",
              "4            1.00             1        251          2       483387  "
            ],
            "text/html": [
              "\n",
              "  <div id=\"df-35fff2a4-b36b-43c7-be53-a1241f6122de\">\n",
              "    <div class=\"colab-df-container\">\n",
              "      <div>\n",
              "<style scoped>\n",
              "    .dataframe tbody tr th:only-of-type {\n",
              "        vertical-align: middle;\n",
              "    }\n",
              "\n",
              "    .dataframe tbody tr th {\n",
              "        vertical-align: top;\n",
              "    }\n",
              "\n",
              "    .dataframe thead th {\n",
              "        text-align: right;\n",
              "    }\n",
              "</style>\n",
              "<table border=\"1\" class=\"dataframe\">\n",
              "  <thead>\n",
              "    <tr style=\"text-align: right;\">\n",
              "      <th></th>\n",
              "      <th>distributor</th>\n",
              "      <th>genre</th>\n",
              "      <th>release_time</th>\n",
              "      <th>time</th>\n",
              "      <th>screening_rat</th>\n",
              "      <th>director</th>\n",
              "      <th>dir_prev_bfnum</th>\n",
              "      <th>dir_prev_num</th>\n",
              "      <th>num_staff</th>\n",
              "      <th>num_actor</th>\n",
              "      <th>box_off_num</th>\n",
              "    </tr>\n",
              "  </thead>\n",
              "  <tbody>\n",
              "    <tr>\n",
              "      <th>0</th>\n",
              "      <td>롯데엔터테인먼트</td>\n",
              "      <td>액션</td>\n",
              "      <td>2012-11-22</td>\n",
              "      <td>96</td>\n",
              "      <td>청소년 관람불가</td>\n",
              "      <td>조병옥</td>\n",
              "      <td>0.00</td>\n",
              "      <td>0</td>\n",
              "      <td>91</td>\n",
              "      <td>2</td>\n",
              "      <td>23398</td>\n",
              "    </tr>\n",
              "    <tr>\n",
              "      <th>1</th>\n",
              "      <td>(주)쇼박스</td>\n",
              "      <td>느와르</td>\n",
              "      <td>2015-11-19</td>\n",
              "      <td>130</td>\n",
              "      <td>청소년 관람불가</td>\n",
              "      <td>우민호</td>\n",
              "      <td>1161602.50</td>\n",
              "      <td>2</td>\n",
              "      <td>387</td>\n",
              "      <td>3</td>\n",
              "      <td>7072501</td>\n",
              "    </tr>\n",
              "    <tr>\n",
              "      <th>2</th>\n",
              "      <td>(주)쇼박스</td>\n",
              "      <td>액션</td>\n",
              "      <td>2013-06-05</td>\n",
              "      <td>123</td>\n",
              "      <td>15세 관람가</td>\n",
              "      <td>장철수</td>\n",
              "      <td>220775.25</td>\n",
              "      <td>4</td>\n",
              "      <td>343</td>\n",
              "      <td>4</td>\n",
              "      <td>6959083</td>\n",
              "    </tr>\n",
              "    <tr>\n",
              "      <th>3</th>\n",
              "      <td>(주)NEW</td>\n",
              "      <td>코미디</td>\n",
              "      <td>2012-07-12</td>\n",
              "      <td>101</td>\n",
              "      <td>전체 관람가</td>\n",
              "      <td>구자홍</td>\n",
              "      <td>23894.00</td>\n",
              "      <td>2</td>\n",
              "      <td>20</td>\n",
              "      <td>6</td>\n",
              "      <td>217866</td>\n",
              "    </tr>\n",
              "    <tr>\n",
              "      <th>4</th>\n",
              "      <td>쇼박스(주)미디어플렉스</td>\n",
              "      <td>코미디</td>\n",
              "      <td>2010-11-04</td>\n",
              "      <td>108</td>\n",
              "      <td>15세 관람가</td>\n",
              "      <td>신근호</td>\n",
              "      <td>1.00</td>\n",
              "      <td>1</td>\n",
              "      <td>251</td>\n",
              "      <td>2</td>\n",
              "      <td>483387</td>\n",
              "    </tr>\n",
              "  </tbody>\n",
              "</table>\n",
              "</div>\n",
              "      <button class=\"colab-df-convert\" onclick=\"convertToInteractive('df-35fff2a4-b36b-43c7-be53-a1241f6122de')\"\n",
              "              title=\"Convert this dataframe to an interactive table.\"\n",
              "              style=\"display:none;\">\n",
              "        \n",
              "  <svg xmlns=\"http://www.w3.org/2000/svg\" height=\"24px\"viewBox=\"0 0 24 24\"\n",
              "       width=\"24px\">\n",
              "    <path d=\"M0 0h24v24H0V0z\" fill=\"none\"/>\n",
              "    <path d=\"M18.56 5.44l.94 2.06.94-2.06 2.06-.94-2.06-.94-.94-2.06-.94 2.06-2.06.94zm-11 1L8.5 8.5l.94-2.06 2.06-.94-2.06-.94L8.5 2.5l-.94 2.06-2.06.94zm10 10l.94 2.06.94-2.06 2.06-.94-2.06-.94-.94-2.06-.94 2.06-2.06.94z\"/><path d=\"M17.41 7.96l-1.37-1.37c-.4-.4-.92-.59-1.43-.59-.52 0-1.04.2-1.43.59L10.3 9.45l-7.72 7.72c-.78.78-.78 2.05 0 2.83L4 21.41c.39.39.9.59 1.41.59.51 0 1.02-.2 1.41-.59l7.78-7.78 2.81-2.81c.8-.78.8-2.07 0-2.86zM5.41 20L4 18.59l7.72-7.72 1.47 1.35L5.41 20z\"/>\n",
              "  </svg>\n",
              "      </button>\n",
              "      \n",
              "  <style>\n",
              "    .colab-df-container {\n",
              "      display:flex;\n",
              "      flex-wrap:wrap;\n",
              "      gap: 12px;\n",
              "    }\n",
              "\n",
              "    .colab-df-convert {\n",
              "      background-color: #E8F0FE;\n",
              "      border: none;\n",
              "      border-radius: 50%;\n",
              "      cursor: pointer;\n",
              "      display: none;\n",
              "      fill: #1967D2;\n",
              "      height: 32px;\n",
              "      padding: 0 0 0 0;\n",
              "      width: 32px;\n",
              "    }\n",
              "\n",
              "    .colab-df-convert:hover {\n",
              "      background-color: #E2EBFA;\n",
              "      box-shadow: 0px 1px 2px rgba(60, 64, 67, 0.3), 0px 1px 3px 1px rgba(60, 64, 67, 0.15);\n",
              "      fill: #174EA6;\n",
              "    }\n",
              "\n",
              "    [theme=dark] .colab-df-convert {\n",
              "      background-color: #3B4455;\n",
              "      fill: #D2E3FC;\n",
              "    }\n",
              "\n",
              "    [theme=dark] .colab-df-convert:hover {\n",
              "      background-color: #434B5C;\n",
              "      box-shadow: 0px 1px 3px 1px rgba(0, 0, 0, 0.15);\n",
              "      filter: drop-shadow(0px 1px 2px rgba(0, 0, 0, 0.3));\n",
              "      fill: #FFFFFF;\n",
              "    }\n",
              "  </style>\n",
              "\n",
              "      <script>\n",
              "        const buttonEl =\n",
              "          document.querySelector('#df-35fff2a4-b36b-43c7-be53-a1241f6122de button.colab-df-convert');\n",
              "        buttonEl.style.display =\n",
              "          google.colab.kernel.accessAllowed ? 'block' : 'none';\n",
              "\n",
              "        async function convertToInteractive(key) {\n",
              "          const element = document.querySelector('#df-35fff2a4-b36b-43c7-be53-a1241f6122de');\n",
              "          const dataTable =\n",
              "            await google.colab.kernel.invokeFunction('convertToInteractive',\n",
              "                                                     [key], {});\n",
              "          if (!dataTable) return;\n",
              "\n",
              "          const docLinkHtml = 'Like what you see? Visit the ' +\n",
              "            '<a target=\"_blank\" href=https://colab.research.google.com/notebooks/data_table.ipynb>data table notebook</a>'\n",
              "            + ' to learn more about interactive tables.';\n",
              "          element.innerHTML = '';\n",
              "          dataTable['output_type'] = 'display_data';\n",
              "          await google.colab.output.renderOutput(dataTable, element);\n",
              "          const docLink = document.createElement('div');\n",
              "          docLink.innerHTML = docLinkHtml;\n",
              "          element.appendChild(docLink);\n",
              "        }\n",
              "      </script>\n",
              "    </div>\n",
              "  </div>\n",
              "  "
            ]
          },
          "metadata": {},
          "execution_count": 222
        }
      ]
    },
    {
      "cell_type": "markdown",
      "source": [
        "### 2.3.3 결측치가 잘 처리 되었는지 확인"
      ],
      "metadata": {
        "id": "TnKfoOvoaiYU"
      }
    },
    {
      "cell_type": "code",
      "source": [
        "df_train.isnull().sum()\n",
        "df_test.isnull().sum()"
      ],
      "metadata": {
        "colab": {
          "base_uri": "https://localhost:8080/"
        },
        "id": "TZL7kCd8t9hv",
        "outputId": "766d3c1c-2929-4d37-accd-0275f21c96d1"
      },
      "execution_count": 223,
      "outputs": [
        {
          "output_type": "execute_result",
          "data": {
            "text/plain": [
              "distributor       0\n",
              "genre             0\n",
              "release_time      0\n",
              "time              0\n",
              "screening_rat     0\n",
              "director          0\n",
              "dir_prev_bfnum    0\n",
              "dir_prev_num      0\n",
              "num_staff         0\n",
              "num_actor         0\n",
              "dtype: int64"
            ]
          },
          "metadata": {},
          "execution_count": 223
        }
      ]
    },
    {
      "cell_type": "markdown",
      "source": [
        "## 2.4 distributor(배급사)"
      ],
      "metadata": {
        "id": "dLiekiJFcsMc"
      }
    },
    {
      "cell_type": "code",
      "source": [
        "df_train['distributor'].unique()"
      ],
      "metadata": {
        "colab": {
          "base_uri": "https://localhost:8080/"
        },
        "id": "MDOHLYYReIUh",
        "outputId": "35247b7b-f9eb-4111-c7c4-ee53695c4456"
      },
      "execution_count": 224,
      "outputs": [
        {
          "output_type": "execute_result",
          "data": {
            "text/plain": [
              "array(['롯데엔터테인먼트', '(주)쇼박스', '(주)NEW', '쇼박스(주)미디어플렉스', '백두대간',\n",
              "       '유니버설픽쳐스인터내셔널코리아', '(주)두타연', '(주) 케이알씨지', '(주)콘텐츠 윙', '(주)키노아이',\n",
              "       '(주)팝 파트너스', 'CJ E&M 영화부문', '(주) 영화제작전원사', 'CJ E&M Pictures',\n",
              "       'CGV 무비꼴라쥬', '리틀빅픽처스', '스폰지', 'CJ 엔터테인먼트', 'CGV아트하우스', '조이앤시네마',\n",
              "       '인디플러그', '콘텐츠판다', '인디스토리', '(주)팝엔터테인먼트', '시네마서비스', '웃기씨네',\n",
              "       '영화사 진진', '(주)레인보우 팩토리', '김기덕 필름', 'NEW', 'CJ CGV',\n",
              "       '동국대학교 충무로영상제작센터', 'BoXoo 엔터테인먼트', '(주)마운틴픽쳐스', 'CGV 아트하우스',\n",
              "       '메가박스(주)플러스엠', '골든타이드픽처스', '파이오니아21', '디 씨드', '드림팩트 엔터테인먼트', '시너지',\n",
              "       '디마엔터테인먼트', '판다미디어', '(주)스톰픽쳐스코리아', '(주)예지림 엔터테인먼트', '(주) 영화사조제',\n",
              "       '보람엔터테인먼트', '(주)시네마달', '노바엔터테인먼트', '(주)패스파인더씨앤씨', '(주)대명문화공장',\n",
              "       '(주)온비즈넷', 'KT&G 상상마당', '무비꼴라쥬', '인벤트 디', '씨네그루(주)키다리이엔티',\n",
              "       '스튜디오후크', '시네마 달', '나이너스엔터테인먼트(주)', 'THE 픽쳐스', '영구아트무비', '리틀빅픽쳐스',\n",
              "       '어뮤즈', '이모션 픽처스', '(주)이스트스카이필름', '필라멘트 픽쳐스', '조이앤컨텐츠그룹', '타임스토리그룹',\n",
              "       '마운틴 픽처스', '(주)휘엔터테인먼트', '이십세기폭스코리아(주)', '(주)피터팬픽쳐스', '에스와이코마드',\n",
              "       '(주)더픽쳐스', '오퍼스픽쳐스', '(주)고앤고 필름', '사람과 사람들', '(주)JK필름',\n",
              "       '씨너스엔터테인먼트(주)', 'KT', '싸이더스FNH', '(주)프레인글로벌', '나우콘텐츠', '홀리가든',\n",
              "       '(주) 브릿지웍스', '(주)엣나인필름', '위더스필름', '시네마달', '(주)에이원 엔터테인먼트',\n",
              "       'OAL(올)', '싸이더스', '전망좋은영화사', '스토리셋', '이상우필름', '씨네굿필름', '영희야놀자',\n",
              "       '찬란', '어썸 피플', '아방가르드 필름', '스크린조이', '와이드릴리즈(주)', 'tvN',\n",
              "       '(주) 액티버스엔터테인먼트', '더픽쳐스/(주)마운틴픽쳐스', '제나두 엔터테인먼트', '(주)아이필름코퍼레이션',\n",
              "       '쟈비스미디어', '트리필름', '에스피엠', '(주)리틀빅픽처스', '건시네마', '키노엔터테인먼트',\n",
              "       '(주)아우라픽처스', '에이블엔터테인먼트', '드림로드', '인피니티엔터테인먼트', '새인컴퍼니',\n",
              "       '스튜디오 느림보', '와이드 릴리즈(주)', '필름라인', 'M2픽처스', '고구마공작소', '(주)미디어데이',\n",
              "       '마노엔터테인먼트', '화앤담이엔티', '(주)스마일이엔티', '(주)패뷸러스', '싸이더스 FNH', '영화사 조아',\n",
              "       '판씨네마(주)', '두 엔터테인먼트', '(주)마인스 엔터테인먼트', '전주국제영화제', '(주)마인스엔터테인먼트',\n",
              "       '상구네 필름', '케이엠스타', '(주)유비네트워크', '한국YWCA연합회', 'KBS미디어(주)', '더 피플',\n",
              "       '위드시네마', '팜코리아미디어', '(주)씨엠닉스', 'SBS콘텐츠허브', '인터콘미디어', '(주)유비콘텐츠',\n",
              "       '프로젝트 엠피', '하준사', '(주)노버스엔터테인먼트', '주머니필름', '롤러코스터 프로덕션', 'SK플래닛',\n",
              "       '서울독립영화제', '스튜디오 블루', '(주)랠리버튼', '(주)드림팩트엔터테인먼트', '에이원 엔터테인먼트',\n",
              "       '머스트 씨 무비', 'SK텔레콤(주)', '마법사필름', '스폰지이엔티', '(주)로드하우스', '미라클 필름',\n",
              "       '프리비젼 엔터테인먼트', '영화사 廊', '크리에이티브컴즈(주)', 'ysfilm', '이달투', '퍼스트런'],\n",
              "      dtype=object)"
            ]
          },
          "metadata": {},
          "execution_count": 224
        }
      ]
    },
    {
      "cell_type": "code",
      "source": [
        "df_train[[\"distributor\", \"box_off_num\"]].groupby(\"distributor\").mean().sort_values(\"box_off_num\")"
      ],
      "metadata": {
        "colab": {
          "base_uri": "https://localhost:8080/",
          "height": 455
        },
        "id": "CGxYOb3omHeG",
        "outputId": "8d7c1d7e-bb26-49b8-9de5-e4b9ca49959c"
      },
      "execution_count": 225,
      "outputs": [
        {
          "output_type": "execute_result",
          "data": {
            "text/plain": [
              "                  box_off_num\n",
              "distributor                  \n",
              "인피니티엔터테인먼트       2.000000e+00\n",
              "고구마공작소           8.000000e+00\n",
              "사람과 사람들          4.200000e+01\n",
              "위드시네마            4.600000e+01\n",
              "나우콘텐츠            5.400000e+01\n",
              "...                       ...\n",
              "영구아트무비           2.541603e+06\n",
              "쇼박스(주)미디어플렉스     2.634823e+06\n",
              "(주)아이필름코퍼레이션     3.117859e+06\n",
              "(주)쇼박스           3.386656e+06\n",
              "CJ E&M Pictures  4.122337e+06\n",
              "\n",
              "[169 rows x 1 columns]"
            ],
            "text/html": [
              "\n",
              "  <div id=\"df-aea2c3a4-965e-4e0c-a80a-775fb30a9f40\">\n",
              "    <div class=\"colab-df-container\">\n",
              "      <div>\n",
              "<style scoped>\n",
              "    .dataframe tbody tr th:only-of-type {\n",
              "        vertical-align: middle;\n",
              "    }\n",
              "\n",
              "    .dataframe tbody tr th {\n",
              "        vertical-align: top;\n",
              "    }\n",
              "\n",
              "    .dataframe thead th {\n",
              "        text-align: right;\n",
              "    }\n",
              "</style>\n",
              "<table border=\"1\" class=\"dataframe\">\n",
              "  <thead>\n",
              "    <tr style=\"text-align: right;\">\n",
              "      <th></th>\n",
              "      <th>box_off_num</th>\n",
              "    </tr>\n",
              "    <tr>\n",
              "      <th>distributor</th>\n",
              "      <th></th>\n",
              "    </tr>\n",
              "  </thead>\n",
              "  <tbody>\n",
              "    <tr>\n",
              "      <th>인피니티엔터테인먼트</th>\n",
              "      <td>2.000000e+00</td>\n",
              "    </tr>\n",
              "    <tr>\n",
              "      <th>고구마공작소</th>\n",
              "      <td>8.000000e+00</td>\n",
              "    </tr>\n",
              "    <tr>\n",
              "      <th>사람과 사람들</th>\n",
              "      <td>4.200000e+01</td>\n",
              "    </tr>\n",
              "    <tr>\n",
              "      <th>위드시네마</th>\n",
              "      <td>4.600000e+01</td>\n",
              "    </tr>\n",
              "    <tr>\n",
              "      <th>나우콘텐츠</th>\n",
              "      <td>5.400000e+01</td>\n",
              "    </tr>\n",
              "    <tr>\n",
              "      <th>...</th>\n",
              "      <td>...</td>\n",
              "    </tr>\n",
              "    <tr>\n",
              "      <th>영구아트무비</th>\n",
              "      <td>2.541603e+06</td>\n",
              "    </tr>\n",
              "    <tr>\n",
              "      <th>쇼박스(주)미디어플렉스</th>\n",
              "      <td>2.634823e+06</td>\n",
              "    </tr>\n",
              "    <tr>\n",
              "      <th>(주)아이필름코퍼레이션</th>\n",
              "      <td>3.117859e+06</td>\n",
              "    </tr>\n",
              "    <tr>\n",
              "      <th>(주)쇼박스</th>\n",
              "      <td>3.386656e+06</td>\n",
              "    </tr>\n",
              "    <tr>\n",
              "      <th>CJ E&amp;M Pictures</th>\n",
              "      <td>4.122337e+06</td>\n",
              "    </tr>\n",
              "  </tbody>\n",
              "</table>\n",
              "<p>169 rows × 1 columns</p>\n",
              "</div>\n",
              "      <button class=\"colab-df-convert\" onclick=\"convertToInteractive('df-aea2c3a4-965e-4e0c-a80a-775fb30a9f40')\"\n",
              "              title=\"Convert this dataframe to an interactive table.\"\n",
              "              style=\"display:none;\">\n",
              "        \n",
              "  <svg xmlns=\"http://www.w3.org/2000/svg\" height=\"24px\"viewBox=\"0 0 24 24\"\n",
              "       width=\"24px\">\n",
              "    <path d=\"M0 0h24v24H0V0z\" fill=\"none\"/>\n",
              "    <path d=\"M18.56 5.44l.94 2.06.94-2.06 2.06-.94-2.06-.94-.94-2.06-.94 2.06-2.06.94zm-11 1L8.5 8.5l.94-2.06 2.06-.94-2.06-.94L8.5 2.5l-.94 2.06-2.06.94zm10 10l.94 2.06.94-2.06 2.06-.94-2.06-.94-.94-2.06-.94 2.06-2.06.94z\"/><path d=\"M17.41 7.96l-1.37-1.37c-.4-.4-.92-.59-1.43-.59-.52 0-1.04.2-1.43.59L10.3 9.45l-7.72 7.72c-.78.78-.78 2.05 0 2.83L4 21.41c.39.39.9.59 1.41.59.51 0 1.02-.2 1.41-.59l7.78-7.78 2.81-2.81c.8-.78.8-2.07 0-2.86zM5.41 20L4 18.59l7.72-7.72 1.47 1.35L5.41 20z\"/>\n",
              "  </svg>\n",
              "      </button>\n",
              "      \n",
              "  <style>\n",
              "    .colab-df-container {\n",
              "      display:flex;\n",
              "      flex-wrap:wrap;\n",
              "      gap: 12px;\n",
              "    }\n",
              "\n",
              "    .colab-df-convert {\n",
              "      background-color: #E8F0FE;\n",
              "      border: none;\n",
              "      border-radius: 50%;\n",
              "      cursor: pointer;\n",
              "      display: none;\n",
              "      fill: #1967D2;\n",
              "      height: 32px;\n",
              "      padding: 0 0 0 0;\n",
              "      width: 32px;\n",
              "    }\n",
              "\n",
              "    .colab-df-convert:hover {\n",
              "      background-color: #E2EBFA;\n",
              "      box-shadow: 0px 1px 2px rgba(60, 64, 67, 0.3), 0px 1px 3px 1px rgba(60, 64, 67, 0.15);\n",
              "      fill: #174EA6;\n",
              "    }\n",
              "\n",
              "    [theme=dark] .colab-df-convert {\n",
              "      background-color: #3B4455;\n",
              "      fill: #D2E3FC;\n",
              "    }\n",
              "\n",
              "    [theme=dark] .colab-df-convert:hover {\n",
              "      background-color: #434B5C;\n",
              "      box-shadow: 0px 1px 3px 1px rgba(0, 0, 0, 0.15);\n",
              "      filter: drop-shadow(0px 1px 2px rgba(0, 0, 0, 0.3));\n",
              "      fill: #FFFFFF;\n",
              "    }\n",
              "  </style>\n",
              "\n",
              "      <script>\n",
              "        const buttonEl =\n",
              "          document.querySelector('#df-aea2c3a4-965e-4e0c-a80a-775fb30a9f40 button.colab-df-convert');\n",
              "        buttonEl.style.display =\n",
              "          google.colab.kernel.accessAllowed ? 'block' : 'none';\n",
              "\n",
              "        async function convertToInteractive(key) {\n",
              "          const element = document.querySelector('#df-aea2c3a4-965e-4e0c-a80a-775fb30a9f40');\n",
              "          const dataTable =\n",
              "            await google.colab.kernel.invokeFunction('convertToInteractive',\n",
              "                                                     [key], {});\n",
              "          if (!dataTable) return;\n",
              "\n",
              "          const docLinkHtml = 'Like what you see? Visit the ' +\n",
              "            '<a target=\"_blank\" href=https://colab.research.google.com/notebooks/data_table.ipynb>data table notebook</a>'\n",
              "            + ' to learn more about interactive tables.';\n",
              "          element.innerHTML = '';\n",
              "          dataTable['output_type'] = 'display_data';\n",
              "          await google.colab.output.renderOutput(dataTable, element);\n",
              "          const docLink = document.createElement('div');\n",
              "          docLink.innerHTML = docLinkHtml;\n",
              "          element.appendChild(docLink);\n",
              "        }\n",
              "      </script>\n",
              "    </div>\n",
              "  </div>\n",
              "  "
            ]
          },
          "metadata": {},
          "execution_count": 225
        }
      ]
    },
    {
      "cell_type": "markdown",
      "source": [
        "### 2.4.1 배급사데이터 중복 확인"
      ],
      "metadata": {
        "id": "g8tMZ-Nfa8dc"
      }
    },
    {
      "cell_type": "code",
      "source": [
        "dist_common = list(set(df_train['distributor']) & set(df_test['distributor']))\n",
        "print(len(dist_common))\n",
        "# & 연산자를 사용하여 둘다 있을떄를 True로 하고 출력\n",
        "\n",
        "# train에만 존재하는 배급사 확인\n",
        "dist_only_train = list(set(df_train['distributor']) - set(df_test['distributor']))\n",
        "print(len(dist_only_train))\n",
        "\n",
        "# test에만 존재하는 배급사 확인\n",
        "dist_only_test = list(set(df_test['distributor']) - set(df_train['distributor']))\n",
        "print(len(dist_only_test))"
      ],
      "metadata": {
        "colab": {
          "base_uri": "https://localhost:8080/"
        },
        "id": "a1WKBvwCau3M",
        "outputId": "7d21d7a4-022d-45b4-e431-bece975003de"
      },
      "execution_count": 226,
      "outputs": [
        {
          "output_type": "stream",
          "name": "stdout",
          "text": [
            "58\n",
            "111\n",
            "35\n"
          ]
        }
      ]
    },
    {
      "cell_type": "code",
      "source": [
        "df_train[\"distributor\"].value_counts()"
      ],
      "metadata": {
        "colab": {
          "base_uri": "https://localhost:8080/"
        },
        "id": "lI7Xe1BkzTIW",
        "outputId": "5c513717-66d3-45f7-bf98-03cd645dd07f"
      },
      "execution_count": 227,
      "outputs": [
        {
          "output_type": "execute_result",
          "data": {
            "text/plain": [
              "CJ 엔터테인먼트        54\n",
              "롯데엔터테인먼트         52\n",
              "(주)NEW           30\n",
              "(주)마운틴픽쳐스        29\n",
              "(주)쇼박스           26\n",
              "                 ..\n",
              "OAL(올)            1\n",
              "(주)에이원 엔터테인먼트     1\n",
              "(주)콘텐츠 윙          1\n",
              "위더스필름             1\n",
              "퍼스트런              1\n",
              "Name: distributor, Length: 169, dtype: int64"
            ]
          },
          "metadata": {},
          "execution_count": 227
        }
      ]
    },
    {
      "cell_type": "markdown",
      "source": [
        "### 2.4.2 배급사 중복 처리"
      ],
      "metadata": {
        "id": "SzWhmL-_17Vk"
      }
    },
    {
      "cell_type": "markdown",
      "source": [
        "#### 2.4.2.1 겹치지않는 배급사 정렬"
      ],
      "metadata": {
        "id": "-G2YXgrV82su"
      }
    },
    {
      "cell_type": "code",
      "source": [
        "dist_seem = set(df_train['distributor']) - set(dist_common)\n",
        "a = list(dist_seem)\n",
        "print(len(dist_seem))\n",
        "a.sort()\n",
        "print(a)"
      ],
      "metadata": {
        "colab": {
          "base_uri": "https://localhost:8080/"
        },
        "id": "7-HvYIOcp_XK",
        "outputId": "330c558c-0b6e-4914-c4f5-b6912daf11f0"
      },
      "execution_count": 228,
      "outputs": [
        {
          "output_type": "stream",
          "name": "stdout",
          "text": [
            "111\n",
            "['(주) 브릿지웍스', '(주)JK필름', '(주)고앤고 필름', '(주)대명문화공장', '(주)더픽쳐스', '(주)드림팩트엔터테인먼트', '(주)랠리버튼', '(주)레인보우 팩토리', '(주)로드하우스', '(주)리틀빅픽처스', '(주)마인스엔터테인먼트', '(주)스마일이엔티', '(주)시네마달', '(주)씨엠닉스', '(주)아우라픽처스', '(주)아이필름코퍼레이션', '(주)온비즈넷', '(주)유비네트워크', '(주)유비콘텐츠', '(주)이스트스카이필름', '(주)콘텐츠 윙', '(주)팝 파트너스', '(주)패뷸러스', '(주)패스파인더씨앤씨', '(주)프레인글로벌', '(주)피터팬픽쳐스', '(주)휘엔터테인먼트', 'CGV 무비꼴라쥬', 'CGV 아트하우스', 'CJ CGV', 'CJ E&M 영화부문', 'KBS미디어(주)', 'KT', 'M2픽처스', 'OAL(올)', 'SK텔레콤(주)', 'SK플래닛', 'THE 픽쳐스', 'tvN', 'ysfilm', '건시네마', '고구마공작소', '김기덕 필름', '나우콘텐츠', '더 피플', '더픽쳐스/(주)마운틴픽쳐스', '동국대학교 충무로영상제작센터', '두 엔터테인먼트', '드림팩트 엔터테인먼트', '디 씨드', '디마엔터테인먼트', '롤러코스터 프로덕션', '리틀빅픽쳐스', '마노엔터테인먼트', '마법사필름', '마운틴 픽처스', '머스트 씨 무비', '미라클 필름', '백두대간', '보람엔터테인먼트', '사람과 사람들', '상구네 필름', '새인컴퍼니', '서울독립영화제', '스크린조이', '스튜디오 느림보', '스튜디오 블루', '스튜디오후크', '스폰지', '싸이더스 FNH', '싸이더스FNH', '아방가르드 필름', '어썸 피플', '에스와이코마드', '에스피엠', '에이블엔터테인먼트', '영구아트무비', '영화사 廊', '영화사 조아', '영희야놀자', '와이드 릴리즈(주)', '와이드릴리즈(주)', '위더스필름', '유니버설픽쳐스인터내셔널코리아', '이달투', '이모션 픽처스', '이상우필름', '인터콘미디어', '인피니티엔터테인먼트', '쟈비스미디어', '전망좋은영화사', '전주국제영화제', '제나두 엔터테인먼트', '조이앤시네마', '조이앤컨텐츠그룹', '주머니필름', '찬란', '케이엠스타', '콘텐츠판다', '키노엔터테인먼트', '파이오니아21', '판다미디어', '판씨네마(주)', '팜코리아미디어', '퍼스트런', '프로젝트 엠피', '프리비젼 엔터테인먼트', '필름라인', '한국YWCA연합회', '홀리가든', '화앤담이엔티']\n"
          ]
        }
      ]
    },
    {
      "cell_type": "markdown",
      "source": [
        "#### 2.4.2.2 배급사명의 있는 (주) 빼기"
      ],
      "metadata": {
        "id": "gvrZoW4A_nCg"
      }
    },
    {
      "cell_type": "code",
      "source": [
        "import re\n",
        "df_train['distributor'] = df_train.distributor.str.replace('(주)', ' ')\n",
        "df_train['distributor'] = [re.sub(r'[^0-9a-zA-Z가-힣]', '', x) for x in df_train.distributor]"
      ],
      "metadata": {
        "colab": {
          "base_uri": "https://localhost:8080/"
        },
        "id": "-_ZCR7NXop5D",
        "outputId": "60c4e19c-f81d-45bd-9e6f-993ed3c4ec62"
      },
      "execution_count": 229,
      "outputs": [
        {
          "output_type": "stream",
          "name": "stderr",
          "text": [
            "/usr/local/lib/python3.7/dist-packages/ipykernel_launcher.py:2: FutureWarning: The default value of regex will change from True to False in a future version.\n",
            "  \n"
          ]
        }
      ]
    },
    {
      "cell_type": "code",
      "source": [
        "df_test['distributor'] = df_test.distributor.str.replace('(주)', ' ')\n",
        "df_test['distributor'] = [re.sub(r'[^0-9a-zA-Z가-힣]', '', x) for x in df_test.distributor]"
      ],
      "metadata": {
        "colab": {
          "base_uri": "https://localhost:8080/"
        },
        "id": "pB1grN-qAyJi",
        "outputId": "9ed2878e-a78f-4e6f-ea82-b8a424331774"
      },
      "execution_count": 230,
      "outputs": [
        {
          "output_type": "stream",
          "name": "stderr",
          "text": [
            "/usr/local/lib/python3.7/dist-packages/ipykernel_launcher.py:1: FutureWarning: The default value of regex will change from True to False in a future version.\n",
            "  \"\"\"Entry point for launching an IPython kernel.\n"
          ]
        }
      ]
    },
    {
      "cell_type": "code",
      "source": [
        "df_train[\"distributor\"]"
      ],
      "metadata": {
        "colab": {
          "base_uri": "https://localhost:8080/"
        },
        "id": "1cmOCiIxo8Uf",
        "outputId": "e8639c15-a9ea-40f9-a681-59b71cf9c33e"
      },
      "execution_count": 231,
      "outputs": [
        {
          "output_type": "execute_result",
          "data": {
            "text/plain": [
              "0       롯데엔터테인먼트\n",
              "1            쇼박스\n",
              "2            쇼박스\n",
              "3            NEW\n",
              "4      쇼박스미디어플렉스\n",
              "         ...    \n",
              "595          NEW\n",
              "596          쇼박스\n",
              "597       마운틴픽쳐스\n",
              "598     CJ엔터테인먼트\n",
              "599     CJ엔터테인먼트\n",
              "Name: distributor, Length: 600, dtype: object"
            ]
          },
          "metadata": {},
          "execution_count": 231
        }
      ]
    },
    {
      "cell_type": "markdown",
      "source": [
        "#### 2.4.2.3 유사한 회사 하나로 묶기"
      ],
      "metadata": {
        "id": "KUvP8FBJ9DlQ"
      }
    },
    {
      "cell_type": "code",
      "source": [
        "def get_dist(x):\n",
        "      if 'CJ' in x or 'CGV' in x or 'tvn' in x :\n",
        "        return 'CJ'\n",
        "      elif 'KT' in x:\n",
        "        return 'KT'\n",
        "      elif 'SK' in x:\n",
        "        return 'SK'\n",
        "      elif 'THE픽쳐스'in x or '더픽쳐스' in x:\n",
        "        return '픽쳐스'\n",
        "      elif '스폰지' in x :\n",
        "        return '스폰지'\n",
        "      elif '싸이더스' in x :\n",
        "        return '싸이더스'\n",
        "      elif '드림팩트' in x :\n",
        "        return '드림팩트'\n",
        "      elif '마운틴' in x:\n",
        "        return '마운틴'\n",
        "      elif '메가박스' in x:\n",
        "        return '메가박스'\n",
        "      elif '쇼박스' in x:\n",
        "        return '쇼박스'\n",
        "      elif '조이' in x:\n",
        "        return '조이'\n",
        "      elif '키노' in x:\n",
        "        return '키노'\n",
        "      else : \n",
        "        return x"
      ],
      "metadata": {
        "id": "8HebdYl8yguE"
      },
      "execution_count": 232,
      "outputs": []
    },
    {
      "cell_type": "code",
      "source": [
        "df_train['distributor'] = df_train.distributor.apply(get_dist)\n",
        "df_test['distributor'] = df_test.distributor.apply(get_dist)"
      ],
      "metadata": {
        "id": "MFxCYQqG_9KG"
      },
      "execution_count": 233,
      "outputs": []
    },
    {
      "cell_type": "code",
      "source": [
        "df_train['distributor'].tail(20)"
      ],
      "metadata": {
        "colab": {
          "base_uri": "https://localhost:8080/"
        },
        "id": "7qMNIXXuAp2x",
        "outputId": "df9b0b55-8eac-47ef-c830-f330545ace35"
      },
      "execution_count": 234,
      "outputs": [
        {
          "output_type": "execute_result",
          "data": {
            "text/plain": [
              "580           CJ\n",
              "581        인디플러그\n",
              "582          NEW\n",
              "583    마인스엔터테인먼트\n",
              "584          시너지\n",
              "585        인디플러그\n",
              "586     마노엔터테인먼트\n",
              "587        영화사조제\n",
              "588           CJ\n",
              "589          쇼박스\n",
              "590           CJ\n",
              "591    씨너스엔터테인먼트\n",
              "592           CJ\n",
              "593         퍼스트런\n",
              "594          마운틴\n",
              "595          NEW\n",
              "596          쇼박스\n",
              "597          마운틴\n",
              "598           CJ\n",
              "599           CJ\n",
              "Name: distributor, dtype: object"
            ]
          },
          "metadata": {},
          "execution_count": 234
        }
      ]
    },
    {
      "cell_type": "code",
      "source": [
        "df_test.info()"
      ],
      "metadata": {
        "colab": {
          "base_uri": "https://localhost:8080/"
        },
        "id": "BeekKpLourtk",
        "outputId": "fc092047-7647-48ee-dda2-11cbf0e70548"
      },
      "execution_count": 235,
      "outputs": [
        {
          "output_type": "stream",
          "name": "stdout",
          "text": [
            "<class 'pandas.core.frame.DataFrame'>\n",
            "RangeIndex: 243 entries, 0 to 242\n",
            "Data columns (total 10 columns):\n",
            " #   Column          Non-Null Count  Dtype  \n",
            "---  ------          --------------  -----  \n",
            " 0   distributor     243 non-null    object \n",
            " 1   genre           243 non-null    object \n",
            " 2   release_time    243 non-null    object \n",
            " 3   time            243 non-null    int64  \n",
            " 4   screening_rat   243 non-null    object \n",
            " 5   director        243 non-null    object \n",
            " 6   dir_prev_bfnum  243 non-null    float64\n",
            " 7   dir_prev_num    243 non-null    int64  \n",
            " 8   num_staff       243 non-null    int64  \n",
            " 9   num_actor       243 non-null    int64  \n",
            "dtypes: float64(1), int64(4), object(5)\n",
            "memory usage: 19.1+ KB\n"
          ]
        }
      ]
    },
    {
      "cell_type": "markdown",
      "source": [
        "#### 2.4.2.4배급사별 영화 관객수 중위값 기준으로 배급사 랭크 인코딩"
      ],
      "metadata": {
        "id": "IYYNiwjkCKAz"
      }
    },
    {
      "cell_type": "code",
      "source": [
        "df_train.groupby('distributor').box_off_num.mean().sort_values()"
      ],
      "metadata": {
        "colab": {
          "base_uri": "https://localhost:8080/"
        },
        "id": "L8G3VMrFB4Q8",
        "outputId": "8c3786fa-b0c6-40a7-b6ae-c850aaa825b8"
      },
      "execution_count": 236,
      "outputs": [
        {
          "output_type": "execute_result",
          "data": {
            "text/plain": [
              "distributor\n",
              "인피니티엔터테인먼트    2.000000e+00\n",
              "고구마공작소        8.000000e+00\n",
              "사람과사람들        4.200000e+01\n",
              "위드시네마         4.600000e+01\n",
              "나우콘텐츠         5.400000e+01\n",
              "                  ...     \n",
              "NEW           1.939060e+06\n",
              "CJ            2.066506e+06\n",
              "영구아트무비        2.541603e+06\n",
              "아이필름코퍼레이션     3.117859e+06\n",
              "쇼박스           3.332954e+06\n",
              "Name: box_off_num, Length: 143, dtype: float64"
            ]
          },
          "metadata": {},
          "execution_count": 236
        }
      ]
    },
    {
      "cell_type": "code",
      "source": [
        "tr_nm_rank = df_train.groupby('distributor').box_off_num.median().reset_index(name = 'dist_num_rank').sort_values(by = 'dist_num_rank')\n",
        "tr_nm_rank   "
      ],
      "metadata": {
        "colab": {
          "base_uri": "https://localhost:8080/",
          "height": 424
        },
        "id": "_14J7foIyBH5",
        "outputId": "3d1ee570-b94a-4fcf-8acb-290499a9e648"
      },
      "execution_count": 237,
      "outputs": [
        {
          "output_type": "execute_result",
          "data": {
            "text/plain": [
              "    distributor  dist_num_rank\n",
              "107  인피니티엔터테인먼트            2.0\n",
              "13       고구마공작소            8.0\n",
              "50       사람과사람들           42.0\n",
              "94        위드시네마           46.0\n",
              "17        나우콘텐츠           54.0\n",
              "..          ...            ...\n",
              "110     전망좋은영화사      1214237.0\n",
              "102   이십세기폭스코리아      1422844.0\n",
              "54          쇼박스      2138560.0\n",
              "81       영구아트무비      2541603.0\n",
              "72    아이필름코퍼레이션      3117859.0\n",
              "\n",
              "[143 rows x 2 columns]"
            ],
            "text/html": [
              "\n",
              "  <div id=\"df-89232dc9-73aa-4878-8174-c038060d6ef0\">\n",
              "    <div class=\"colab-df-container\">\n",
              "      <div>\n",
              "<style scoped>\n",
              "    .dataframe tbody tr th:only-of-type {\n",
              "        vertical-align: middle;\n",
              "    }\n",
              "\n",
              "    .dataframe tbody tr th {\n",
              "        vertical-align: top;\n",
              "    }\n",
              "\n",
              "    .dataframe thead th {\n",
              "        text-align: right;\n",
              "    }\n",
              "</style>\n",
              "<table border=\"1\" class=\"dataframe\">\n",
              "  <thead>\n",
              "    <tr style=\"text-align: right;\">\n",
              "      <th></th>\n",
              "      <th>distributor</th>\n",
              "      <th>dist_num_rank</th>\n",
              "    </tr>\n",
              "  </thead>\n",
              "  <tbody>\n",
              "    <tr>\n",
              "      <th>107</th>\n",
              "      <td>인피니티엔터테인먼트</td>\n",
              "      <td>2.0</td>\n",
              "    </tr>\n",
              "    <tr>\n",
              "      <th>13</th>\n",
              "      <td>고구마공작소</td>\n",
              "      <td>8.0</td>\n",
              "    </tr>\n",
              "    <tr>\n",
              "      <th>50</th>\n",
              "      <td>사람과사람들</td>\n",
              "      <td>42.0</td>\n",
              "    </tr>\n",
              "    <tr>\n",
              "      <th>94</th>\n",
              "      <td>위드시네마</td>\n",
              "      <td>46.0</td>\n",
              "    </tr>\n",
              "    <tr>\n",
              "      <th>17</th>\n",
              "      <td>나우콘텐츠</td>\n",
              "      <td>54.0</td>\n",
              "    </tr>\n",
              "    <tr>\n",
              "      <th>...</th>\n",
              "      <td>...</td>\n",
              "      <td>...</td>\n",
              "    </tr>\n",
              "    <tr>\n",
              "      <th>110</th>\n",
              "      <td>전망좋은영화사</td>\n",
              "      <td>1214237.0</td>\n",
              "    </tr>\n",
              "    <tr>\n",
              "      <th>102</th>\n",
              "      <td>이십세기폭스코리아</td>\n",
              "      <td>1422844.0</td>\n",
              "    </tr>\n",
              "    <tr>\n",
              "      <th>54</th>\n",
              "      <td>쇼박스</td>\n",
              "      <td>2138560.0</td>\n",
              "    </tr>\n",
              "    <tr>\n",
              "      <th>81</th>\n",
              "      <td>영구아트무비</td>\n",
              "      <td>2541603.0</td>\n",
              "    </tr>\n",
              "    <tr>\n",
              "      <th>72</th>\n",
              "      <td>아이필름코퍼레이션</td>\n",
              "      <td>3117859.0</td>\n",
              "    </tr>\n",
              "  </tbody>\n",
              "</table>\n",
              "<p>143 rows × 2 columns</p>\n",
              "</div>\n",
              "      <button class=\"colab-df-convert\" onclick=\"convertToInteractive('df-89232dc9-73aa-4878-8174-c038060d6ef0')\"\n",
              "              title=\"Convert this dataframe to an interactive table.\"\n",
              "              style=\"display:none;\">\n",
              "        \n",
              "  <svg xmlns=\"http://www.w3.org/2000/svg\" height=\"24px\"viewBox=\"0 0 24 24\"\n",
              "       width=\"24px\">\n",
              "    <path d=\"M0 0h24v24H0V0z\" fill=\"none\"/>\n",
              "    <path d=\"M18.56 5.44l.94 2.06.94-2.06 2.06-.94-2.06-.94-.94-2.06-.94 2.06-2.06.94zm-11 1L8.5 8.5l.94-2.06 2.06-.94-2.06-.94L8.5 2.5l-.94 2.06-2.06.94zm10 10l.94 2.06.94-2.06 2.06-.94-2.06-.94-.94-2.06-.94 2.06-2.06.94z\"/><path d=\"M17.41 7.96l-1.37-1.37c-.4-.4-.92-.59-1.43-.59-.52 0-1.04.2-1.43.59L10.3 9.45l-7.72 7.72c-.78.78-.78 2.05 0 2.83L4 21.41c.39.39.9.59 1.41.59.51 0 1.02-.2 1.41-.59l7.78-7.78 2.81-2.81c.8-.78.8-2.07 0-2.86zM5.41 20L4 18.59l7.72-7.72 1.47 1.35L5.41 20z\"/>\n",
              "  </svg>\n",
              "      </button>\n",
              "      \n",
              "  <style>\n",
              "    .colab-df-container {\n",
              "      display:flex;\n",
              "      flex-wrap:wrap;\n",
              "      gap: 12px;\n",
              "    }\n",
              "\n",
              "    .colab-df-convert {\n",
              "      background-color: #E8F0FE;\n",
              "      border: none;\n",
              "      border-radius: 50%;\n",
              "      cursor: pointer;\n",
              "      display: none;\n",
              "      fill: #1967D2;\n",
              "      height: 32px;\n",
              "      padding: 0 0 0 0;\n",
              "      width: 32px;\n",
              "    }\n",
              "\n",
              "    .colab-df-convert:hover {\n",
              "      background-color: #E2EBFA;\n",
              "      box-shadow: 0px 1px 2px rgba(60, 64, 67, 0.3), 0px 1px 3px 1px rgba(60, 64, 67, 0.15);\n",
              "      fill: #174EA6;\n",
              "    }\n",
              "\n",
              "    [theme=dark] .colab-df-convert {\n",
              "      background-color: #3B4455;\n",
              "      fill: #D2E3FC;\n",
              "    }\n",
              "\n",
              "    [theme=dark] .colab-df-convert:hover {\n",
              "      background-color: #434B5C;\n",
              "      box-shadow: 0px 1px 3px 1px rgba(0, 0, 0, 0.15);\n",
              "      filter: drop-shadow(0px 1px 2px rgba(0, 0, 0, 0.3));\n",
              "      fill: #FFFFFF;\n",
              "    }\n",
              "  </style>\n",
              "\n",
              "      <script>\n",
              "        const buttonEl =\n",
              "          document.querySelector('#df-89232dc9-73aa-4878-8174-c038060d6ef0 button.colab-df-convert');\n",
              "        buttonEl.style.display =\n",
              "          google.colab.kernel.accessAllowed ? 'block' : 'none';\n",
              "\n",
              "        async function convertToInteractive(key) {\n",
              "          const element = document.querySelector('#df-89232dc9-73aa-4878-8174-c038060d6ef0');\n",
              "          const dataTable =\n",
              "            await google.colab.kernel.invokeFunction('convertToInteractive',\n",
              "                                                     [key], {});\n",
              "          if (!dataTable) return;\n",
              "\n",
              "          const docLinkHtml = 'Like what you see? Visit the ' +\n",
              "            '<a target=\"_blank\" href=https://colab.research.google.com/notebooks/data_table.ipynb>data table notebook</a>'\n",
              "            + ' to learn more about interactive tables.';\n",
              "          element.innerHTML = '';\n",
              "          dataTable['output_type'] = 'display_data';\n",
              "          await google.colab.output.renderOutput(dataTable, element);\n",
              "          const docLink = document.createElement('div');\n",
              "          docLink.innerHTML = docLinkHtml;\n",
              "          element.appendChild(docLink);\n",
              "        }\n",
              "      </script>\n",
              "    </div>\n",
              "  </div>\n",
              "  "
            ]
          },
          "metadata": {},
          "execution_count": 237
        }
      ]
    },
    {
      "cell_type": "code",
      "source": [
        "df_test.info()"
      ],
      "metadata": {
        "colab": {
          "base_uri": "https://localhost:8080/"
        },
        "id": "yuwDI6FPx9Gb",
        "outputId": "bf1c9770-bbe4-409f-934e-a53a7d490227"
      },
      "execution_count": 238,
      "outputs": [
        {
          "output_type": "stream",
          "name": "stdout",
          "text": [
            "<class 'pandas.core.frame.DataFrame'>\n",
            "RangeIndex: 243 entries, 0 to 242\n",
            "Data columns (total 10 columns):\n",
            " #   Column          Non-Null Count  Dtype  \n",
            "---  ------          --------------  -----  \n",
            " 0   distributor     243 non-null    object \n",
            " 1   genre           243 non-null    object \n",
            " 2   release_time    243 non-null    object \n",
            " 3   time            243 non-null    int64  \n",
            " 4   screening_rat   243 non-null    object \n",
            " 5   director        243 non-null    object \n",
            " 6   dir_prev_bfnum  243 non-null    float64\n",
            " 7   dir_prev_num    243 non-null    int64  \n",
            " 8   num_staff       243 non-null    int64  \n",
            " 9   num_actor       243 non-null    int64  \n",
            "dtypes: float64(1), int64(4), object(5)\n",
            "memory usage: 19.1+ KB\n"
          ]
        }
      ]
    },
    {
      "cell_type": "code",
      "source": [
        "tr_nm_rank['dist_num_rank'] = [i + 1 for i in range(tr_nm_rank.shape[0])]"
      ],
      "metadata": {
        "id": "SlL0Yax8-x1Z"
      },
      "execution_count": 239,
      "outputs": []
    },
    {
      "cell_type": "code",
      "source": [
        "df_train = pd.merge(df_train, tr_nm_rank,how = 'left')\n",
        "df_test = pd.merge(df_test, tr_nm_rank, how = 'left')"
      ],
      "metadata": {
        "id": "hBt0pu39vkTy"
      },
      "execution_count": 240,
      "outputs": []
    },
    {
      "cell_type": "code",
      "source": [
        "df_test.info()"
      ],
      "metadata": {
        "colab": {
          "base_uri": "https://localhost:8080/"
        },
        "id": "WX1f7EDEziLj",
        "outputId": "dfae44cc-329b-465c-db93-8591077e37a3"
      },
      "execution_count": 241,
      "outputs": [
        {
          "output_type": "stream",
          "name": "stdout",
          "text": [
            "<class 'pandas.core.frame.DataFrame'>\n",
            "Int64Index: 243 entries, 0 to 242\n",
            "Data columns (total 11 columns):\n",
            " #   Column          Non-Null Count  Dtype  \n",
            "---  ------          --------------  -----  \n",
            " 0   distributor     243 non-null    object \n",
            " 1   genre           243 non-null    object \n",
            " 2   release_time    243 non-null    object \n",
            " 3   time            243 non-null    int64  \n",
            " 4   screening_rat   243 non-null    object \n",
            " 5   director        243 non-null    object \n",
            " 6   dir_prev_bfnum  243 non-null    float64\n",
            " 7   dir_prev_num    243 non-null    int64  \n",
            " 8   num_staff       243 non-null    int64  \n",
            " 9   num_actor       243 non-null    int64  \n",
            " 10  dist_num_rank   212 non-null    float64\n",
            "dtypes: float64(2), int64(4), object(5)\n",
            "memory usage: 22.8+ KB\n"
          ]
        }
      ]
    },
    {
      "cell_type": "markdown",
      "source": [
        "학습도중 test와 submission 에 인덱스개수가 일치하지 않는 것을 발견하고 결측치를 0으로 채움"
      ],
      "metadata": {
        "id": "PQNyOkF3wpBR"
      }
    },
    {
      "cell_type": "code",
      "source": [
        "df_test.fillna(0, inplace = True) "
      ],
      "metadata": {
        "id": "YxlRDi8owbn2"
      },
      "execution_count": 242,
      "outputs": []
    },
    {
      "cell_type": "code",
      "source": [
        "df_test.info()"
      ],
      "metadata": {
        "colab": {
          "base_uri": "https://localhost:8080/"
        },
        "id": "ChxeHDcju2oP",
        "outputId": "64cb94a9-d907-450d-8bd0-2189d92ff64c"
      },
      "execution_count": 243,
      "outputs": [
        {
          "output_type": "stream",
          "name": "stdout",
          "text": [
            "<class 'pandas.core.frame.DataFrame'>\n",
            "Int64Index: 243 entries, 0 to 242\n",
            "Data columns (total 11 columns):\n",
            " #   Column          Non-Null Count  Dtype  \n",
            "---  ------          --------------  -----  \n",
            " 0   distributor     243 non-null    object \n",
            " 1   genre           243 non-null    object \n",
            " 2   release_time    243 non-null    object \n",
            " 3   time            243 non-null    int64  \n",
            " 4   screening_rat   243 non-null    object \n",
            " 5   director        243 non-null    object \n",
            " 6   dir_prev_bfnum  243 non-null    float64\n",
            " 7   dir_prev_num    243 non-null    int64  \n",
            " 8   num_staff       243 non-null    int64  \n",
            " 9   num_actor       243 non-null    int64  \n",
            " 10  dist_num_rank   243 non-null    float64\n",
            "dtypes: float64(2), int64(4), object(5)\n",
            "memory usage: 22.8+ KB\n"
          ]
        }
      ]
    },
    {
      "cell_type": "markdown",
      "source": [
        ""
      ],
      "metadata": {
        "id": "E9yhtdLlxPsB"
      }
    },
    {
      "cell_type": "code",
      "source": [
        "df_train['dist_num_rank']"
      ],
      "metadata": {
        "colab": {
          "base_uri": "https://localhost:8080/"
        },
        "id": "CZetqy7lvQeK",
        "outputId": "d4a48021-9e15-42d8-cefd-0d85baddd580"
      },
      "execution_count": 244,
      "outputs": [
        {
          "output_type": "execute_result",
          "data": {
            "text/plain": [
              "0      130\n",
              "1      141\n",
              "2      141\n",
              "3      136\n",
              "4      141\n",
              "      ... \n",
              "595    136\n",
              "596    141\n",
              "597     45\n",
              "598    137\n",
              "599    137\n",
              "Name: dist_num_rank, Length: 600, dtype: int64"
            ]
          },
          "metadata": {},
          "execution_count": 244
        }
      ]
    },
    {
      "cell_type": "code",
      "source": [
        "df_test['dist_num_rank']"
      ],
      "metadata": {
        "colab": {
          "base_uri": "https://localhost:8080/"
        },
        "id": "z7N6RFE9wPjt",
        "outputId": "cc37f6e4-a439-4d36-a300-f18ff072aaf6"
      },
      "execution_count": 245,
      "outputs": [
        {
          "output_type": "execute_result",
          "data": {
            "text/plain": [
              "0      128.0\n",
              "1      141.0\n",
              "2      137.0\n",
              "3      141.0\n",
              "4      137.0\n",
              "       ...  \n",
              "238    109.0\n",
              "239     67.0\n",
              "240      0.0\n",
              "241     45.0\n",
              "242     28.0\n",
              "Name: dist_num_rank, Length: 243, dtype: float64"
            ]
          },
          "metadata": {},
          "execution_count": 245
        }
      ]
    },
    {
      "cell_type": "markdown",
      "source": [
        "### 2.4.5 distributor 제거"
      ],
      "metadata": {
        "id": "ItNNJnoDB3N5"
      }
    },
    {
      "cell_type": "code",
      "source": [
        "df_train.drop(['distributor'],inplace = True, axis = 1)\n",
        "df_test.drop(['distributor'],inplace = True, axis = 1)"
      ],
      "metadata": {
        "id": "Zfq20OgvBn7-"
      },
      "execution_count": 246,
      "outputs": []
    },
    {
      "cell_type": "markdown",
      "source": [
        "## 2.5 genre"
      ],
      "metadata": {
        "id": "zxAAYoghc1j9"
      }
    },
    {
      "cell_type": "code",
      "source": [
        "df_train['genre'].unique()"
      ],
      "metadata": {
        "colab": {
          "base_uri": "https://localhost:8080/"
        },
        "id": "J36gWXc_nZP4",
        "outputId": "961bc8c2-9ad7-421e-b35a-fbc3bbe2dabb"
      },
      "execution_count": 247,
      "outputs": [
        {
          "output_type": "execute_result",
          "data": {
            "text/plain": [
              "array(['액션', '느와르', '코미디', '다큐멘터리', '뮤지컬', '드라마', '멜로/로맨스', '공포', '서스펜스',\n",
              "       '애니메이션', '미스터리', 'SF'], dtype=object)"
            ]
          },
          "metadata": {},
          "execution_count": 247
        }
      ]
    },
    {
      "cell_type": "code",
      "source": [
        "plt.figure(figsize = (12,7))\n",
        "plt.bar(df_train['genre'],df_train['box_off_num'],color = 'y')\n",
        "plt.xticks(rotation = 45)\n",
        "plt.title('장르')\n",
        "plt.rc('font', family='NanumBarunGothic')\n",
        "plt.show()\n",
        "plt.close()"
      ],
      "metadata": {
        "colab": {
          "base_uri": "https://localhost:8080/",
          "height": 1000
        },
        "id": "ZUCgi0B0ynfV",
        "outputId": "d80f4658-0eb7-42f4-ce5f-e5a9610254f9"
      },
      "execution_count": 248,
      "outputs": [
        {
          "output_type": "stream",
          "name": "stderr",
          "text": [
            "/usr/local/lib/python3.7/dist-packages/matplotlib/backends/backend_agg.py:214: RuntimeWarning: Glyph 51109 missing from current font.\n",
            "  font.set_text(s, 0.0, flags=flags)\n",
            "/usr/local/lib/python3.7/dist-packages/matplotlib/backends/backend_agg.py:214: RuntimeWarning: Glyph 47476 missing from current font.\n",
            "  font.set_text(s, 0.0, flags=flags)\n",
            "/usr/local/lib/python3.7/dist-packages/matplotlib/backends/backend_agg.py:214: RuntimeWarning: Glyph 50529 missing from current font.\n",
            "  font.set_text(s, 0.0, flags=flags)\n",
            "/usr/local/lib/python3.7/dist-packages/matplotlib/backends/backend_agg.py:214: RuntimeWarning: Glyph 49496 missing from current font.\n",
            "  font.set_text(s, 0.0, flags=flags)\n",
            "/usr/local/lib/python3.7/dist-packages/matplotlib/backends/backend_agg.py:214: RuntimeWarning: Glyph 45712 missing from current font.\n",
            "  font.set_text(s, 0.0, flags=flags)\n",
            "/usr/local/lib/python3.7/dist-packages/matplotlib/backends/backend_agg.py:214: RuntimeWarning: Glyph 50752 missing from current font.\n",
            "  font.set_text(s, 0.0, flags=flags)\n",
            "/usr/local/lib/python3.7/dist-packages/matplotlib/backends/backend_agg.py:214: RuntimeWarning: Glyph 53076 missing from current font.\n",
            "  font.set_text(s, 0.0, flags=flags)\n",
            "/usr/local/lib/python3.7/dist-packages/matplotlib/backends/backend_agg.py:214: RuntimeWarning: Glyph 48120 missing from current font.\n",
            "  font.set_text(s, 0.0, flags=flags)\n",
            "/usr/local/lib/python3.7/dist-packages/matplotlib/backends/backend_agg.py:214: RuntimeWarning: Glyph 46356 missing from current font.\n",
            "  font.set_text(s, 0.0, flags=flags)\n",
            "/usr/local/lib/python3.7/dist-packages/matplotlib/backends/backend_agg.py:214: RuntimeWarning: Glyph 45796 missing from current font.\n",
            "  font.set_text(s, 0.0, flags=flags)\n",
            "/usr/local/lib/python3.7/dist-packages/matplotlib/backends/backend_agg.py:214: RuntimeWarning: Glyph 53328 missing from current font.\n",
            "  font.set_text(s, 0.0, flags=flags)\n",
            "/usr/local/lib/python3.7/dist-packages/matplotlib/backends/backend_agg.py:214: RuntimeWarning: Glyph 47704 missing from current font.\n",
            "  font.set_text(s, 0.0, flags=flags)\n",
            "/usr/local/lib/python3.7/dist-packages/matplotlib/backends/backend_agg.py:214: RuntimeWarning: Glyph 53552 missing from current font.\n",
            "  font.set_text(s, 0.0, flags=flags)\n",
            "/usr/local/lib/python3.7/dist-packages/matplotlib/backends/backend_agg.py:214: RuntimeWarning: Glyph 47532 missing from current font.\n",
            "  font.set_text(s, 0.0, flags=flags)\n",
            "/usr/local/lib/python3.7/dist-packages/matplotlib/backends/backend_agg.py:214: RuntimeWarning: Glyph 48036 missing from current font.\n",
            "  font.set_text(s, 0.0, flags=flags)\n",
            "/usr/local/lib/python3.7/dist-packages/matplotlib/backends/backend_agg.py:214: RuntimeWarning: Glyph 51648 missing from current font.\n",
            "  font.set_text(s, 0.0, flags=flags)\n",
            "/usr/local/lib/python3.7/dist-packages/matplotlib/backends/backend_agg.py:214: RuntimeWarning: Glyph 52972 missing from current font.\n",
            "  font.set_text(s, 0.0, flags=flags)\n",
            "/usr/local/lib/python3.7/dist-packages/matplotlib/backends/backend_agg.py:214: RuntimeWarning: Glyph 46300 missing from current font.\n",
            "  font.set_text(s, 0.0, flags=flags)\n",
            "/usr/local/lib/python3.7/dist-packages/matplotlib/backends/backend_agg.py:214: RuntimeWarning: Glyph 46972 missing from current font.\n",
            "  font.set_text(s, 0.0, flags=flags)\n",
            "/usr/local/lib/python3.7/dist-packages/matplotlib/backends/backend_agg.py:214: RuntimeWarning: Glyph 47560 missing from current font.\n",
            "  font.set_text(s, 0.0, flags=flags)\n",
            "/usr/local/lib/python3.7/dist-packages/matplotlib/backends/backend_agg.py:214: RuntimeWarning: Glyph 47708 missing from current font.\n",
            "  font.set_text(s, 0.0, flags=flags)\n",
            "/usr/local/lib/python3.7/dist-packages/matplotlib/backends/backend_agg.py:214: RuntimeWarning: Glyph 47196 missing from current font.\n",
            "  font.set_text(s, 0.0, flags=flags)\n",
            "/usr/local/lib/python3.7/dist-packages/matplotlib/backends/backend_agg.py:214: RuntimeWarning: Glyph 47592 missing from current font.\n",
            "  font.set_text(s, 0.0, flags=flags)\n",
            "/usr/local/lib/python3.7/dist-packages/matplotlib/backends/backend_agg.py:214: RuntimeWarning: Glyph 49828 missing from current font.\n",
            "  font.set_text(s, 0.0, flags=flags)\n",
            "/usr/local/lib/python3.7/dist-packages/matplotlib/backends/backend_agg.py:214: RuntimeWarning: Glyph 44277 missing from current font.\n",
            "  font.set_text(s, 0.0, flags=flags)\n",
            "/usr/local/lib/python3.7/dist-packages/matplotlib/backends/backend_agg.py:214: RuntimeWarning: Glyph 54252 missing from current font.\n",
            "  font.set_text(s, 0.0, flags=flags)\n",
            "/usr/local/lib/python3.7/dist-packages/matplotlib/backends/backend_agg.py:214: RuntimeWarning: Glyph 49436 missing from current font.\n",
            "  font.set_text(s, 0.0, flags=flags)\n",
            "/usr/local/lib/python3.7/dist-packages/matplotlib/backends/backend_agg.py:214: RuntimeWarning: Glyph 54172 missing from current font.\n",
            "  font.set_text(s, 0.0, flags=flags)\n",
            "/usr/local/lib/python3.7/dist-packages/matplotlib/backends/backend_agg.py:214: RuntimeWarning: Glyph 50528 missing from current font.\n",
            "  font.set_text(s, 0.0, flags=flags)\n",
            "/usr/local/lib/python3.7/dist-packages/matplotlib/backends/backend_agg.py:214: RuntimeWarning: Glyph 45768 missing from current font.\n",
            "  font.set_text(s, 0.0, flags=flags)\n",
            "/usr/local/lib/python3.7/dist-packages/matplotlib/backends/backend_agg.py:214: RuntimeWarning: Glyph 47700 missing from current font.\n",
            "  font.set_text(s, 0.0, flags=flags)\n",
            "/usr/local/lib/python3.7/dist-packages/matplotlib/backends/backend_agg.py:214: RuntimeWarning: Glyph 51060 missing from current font.\n",
            "  font.set_text(s, 0.0, flags=flags)\n",
            "/usr/local/lib/python3.7/dist-packages/matplotlib/backends/backend_agg.py:183: RuntimeWarning: Glyph 50529 missing from current font.\n",
            "  font.set_text(s, 0, flags=flags)\n",
            "/usr/local/lib/python3.7/dist-packages/matplotlib/backends/backend_agg.py:183: RuntimeWarning: Glyph 49496 missing from current font.\n",
            "  font.set_text(s, 0, flags=flags)\n",
            "/usr/local/lib/python3.7/dist-packages/matplotlib/backends/backend_agg.py:183: RuntimeWarning: Glyph 45712 missing from current font.\n",
            "  font.set_text(s, 0, flags=flags)\n",
            "/usr/local/lib/python3.7/dist-packages/matplotlib/backends/backend_agg.py:183: RuntimeWarning: Glyph 50752 missing from current font.\n",
            "  font.set_text(s, 0, flags=flags)\n",
            "/usr/local/lib/python3.7/dist-packages/matplotlib/backends/backend_agg.py:183: RuntimeWarning: Glyph 47476 missing from current font.\n",
            "  font.set_text(s, 0, flags=flags)\n",
            "/usr/local/lib/python3.7/dist-packages/matplotlib/backends/backend_agg.py:183: RuntimeWarning: Glyph 53076 missing from current font.\n",
            "  font.set_text(s, 0, flags=flags)\n",
            "/usr/local/lib/python3.7/dist-packages/matplotlib/backends/backend_agg.py:183: RuntimeWarning: Glyph 48120 missing from current font.\n",
            "  font.set_text(s, 0, flags=flags)\n",
            "/usr/local/lib/python3.7/dist-packages/matplotlib/backends/backend_agg.py:183: RuntimeWarning: Glyph 46356 missing from current font.\n",
            "  font.set_text(s, 0, flags=flags)\n",
            "/usr/local/lib/python3.7/dist-packages/matplotlib/backends/backend_agg.py:183: RuntimeWarning: Glyph 45796 missing from current font.\n",
            "  font.set_text(s, 0, flags=flags)\n",
            "/usr/local/lib/python3.7/dist-packages/matplotlib/backends/backend_agg.py:183: RuntimeWarning: Glyph 53328 missing from current font.\n",
            "  font.set_text(s, 0, flags=flags)\n",
            "/usr/local/lib/python3.7/dist-packages/matplotlib/backends/backend_agg.py:183: RuntimeWarning: Glyph 47704 missing from current font.\n",
            "  font.set_text(s, 0, flags=flags)\n",
            "/usr/local/lib/python3.7/dist-packages/matplotlib/backends/backend_agg.py:183: RuntimeWarning: Glyph 53552 missing from current font.\n",
            "  font.set_text(s, 0, flags=flags)\n",
            "/usr/local/lib/python3.7/dist-packages/matplotlib/backends/backend_agg.py:183: RuntimeWarning: Glyph 47532 missing from current font.\n",
            "  font.set_text(s, 0, flags=flags)\n",
            "/usr/local/lib/python3.7/dist-packages/matplotlib/backends/backend_agg.py:183: RuntimeWarning: Glyph 48036 missing from current font.\n",
            "  font.set_text(s, 0, flags=flags)\n",
            "/usr/local/lib/python3.7/dist-packages/matplotlib/backends/backend_agg.py:183: RuntimeWarning: Glyph 51648 missing from current font.\n",
            "  font.set_text(s, 0, flags=flags)\n",
            "/usr/local/lib/python3.7/dist-packages/matplotlib/backends/backend_agg.py:183: RuntimeWarning: Glyph 52972 missing from current font.\n",
            "  font.set_text(s, 0, flags=flags)\n",
            "/usr/local/lib/python3.7/dist-packages/matplotlib/backends/backend_agg.py:183: RuntimeWarning: Glyph 46300 missing from current font.\n",
            "  font.set_text(s, 0, flags=flags)\n",
            "/usr/local/lib/python3.7/dist-packages/matplotlib/backends/backend_agg.py:183: RuntimeWarning: Glyph 46972 missing from current font.\n",
            "  font.set_text(s, 0, flags=flags)\n",
            "/usr/local/lib/python3.7/dist-packages/matplotlib/backends/backend_agg.py:183: RuntimeWarning: Glyph 47560 missing from current font.\n",
            "  font.set_text(s, 0, flags=flags)\n",
            "/usr/local/lib/python3.7/dist-packages/matplotlib/backends/backend_agg.py:183: RuntimeWarning: Glyph 47708 missing from current font.\n",
            "  font.set_text(s, 0, flags=flags)\n",
            "/usr/local/lib/python3.7/dist-packages/matplotlib/backends/backend_agg.py:183: RuntimeWarning: Glyph 47196 missing from current font.\n",
            "  font.set_text(s, 0, flags=flags)\n",
            "/usr/local/lib/python3.7/dist-packages/matplotlib/backends/backend_agg.py:183: RuntimeWarning: Glyph 47592 missing from current font.\n",
            "  font.set_text(s, 0, flags=flags)\n",
            "/usr/local/lib/python3.7/dist-packages/matplotlib/backends/backend_agg.py:183: RuntimeWarning: Glyph 49828 missing from current font.\n",
            "  font.set_text(s, 0, flags=flags)\n",
            "/usr/local/lib/python3.7/dist-packages/matplotlib/backends/backend_agg.py:183: RuntimeWarning: Glyph 44277 missing from current font.\n",
            "  font.set_text(s, 0, flags=flags)\n",
            "/usr/local/lib/python3.7/dist-packages/matplotlib/backends/backend_agg.py:183: RuntimeWarning: Glyph 54252 missing from current font.\n",
            "  font.set_text(s, 0, flags=flags)\n",
            "/usr/local/lib/python3.7/dist-packages/matplotlib/backends/backend_agg.py:183: RuntimeWarning: Glyph 49436 missing from current font.\n",
            "  font.set_text(s, 0, flags=flags)\n",
            "/usr/local/lib/python3.7/dist-packages/matplotlib/backends/backend_agg.py:183: RuntimeWarning: Glyph 54172 missing from current font.\n",
            "  font.set_text(s, 0, flags=flags)\n",
            "/usr/local/lib/python3.7/dist-packages/matplotlib/backends/backend_agg.py:183: RuntimeWarning: Glyph 50528 missing from current font.\n",
            "  font.set_text(s, 0, flags=flags)\n",
            "/usr/local/lib/python3.7/dist-packages/matplotlib/backends/backend_agg.py:183: RuntimeWarning: Glyph 45768 missing from current font.\n",
            "  font.set_text(s, 0, flags=flags)\n",
            "/usr/local/lib/python3.7/dist-packages/matplotlib/backends/backend_agg.py:183: RuntimeWarning: Glyph 47700 missing from current font.\n",
            "  font.set_text(s, 0, flags=flags)\n",
            "/usr/local/lib/python3.7/dist-packages/matplotlib/backends/backend_agg.py:183: RuntimeWarning: Glyph 51060 missing from current font.\n",
            "  font.set_text(s, 0, flags=flags)\n",
            "/usr/local/lib/python3.7/dist-packages/matplotlib/backends/backend_agg.py:183: RuntimeWarning: Glyph 51109 missing from current font.\n",
            "  font.set_text(s, 0, flags=flags)\n"
          ]
        },
        {
          "output_type": "display_data",
          "data": {
            "text/plain": [
              "<Figure size 864x504 with 1 Axes>"
            ],
            "image/png": "[encoded data removed]"
          },
          "metadata": {
            "needs_background": "light"
          }
        }
      ]
    },
    {
      "cell_type": "code",
      "source": [
        "df_train.groupby('genre').box_off_num.mean().sort_values()"
      ],
      "metadata": {
        "colab": {
          "base_uri": "https://localhost:8080/"
        },
        "id": "5J9H0Ir0DmK9",
        "outputId": "8638d868-83b3-4083-9ecc-ea694dcfcb1b"
      },
      "execution_count": 249,
      "outputs": [
        {
          "output_type": "execute_result",
          "data": {
            "text/plain": [
              "genre\n",
              "뮤지컬       6.627000e+03\n",
              "다큐멘터리     6.717226e+04\n",
              "서스펜스      8.261100e+04\n",
              "애니메이션     1.819267e+05\n",
              "멜로/로맨스    4.259680e+05\n",
              "미스터리      5.275482e+05\n",
              "공포        5.908325e+05\n",
              "드라마       6.256898e+05\n",
              "코미디       1.193914e+06\n",
              "SF        1.788346e+06\n",
              "액션        2.203974e+06\n",
              "느와르       2.263695e+06\n",
              "Name: box_off_num, dtype: float64"
            ]
          },
          "metadata": {},
          "execution_count": 249
        }
      ]
    },
    {
      "cell_type": "markdown",
      "source": [
        "### 2.5.1 장르 인코딩"
      ],
      "metadata": {
        "id": "iwDzy8ctFIWU"
      }
    },
    {
      "cell_type": "code",
      "source": [
        "df_train['genre_rank'] = df_train.genre.map({'뮤지컬' : 1, '다큐멘터리' : 2, '서스펜스' : 3, '애니메이션' : 4, '멜로/로맨스' : 5,\n",
        "                                      '미스터리' : 6, '공포' : 7, '드라마' : 8, '코미디' : 9, 'SF' : 10, '액션' : 11, '느와르' : 12})\n",
        "df_test['genre_rank'] = df_test.genre.map({'뮤지컬' : 1, '다큐멘터리' : 2, '서스펜스' : 3, '애니메이션' : 4, '멜로/로맨스' : 5,\n",
        "                                      '미스터리' : 6, '공포' : 7, '드라마' : 8, '코미디' : 9, 'SF' : 10, '액션' : 11, '느와르' : 12})"
      ],
      "metadata": {
        "id": "2r05lNCNDmNl"
      },
      "execution_count": 250,
      "outputs": []
    },
    {
      "cell_type": "markdown",
      "source": [
        "### 2.5.2 genre컬럼 제거"
      ],
      "metadata": {
        "id": "Cmu3NpCnFP16"
      }
    },
    {
      "cell_type": "code",
      "source": [
        "df_train.drop(['genre'],inplace = True, axis = 1)\n",
        "df_test.drop(['genre'],inplace = True, axis = 1)"
      ],
      "metadata": {
        "id": "q7u6GF1pFQrj"
      },
      "execution_count": 251,
      "outputs": []
    },
    {
      "cell_type": "markdown",
      "source": [
        "## 2.6 release_time\n"
      ],
      "metadata": {
        "id": "Ez0IotOlc5q_"
      }
    },
    {
      "cell_type": "code",
      "source": [
        "df_train['release_time'].unique()"
      ],
      "metadata": {
        "id": "RqkRZBNVoX0h",
        "colab": {
          "base_uri": "https://localhost:8080/"
        },
        "outputId": "80947f90-4039-491b-8ea2-a4a4d64727e7"
      },
      "execution_count": 252,
      "outputs": [
        {
          "output_type": "execute_result",
          "data": {
            "text/plain": [
              "array(['2012-11-22', '2015-11-19', '2013-06-05', '2012-07-12',\n",
              "       '2010-11-04', '2012-10-25', '2013-05-23', '2012-10-11',\n",
              "       '2014-09-18', '2012-03-15', '2015-07-27', '2015-07-30',\n",
              "       '2012-03-22', '2013-09-25', '2014-09-04', '2011-05-04',\n",
              "       '2012-04-05', '2014-11-13', '2010-05-05', '2014-09-03',\n",
              "       '2015-08-13', '2014-02-13', '2014-11-27', '2015-09-10',\n",
              "       '2010-02-18', '2010-03-18', '2013-08-29', '2011-03-24',\n",
              "       '2011-07-07', '2015-04-30', '2011-12-08', '2011-12-01',\n",
              "       '2015-06-04', '2014-07-03', '2014-05-22', '2012-02-29',\n",
              "       '2010-03-25', '2013-04-04', '2010-04-22', '2014-03-27',\n",
              "       '2010-10-28', '2013-05-30', '2010-01-14', '2015-12-03',\n",
              "       '2014-11-26', '2014-08-07', '2014-10-16', '2015-01-07',\n",
              "       '2010-07-29', '2014-10-02', '2012-01-05', '2015-05-21',\n",
              "       '2015-04-23', '2010-07-01', '2013-11-14', '2014-12-31',\n",
              "       '2013-11-21', '2012-05-10', '2012-09-20', '2014-07-09',\n",
              "       '2015-11-25', '2011-09-29', '2015-01-29', '2015-11-12',\n",
              "       '2013-05-16', '2011-11-17', '2012-09-06', '2010-08-04',\n",
              "       '2013-10-31', '2011-03-10', '2015-04-16', '2014-12-04',\n",
              "       '2010-02-04', '2010-10-14', '2011-02-17', '2010-11-18',\n",
              "       '2012-02-09', '2012-12-19', '2014-09-17', '2014-08-14',\n",
              "       '2015-10-29', '2014-05-14', '2010-09-16', '2012-06-21',\n",
              "       '2014-03-14', '2013-08-15', '2013-07-11', '2012-11-29',\n",
              "       '2013-09-11', '2013-04-03', '2015-08-20', '2011-06-23',\n",
              "       '2014-10-08', '2014-11-20', '2012-07-26', '2012-04-26',\n",
              "       '2010-01-02', '2012-05-30', '2010-05-20', '2012-02-02',\n",
              "       '2012-03-01', '2014-05-29', '2011-09-08', '2015-01-14',\n",
              "       '2010-12-29', '2014-07-02', '2013-03-14', '2013-09-05',\n",
              "       '2013-12-18', '2014-04-30', '2010-12-09', '2010-09-09',\n",
              "       '2011-07-28', '2011-01-27', '2011-08-05', '2015-07-29',\n",
              "       '2014-10-30', '2011-03-17', '2013-06-20', '2010-09-30',\n",
              "       '2014-04-24', '2010-08-26', '2011-07-20', '2014-01-16',\n",
              "       '2011-11-03', '2014-04-16', '2011-09-07', '2011-03-03',\n",
              "       '2015-03-12', '2010-10-07', '2013-07-18', '2012-06-07',\n",
              "       '2011-06-09', '2015-11-26', '2012-05-24', '2015-09-24',\n",
              "       '2011-08-04', '2013-03-28', '2010-04-01', '2015-11-05',\n",
              "       '2011-05-12', '2015-04-29', '2011-12-15', '2012-08-23',\n",
              "       '2015-02-11', '2013-10-30', '2011-02-24', '2010-07-28',\n",
              "       '2012-07-25', '2015-07-09', '2012-01-18', '2014-10-23',\n",
              "       '2014-04-17', '2015-10-15', '2014-12-18', '2014-03-06',\n",
              "       '2010-05-06', '2015-10-22', '2015-01-21', '2013-11-07',\n",
              "       '2014-07-17', '2014-02-06', '2010-05-13', '2010-07-14',\n",
              "       '2015-06-11', '2015-03-26', '2010-11-10', '2015-08-06',\n",
              "       '2013-01-24', '2013-05-09', '2013-12-11', '2011-08-25',\n",
              "       '2011-09-01', '2014-11-06', '2013-12-19', '2013-03-21',\n",
              "       '2015-06-25', '2010-11-24', '2013-02-28', '2015-12-31',\n",
              "       '2013-08-08', '2013-04-18', '2014-08-27', '2012-10-18',\n",
              "       '2015-03-05', '2010-12-02', '2014-12-11', '2015-09-03',\n",
              "       '2013-12-12', '2014-01-30', '2015-02-26', '2012-08-08',\n",
              "       '2012-04-19', '2011-11-24', '2013-09-19', '2015-12-24',\n",
              "       '2015-09-16', '2015-05-07', '2014-06-26', '2013-02-21',\n",
              "       '2014-04-10', '2010-10-21', '2013-11-28', '2011-04-14',\n",
              "       '2011-10-13', '2013-07-25', '2013-08-14', '2015-03-19',\n",
              "       '2014-04-03', '2011-09-15', '2015-12-10', '2012-01-12',\n",
              "       '2014-01-22', '2012-12-25', '2011-10-27', '2015-01-28',\n",
              "       '2010-11-25', '2012-08-02', '2013-08-22', '2015-06-24',\n",
              "       '2011-10-20', '2014-01-29', '2010-05-04', '2012-12-06',\n",
              "       '2014-02-27', '2015-10-28', '2012-08-30', '2011-01-05',\n",
              "       '2012-07-19', '2011-08-10', '2015-10-08', '2015-12-16',\n",
              "       '2014-09-25', '2010-05-27', '2013-10-24', '2010-07-21',\n",
              "       '2012-05-31', '2015-07-16', '2014-06-12', '2011-04-21',\n",
              "       '2011-11-10', '2013-12-26', '2014-08-28', '2013-07-04',\n",
              "       '2010-11-03', '2011-08-18', '2011-12-07', '2014-03-13',\n",
              "       '2015-06-18', '2015-02-05', '2015-08-27', '2010-01-21',\n",
              "       '2014-12-17', '2013-06-06', '2010-02-25', '2010-04-29',\n",
              "       '2015-04-09', '2011-12-21', '2012-10-31', '2012-05-14',\n",
              "       '2012-08-29', '2012-03-08', '2015-05-14', '2010-12-22',\n",
              "       '2012-05-17', '2014-07-23', '2012-09-27', '2012-11-15',\n",
              "       '2012-11-08', '2012-05-03', '2015-02-12', '2013-04-10',\n",
              "       '2014-01-23', '2014-05-15', '2014-12-10', '2014-10-01',\n",
              "       '2011-10-06', '2014-01-09', '2013-07-17', '2011-06-02',\n",
              "       '2013-11-06', '2010-08-12', '2014-07-16', '2010-06-02',\n",
              "       '2010-12-08', '2015-12-14', '2010-06-24', '2012-08-22',\n",
              "       '2014-06-19', '2012-09-13', '2012-07-05', '2014-08-06',\n",
              "       '2013-07-03', '2014-07-31', '2012-12-13', '2015-12-17',\n",
              "       '2010-01-28', '2012-08-15', '2013-08-01', '2011-01-13',\n",
              "       '2015-07-22', '2013-01-17', '2012-02-23', '2013-09-12',\n",
              "       '2011-06-30', '2011-08-31', '2014-03-20', '2013-10-02',\n",
              "       '2013-06-27', '2015-05-28', '2010-06-10', '2015-10-07',\n",
              "       '2013-01-23', '2013-02-14', '2015-12-30', '2014-08-20',\n",
              "       '2010-04-28', '2011-05-26', '2015-04-02', '2015-01-15',\n",
              "       '2015-09-23', '2010-08-19', '2010-04-15', '2013-05-01',\n",
              "       '2012-10-03', '2014-08-21', '2012-02-16', '2014-12-24',\n",
              "       '2014-08-13', '2013-01-30'], dtype=object)"
            ]
          },
          "metadata": {},
          "execution_count": 252
        }
      ]
    },
    {
      "cell_type": "code",
      "source": [
        "df_train.drop(['release_time'],inplace = True, axis = 1)\n",
        "df_test.drop(['release_time'],inplace = True, axis = 1)"
      ],
      "metadata": {
        "id": "sTCkDpsPBlC1"
      },
      "execution_count": 253,
      "outputs": []
    },
    {
      "cell_type": "markdown",
      "source": [
        "## 2.7 screening_rat"
      ],
      "metadata": {
        "id": "-uItorv6dABI"
      }
    },
    {
      "cell_type": "code",
      "source": [
        "df_train['screening_rat'].unique()"
      ],
      "metadata": {
        "id": "iw_OtYOiCPI4",
        "colab": {
          "base_uri": "https://localhost:8080/"
        },
        "outputId": "ae826923-15f8-493e-9844-978961156ef2"
      },
      "execution_count": 254,
      "outputs": [
        {
          "output_type": "execute_result",
          "data": {
            "text/plain": [
              "array(['청소년 관람불가', '15세 관람가', '전체 관람가', '12세 관람가'], dtype=object)"
            ]
          },
          "metadata": {},
          "execution_count": 254
        }
      ]
    },
    {
      "cell_type": "markdown",
      "source": [
        "### 2.7.1 screenig_rat 시각화"
      ],
      "metadata": {
        "id": "52O_Zy_D6xeu"
      }
    },
    {
      "cell_type": "code",
      "source": [
        "plt.figure(figsize=(10, 5))\n",
        "sns.barplot(data=df_train, x=\"screening_rat\", y=\"box_off_num\")"
      ],
      "metadata": {
        "id": "eqi5zqoWCL0k",
        "colab": {
          "base_uri": "https://localhost:8080/",
          "height": 1000
        },
        "outputId": "98df1b1e-6d02-43d0-8cbe-af2fafd9930c"
      },
      "execution_count": 255,
      "outputs": [
        {
          "output_type": "execute_result",
          "data": {
            "text/plain": [
              "<matplotlib.axes._subplots.AxesSubplot at 0x7f5272757bd0>"
            ]
          },
          "metadata": {},
          "execution_count": 255
        },
        {
          "output_type": "stream",
          "name": "stderr",
          "text": [
            "/usr/local/lib/python3.7/dist-packages/matplotlib/backends/backend_agg.py:214: RuntimeWarning: Glyph 52397 missing from current font.\n",
            "  font.set_text(s, 0.0, flags=flags)\n",
            "/usr/local/lib/python3.7/dist-packages/matplotlib/backends/backend_agg.py:214: RuntimeWarning: Glyph 49548 missing from current font.\n",
            "  font.set_text(s, 0.0, flags=flags)\n",
            "/usr/local/lib/python3.7/dist-packages/matplotlib/backends/backend_agg.py:214: RuntimeWarning: Glyph 45380 missing from current font.\n",
            "  font.set_text(s, 0.0, flags=flags)\n",
            "/usr/local/lib/python3.7/dist-packages/matplotlib/backends/backend_agg.py:214: RuntimeWarning: Glyph 44288 missing from current font.\n",
            "  font.set_text(s, 0.0, flags=flags)\n",
            "/usr/local/lib/python3.7/dist-packages/matplotlib/backends/backend_agg.py:214: RuntimeWarning: Glyph 46988 missing from current font.\n",
            "  font.set_text(s, 0.0, flags=flags)\n",
            "/usr/local/lib/python3.7/dist-packages/matplotlib/backends/backend_agg.py:214: RuntimeWarning: Glyph 48520 missing from current font.\n",
            "  font.set_text(s, 0.0, flags=flags)\n",
            "/usr/local/lib/python3.7/dist-packages/matplotlib/backends/backend_agg.py:214: RuntimeWarning: Glyph 44032 missing from current font.\n",
            "  font.set_text(s, 0.0, flags=flags)\n",
            "/usr/local/lib/python3.7/dist-packages/matplotlib/backends/backend_agg.py:214: RuntimeWarning: Glyph 49464 missing from current font.\n",
            "  font.set_text(s, 0.0, flags=flags)\n",
            "/usr/local/lib/python3.7/dist-packages/matplotlib/backends/backend_agg.py:214: RuntimeWarning: Glyph 51204 missing from current font.\n",
            "  font.set_text(s, 0.0, flags=flags)\n",
            "/usr/local/lib/python3.7/dist-packages/matplotlib/backends/backend_agg.py:214: RuntimeWarning: Glyph 52404 missing from current font.\n",
            "  font.set_text(s, 0.0, flags=flags)\n",
            "/usr/local/lib/python3.7/dist-packages/matplotlib/backends/backend_agg.py:183: RuntimeWarning: Glyph 52397 missing from current font.\n",
            "  font.set_text(s, 0, flags=flags)\n",
            "/usr/local/lib/python3.7/dist-packages/matplotlib/backends/backend_agg.py:183: RuntimeWarning: Glyph 49548 missing from current font.\n",
            "  font.set_text(s, 0, flags=flags)\n",
            "/usr/local/lib/python3.7/dist-packages/matplotlib/backends/backend_agg.py:183: RuntimeWarning: Glyph 45380 missing from current font.\n",
            "  font.set_text(s, 0, flags=flags)\n",
            "/usr/local/lib/python3.7/dist-packages/matplotlib/backends/backend_agg.py:183: RuntimeWarning: Glyph 44288 missing from current font.\n",
            "  font.set_text(s, 0, flags=flags)\n",
            "/usr/local/lib/python3.7/dist-packages/matplotlib/backends/backend_agg.py:183: RuntimeWarning: Glyph 46988 missing from current font.\n",
            "  font.set_text(s, 0, flags=flags)\n",
            "/usr/local/lib/python3.7/dist-packages/matplotlib/backends/backend_agg.py:183: RuntimeWarning: Glyph 48520 missing from current font.\n",
            "  font.set_text(s, 0, flags=flags)\n",
            "/usr/local/lib/python3.7/dist-packages/matplotlib/backends/backend_agg.py:183: RuntimeWarning: Glyph 44032 missing from current font.\n",
            "  font.set_text(s, 0, flags=flags)\n",
            "/usr/local/lib/python3.7/dist-packages/matplotlib/backends/backend_agg.py:183: RuntimeWarning: Glyph 49464 missing from current font.\n",
            "  font.set_text(s, 0, flags=flags)\n",
            "/usr/local/lib/python3.7/dist-packages/matplotlib/backends/backend_agg.py:183: RuntimeWarning: Glyph 51204 missing from current font.\n",
            "  font.set_text(s, 0, flags=flags)\n",
            "/usr/local/lib/python3.7/dist-packages/matplotlib/backends/backend_agg.py:183: RuntimeWarning: Glyph 52404 missing from current font.\n",
            "  font.set_text(s, 0, flags=flags)\n"
          ]
        },
        {
          "output_type": "display_data",
          "data": {
            "text/plain": [
              "<Figure size 720x360 with 1 Axes>"
            ],
            "image/png": "[encoded data removed]"
          },
          "metadata": {
            "needs_background": "light"
          }
        }
      ]
    },
    {
      "cell_type": "markdown",
      "source": [
        "15세관람가와 12세 관람가가 다른 2개보다 높은 수치를 나타내고 있음.\n",
        "\n",
        "상영가능나이대도 관객수에 영향을 준다."
      ],
      "metadata": {
        "id": "4SlXV9Q-1PpY"
      }
    },
    {
      "cell_type": "markdown",
      "source": [
        "### 2.7.2 screening_rat 랭크인코딩 (중위값)"
      ],
      "metadata": {
        "id": "SC5WzNh_BAwp"
      }
    },
    {
      "cell_type": "code",
      "source": [
        "tr_scre_nm_rank = df_train.groupby('screening_rat').box_off_num.median().reset_index(name = 'scre_num_rank').sort_values(by = 'scre_num_rank')\n",
        "tr_scre_nm_rank"
      ],
      "metadata": {
        "colab": {
          "base_uri": "https://localhost:8080/",
          "height": 175
        },
        "id": "x7qqtneZzkYP",
        "outputId": "c3928c9b-1be0-4948-ecf2-c9b7bf202b76"
      },
      "execution_count": 256,
      "outputs": [
        {
          "output_type": "execute_result",
          "data": {
            "text/plain": [
              "  screening_rat  scre_num_rank\n",
              "3      청소년 관람불가         3008.5\n",
              "2        전체 관람가         8325.0\n",
              "0       12세 관람가        19323.0\n",
              "1       15세 관람가       242381.0"
            ],
            "text/html": [
              "\n",
              "  <div id=\"df-cb77cf49-5115-4c09-a47c-71492da20e68\">\n",
              "    <div class=\"colab-df-container\">\n",
              "      <div>\n",
              "<style scoped>\n",
              "    .dataframe tbody tr th:only-of-type {\n",
              "        vertical-align: middle;\n",
              "    }\n",
              "\n",
              "    .dataframe tbody tr th {\n",
              "        vertical-align: top;\n",
              "    }\n",
              "\n",
              "    .dataframe thead th {\n",
              "        text-align: right;\n",
              "    }\n",
              "</style>\n",
              "<table border=\"1\" class=\"dataframe\">\n",
              "  <thead>\n",
              "    <tr style=\"text-align: right;\">\n",
              "      <th></th>\n",
              "      <th>screening_rat</th>\n",
              "      <th>scre_num_rank</th>\n",
              "    </tr>\n",
              "  </thead>\n",
              "  <tbody>\n",
              "    <tr>\n",
              "      <th>3</th>\n",
              "      <td>청소년 관람불가</td>\n",
              "      <td>3008.5</td>\n",
              "    </tr>\n",
              "    <tr>\n",
              "      <th>2</th>\n",
              "      <td>전체 관람가</td>\n",
              "      <td>8325.0</td>\n",
              "    </tr>\n",
              "    <tr>\n",
              "      <th>0</th>\n",
              "      <td>12세 관람가</td>\n",
              "      <td>19323.0</td>\n",
              "    </tr>\n",
              "    <tr>\n",
              "      <th>1</th>\n",
              "      <td>15세 관람가</td>\n",
              "      <td>242381.0</td>\n",
              "    </tr>\n",
              "  </tbody>\n",
              "</table>\n",
              "</div>\n",
              "      <button class=\"colab-df-convert\" onclick=\"convertToInteractive('df-cb77cf49-5115-4c09-a47c-71492da20e68')\"\n",
              "              title=\"Convert this dataframe to an interactive table.\"\n",
              "              style=\"display:none;\">\n",
              "        \n",
              "  <svg xmlns=\"http://www.w3.org/2000/svg\" height=\"24px\"viewBox=\"0 0 24 24\"\n",
              "       width=\"24px\">\n",
              "    <path d=\"M0 0h24v24H0V0z\" fill=\"none\"/>\n",
              "    <path d=\"M18.56 5.44l.94 2.06.94-2.06 2.06-.94-2.06-.94-.94-2.06-.94 2.06-2.06.94zm-11 1L8.5 8.5l.94-2.06 2.06-.94-2.06-.94L8.5 2.5l-.94 2.06-2.06.94zm10 10l.94 2.06.94-2.06 2.06-.94-2.06-.94-.94-2.06-.94 2.06-2.06.94z\"/><path d=\"M17.41 7.96l-1.37-1.37c-.4-.4-.92-.59-1.43-.59-.52 0-1.04.2-1.43.59L10.3 9.45l-7.72 7.72c-.78.78-.78 2.05 0 2.83L4 21.41c.39.39.9.59 1.41.59.51 0 1.02-.2 1.41-.59l7.78-7.78 2.81-2.81c.8-.78.8-2.07 0-2.86zM5.41 20L4 18.59l7.72-7.72 1.47 1.35L5.41 20z\"/>\n",
              "  </svg>\n",
              "      </button>\n",
              "      \n",
              "  <style>\n",
              "    .colab-df-container {\n",
              "      display:flex;\n",
              "      flex-wrap:wrap;\n",
              "      gap: 12px;\n",
              "    }\n",
              "\n",
              "    .colab-df-convert {\n",
              "      background-color: #E8F0FE;\n",
              "      border: none;\n",
              "      border-radius: 50%;\n",
              "      cursor: pointer;\n",
              "      display: none;\n",
              "      fill: #1967D2;\n",
              "      height: 32px;\n",
              "      padding: 0 0 0 0;\n",
              "      width: 32px;\n",
              "    }\n",
              "\n",
              "    .colab-df-convert:hover {\n",
              "      background-color: #E2EBFA;\n",
              "      box-shadow: 0px 1px 2px rgba(60, 64, 67, 0.3), 0px 1px 3px 1px rgba(60, 64, 67, 0.15);\n",
              "      fill: #174EA6;\n",
              "    }\n",
              "\n",
              "    [theme=dark] .colab-df-convert {\n",
              "      background-color: #3B4455;\n",
              "      fill: #D2E3FC;\n",
              "    }\n",
              "\n",
              "    [theme=dark] .colab-df-convert:hover {\n",
              "      background-color: #434B5C;\n",
              "      box-shadow: 0px 1px 3px 1px rgba(0, 0, 0, 0.15);\n",
              "      filter: drop-shadow(0px 1px 2px rgba(0, 0, 0, 0.3));\n",
              "      fill: #FFFFFF;\n",
              "    }\n",
              "  </style>\n",
              "\n",
              "      <script>\n",
              "        const buttonEl =\n",
              "          document.querySelector('#df-cb77cf49-5115-4c09-a47c-71492da20e68 button.colab-df-convert');\n",
              "        buttonEl.style.display =\n",
              "          google.colab.kernel.accessAllowed ? 'block' : 'none';\n",
              "\n",
              "        async function convertToInteractive(key) {\n",
              "          const element = document.querySelector('#df-cb77cf49-5115-4c09-a47c-71492da20e68');\n",
              "          const dataTable =\n",
              "            await google.colab.kernel.invokeFunction('convertToInteractive',\n",
              "                                                     [key], {});\n",
              "          if (!dataTable) return;\n",
              "\n",
              "          const docLinkHtml = 'Like what you see? Visit the ' +\n",
              "            '<a target=\"_blank\" href=https://colab.research.google.com/notebooks/data_table.ipynb>data table notebook</a>'\n",
              "            + ' to learn more about interactive tables.';\n",
              "          element.innerHTML = '';\n",
              "          dataTable['output_type'] = 'display_data';\n",
              "          await google.colab.output.renderOutput(dataTable, element);\n",
              "          const docLink = document.createElement('div');\n",
              "          docLink.innerHTML = docLinkHtml;\n",
              "          element.appendChild(docLink);\n",
              "        }\n",
              "      </script>\n",
              "    </div>\n",
              "  </div>\n",
              "  "
            ]
          },
          "metadata": {},
          "execution_count": 256
        }
      ]
    },
    {
      "cell_type": "code",
      "source": [
        "tr_scre_nm_rank"
      ],
      "metadata": {
        "colab": {
          "base_uri": "https://localhost:8080/",
          "height": 175
        },
        "id": "MaZ1vNMsCIRg",
        "outputId": "58e3b487-10ed-4eb6-9b5e-4fe866b654f1"
      },
      "execution_count": 257,
      "outputs": [
        {
          "output_type": "execute_result",
          "data": {
            "text/plain": [
              "  screening_rat  scre_num_rank\n",
              "3      청소년 관람불가         3008.5\n",
              "2        전체 관람가         8325.0\n",
              "0       12세 관람가        19323.0\n",
              "1       15세 관람가       242381.0"
            ],
            "text/html": [
              "\n",
              "  <div id=\"df-97919ce6-2023-49a5-a069-67cb4681b88b\">\n",
              "    <div class=\"colab-df-container\">\n",
              "      <div>\n",
              "<style scoped>\n",
              "    .dataframe tbody tr th:only-of-type {\n",
              "        vertical-align: middle;\n",
              "    }\n",
              "\n",
              "    .dataframe tbody tr th {\n",
              "        vertical-align: top;\n",
              "    }\n",
              "\n",
              "    .dataframe thead th {\n",
              "        text-align: right;\n",
              "    }\n",
              "</style>\n",
              "<table border=\"1\" class=\"dataframe\">\n",
              "  <thead>\n",
              "    <tr style=\"text-align: right;\">\n",
              "      <th></th>\n",
              "      <th>screening_rat</th>\n",
              "      <th>scre_num_rank</th>\n",
              "    </tr>\n",
              "  </thead>\n",
              "  <tbody>\n",
              "    <tr>\n",
              "      <th>3</th>\n",
              "      <td>청소년 관람불가</td>\n",
              "      <td>3008.5</td>\n",
              "    </tr>\n",
              "    <tr>\n",
              "      <th>2</th>\n",
              "      <td>전체 관람가</td>\n",
              "      <td>8325.0</td>\n",
              "    </tr>\n",
              "    <tr>\n",
              "      <th>0</th>\n",
              "      <td>12세 관람가</td>\n",
              "      <td>19323.0</td>\n",
              "    </tr>\n",
              "    <tr>\n",
              "      <th>1</th>\n",
              "      <td>15세 관람가</td>\n",
              "      <td>242381.0</td>\n",
              "    </tr>\n",
              "  </tbody>\n",
              "</table>\n",
              "</div>\n",
              "      <button class=\"colab-df-convert\" onclick=\"convertToInteractive('df-97919ce6-2023-49a5-a069-67cb4681b88b')\"\n",
              "              title=\"Convert this dataframe to an interactive table.\"\n",
              "              style=\"display:none;\">\n",
              "        \n",
              "  <svg xmlns=\"http://www.w3.org/2000/svg\" height=\"24px\"viewBox=\"0 0 24 24\"\n",
              "       width=\"24px\">\n",
              "    <path d=\"M0 0h24v24H0V0z\" fill=\"none\"/>\n",
              "    <path d=\"M18.56 5.44l.94 2.06.94-2.06 2.06-.94-2.06-.94-.94-2.06-.94 2.06-2.06.94zm-11 1L8.5 8.5l.94-2.06 2.06-.94-2.06-.94L8.5 2.5l-.94 2.06-2.06.94zm10 10l.94 2.06.94-2.06 2.06-.94-2.06-.94-.94-2.06-.94 2.06-2.06.94z\"/><path d=\"M17.41 7.96l-1.37-1.37c-.4-.4-.92-.59-1.43-.59-.52 0-1.04.2-1.43.59L10.3 9.45l-7.72 7.72c-.78.78-.78 2.05 0 2.83L4 21.41c.39.39.9.59 1.41.59.51 0 1.02-.2 1.41-.59l7.78-7.78 2.81-2.81c.8-.78.8-2.07 0-2.86zM5.41 20L4 18.59l7.72-7.72 1.47 1.35L5.41 20z\"/>\n",
              "  </svg>\n",
              "      </button>\n",
              "      \n",
              "  <style>\n",
              "    .colab-df-container {\n",
              "      display:flex;\n",
              "      flex-wrap:wrap;\n",
              "      gap: 12px;\n",
              "    }\n",
              "\n",
              "    .colab-df-convert {\n",
              "      background-color: #E8F0FE;\n",
              "      border: none;\n",
              "      border-radius: 50%;\n",
              "      cursor: pointer;\n",
              "      display: none;\n",
              "      fill: #1967D2;\n",
              "      height: 32px;\n",
              "      padding: 0 0 0 0;\n",
              "      width: 32px;\n",
              "    }\n",
              "\n",
              "    .colab-df-convert:hover {\n",
              "      background-color: #E2EBFA;\n",
              "      box-shadow: 0px 1px 2px rgba(60, 64, 67, 0.3), 0px 1px 3px 1px rgba(60, 64, 67, 0.15);\n",
              "      fill: #174EA6;\n",
              "    }\n",
              "\n",
              "    [theme=dark] .colab-df-convert {\n",
              "      background-color: #3B4455;\n",
              "      fill: #D2E3FC;\n",
              "    }\n",
              "\n",
              "    [theme=dark] .colab-df-convert:hover {\n",
              "      background-color: #434B5C;\n",
              "      box-shadow: 0px 1px 3px 1px rgba(0, 0, 0, 0.15);\n",
              "      filter: drop-shadow(0px 1px 2px rgba(0, 0, 0, 0.3));\n",
              "      fill: #FFFFFF;\n",
              "    }\n",
              "  </style>\n",
              "\n",
              "      <script>\n",
              "        const buttonEl =\n",
              "          document.querySelector('#df-97919ce6-2023-49a5-a069-67cb4681b88b button.colab-df-convert');\n",
              "        buttonEl.style.display =\n",
              "          google.colab.kernel.accessAllowed ? 'block' : 'none';\n",
              "\n",
              "        async function convertToInteractive(key) {\n",
              "          const element = document.querySelector('#df-97919ce6-2023-49a5-a069-67cb4681b88b');\n",
              "          const dataTable =\n",
              "            await google.colab.kernel.invokeFunction('convertToInteractive',\n",
              "                                                     [key], {});\n",
              "          if (!dataTable) return;\n",
              "\n",
              "          const docLinkHtml = 'Like what you see? Visit the ' +\n",
              "            '<a target=\"_blank\" href=https://colab.research.google.com/notebooks/data_table.ipynb>data table notebook</a>'\n",
              "            + ' to learn more about interactive tables.';\n",
              "          element.innerHTML = '';\n",
              "          dataTable['output_type'] = 'display_data';\n",
              "          await google.colab.output.renderOutput(dataTable, element);\n",
              "          const docLink = document.createElement('div');\n",
              "          docLink.innerHTML = docLinkHtml;\n",
              "          element.appendChild(docLink);\n",
              "        }\n",
              "      </script>\n",
              "    </div>\n",
              "  </div>\n",
              "  "
            ]
          },
          "metadata": {},
          "execution_count": 257
        }
      ]
    },
    {
      "cell_type": "code",
      "source": [
        "df_train"
      ],
      "metadata": {
        "colab": {
          "base_uri": "https://localhost:8080/",
          "height": 424
        },
        "id": "GU22VEYw7mcC",
        "outputId": "a85a7c3d-41f5-4f42-d741-caf53c8591b8"
      },
      "execution_count": 258,
      "outputs": [
        {
          "output_type": "execute_result",
          "data": {
            "text/plain": [
              "     time screening_rat director  dir_prev_bfnum  dir_prev_num  num_staff  \\\n",
              "0      96      청소년 관람불가      조병옥            0.00             0         91   \n",
              "1     130      청소년 관람불가      우민호      1161602.50             2        387   \n",
              "2     123       15세 관람가      장철수       220775.25             4        343   \n",
              "3     101        전체 관람가      구자홍        23894.00             2         20   \n",
              "4     108       15세 관람가      신근호            1.00             1        251   \n",
              "..    ...           ...      ...             ...           ...        ...   \n",
              "595   111      청소년 관람불가      심성보         3833.00             1        510   \n",
              "596   127       15세 관람가      윤종찬       496061.00             1        286   \n",
              "597    99      청소년 관람불가      김대현            0.00             0        123   \n",
              "598   102       15세 관람가      백운학            0.00             0        431   \n",
              "599   120       15세 관람가      류승완            0.00             0        363   \n",
              "\n",
              "     num_actor  box_off_num  dist_num_rank  genre_rank  \n",
              "0            2        23398            130          11  \n",
              "1            3      7072501            141          12  \n",
              "2            4      6959083            141          11  \n",
              "3            6       217866            136           9  \n",
              "4            2       483387            141           9  \n",
              "..         ...          ...            ...         ...  \n",
              "595          7      1475091            136           8  \n",
              "596          6      1716438            141           8  \n",
              "597          4         2475             45           7  \n",
              "598          4      2192525            137          12  \n",
              "599          5      7166532            137          11  \n",
              "\n",
              "[600 rows x 10 columns]"
            ],
            "text/html": [
              "\n",
              "  <div id=\"df-b466d2e1-30af-4247-bc2f-f427162f023a\">\n",
              "    <div class=\"colab-df-container\">\n",
              "      <div>\n",
              "<style scoped>\n",
              "    .dataframe tbody tr th:only-of-type {\n",
              "        vertical-align: middle;\n",
              "    }\n",
              "\n",
              "    .dataframe tbody tr th {\n",
              "        vertical-align: top;\n",
              "    }\n",
              "\n",
              "    .dataframe thead th {\n",
              "        text-align: right;\n",
              "    }\n",
              "</style>\n",
              "<table border=\"1\" class=\"dataframe\">\n",
              "  <thead>\n",
              "    <tr style=\"text-align: right;\">\n",
              "      <th></th>\n",
              "      <th>time</th>\n",
              "      <th>screening_rat</th>\n",
              "      <th>director</th>\n",
              "      <th>dir_prev_bfnum</th>\n",
              "      <th>dir_prev_num</th>\n",
              "      <th>num_staff</th>\n",
              "      <th>num_actor</th>\n",
              "      <th>box_off_num</th>\n",
              "      <th>dist_num_rank</th>\n",
              "      <th>genre_rank</th>\n",
              "    </tr>\n",
              "  </thead>\n",
              "  <tbody>\n",
              "    <tr>\n",
              "      <th>0</th>\n",
              "      <td>96</td>\n",
              "      <td>청소년 관람불가</td>\n",
              "      <td>조병옥</td>\n",
              "      <td>0.00</td>\n",
              "      <td>0</td>\n",
              "      <td>91</td>\n",
              "      <td>2</td>\n",
              "      <td>23398</td>\n",
              "      <td>130</td>\n",
              "      <td>11</td>\n",
              "    </tr>\n",
              "    <tr>\n",
              "      <th>1</th>\n",
              "      <td>130</td>\n",
              "      <td>청소년 관람불가</td>\n",
              "      <td>우민호</td>\n",
              "      <td>1161602.50</td>\n",
              "      <td>2</td>\n",
              "      <td>387</td>\n",
              "      <td>3</td>\n",
              "      <td>7072501</td>\n",
              "      <td>141</td>\n",
              "      <td>12</td>\n",
              "    </tr>\n",
              "    <tr>\n",
              "      <th>2</th>\n",
              "      <td>123</td>\n",
              "      <td>15세 관람가</td>\n",
              "      <td>장철수</td>\n",
              "      <td>220775.25</td>\n",
              "      <td>4</td>\n",
              "      <td>343</td>\n",
              "      <td>4</td>\n",
              "      <td>6959083</td>\n",
              "      <td>141</td>\n",
              "      <td>11</td>\n",
              "    </tr>\n",
              "    <tr>\n",
              "      <th>3</th>\n",
              "      <td>101</td>\n",
              "      <td>전체 관람가</td>\n",
              "      <td>구자홍</td>\n",
              "      <td>23894.00</td>\n",
              "      <td>2</td>\n",
              "      <td>20</td>\n",
              "      <td>6</td>\n",
              "      <td>217866</td>\n",
              "      <td>136</td>\n",
              "      <td>9</td>\n",
              "    </tr>\n",
              "    <tr>\n",
              "      <th>4</th>\n",
              "      <td>108</td>\n",
              "      <td>15세 관람가</td>\n",
              "      <td>신근호</td>\n",
              "      <td>1.00</td>\n",
              "      <td>1</td>\n",
              "      <td>251</td>\n",
              "      <td>2</td>\n",
              "      <td>483387</td>\n",
              "      <td>141</td>\n",
              "      <td>9</td>\n",
              "    </tr>\n",
              "    <tr>\n",
              "      <th>...</th>\n",
              "      <td>...</td>\n",
              "      <td>...</td>\n",
              "      <td>...</td>\n",
              "      <td>...</td>\n",
              "      <td>...</td>\n",
              "      <td>...</td>\n",
              "      <td>...</td>\n",
              "      <td>...</td>\n",
              "      <td>...</td>\n",
              "      <td>...</td>\n",
              "    </tr>\n",
              "    <tr>\n",
              "      <th>595</th>\n",
              "      <td>111</td>\n",
              "      <td>청소년 관람불가</td>\n",
              "      <td>심성보</td>\n",
              "      <td>3833.00</td>\n",
              "      <td>1</td>\n",
              "      <td>510</td>\n",
              "      <td>7</td>\n",
              "      <td>1475091</td>\n",
              "      <td>136</td>\n",
              "      <td>8</td>\n",
              "    </tr>\n",
              "    <tr>\n",
              "      <th>596</th>\n",
              "      <td>127</td>\n",
              "      <td>15세 관람가</td>\n",
              "      <td>윤종찬</td>\n",
              "      <td>496061.00</td>\n",
              "      <td>1</td>\n",
              "      <td>286</td>\n",
              "      <td>6</td>\n",
              "      <td>1716438</td>\n",
              "      <td>141</td>\n",
              "      <td>8</td>\n",
              "    </tr>\n",
              "    <tr>\n",
              "      <th>597</th>\n",
              "      <td>99</td>\n",
              "      <td>청소년 관람불가</td>\n",
              "      <td>김대현</td>\n",
              "      <td>0.00</td>\n",
              "      <td>0</td>\n",
              "      <td>123</td>\n",
              "      <td>4</td>\n",
              "      <td>2475</td>\n",
              "      <td>45</td>\n",
              "      <td>7</td>\n",
              "    </tr>\n",
              "    <tr>\n",
              "      <th>598</th>\n",
              "      <td>102</td>\n",
              "      <td>15세 관람가</td>\n",
              "      <td>백운학</td>\n",
              "      <td>0.00</td>\n",
              "      <td>0</td>\n",
              "      <td>431</td>\n",
              "      <td>4</td>\n",
              "      <td>2192525</td>\n",
              "      <td>137</td>\n",
              "      <td>12</td>\n",
              "    </tr>\n",
              "    <tr>\n",
              "      <th>599</th>\n",
              "      <td>120</td>\n",
              "      <td>15세 관람가</td>\n",
              "      <td>류승완</td>\n",
              "      <td>0.00</td>\n",
              "      <td>0</td>\n",
              "      <td>363</td>\n",
              "      <td>5</td>\n",
              "      <td>7166532</td>\n",
              "      <td>137</td>\n",
              "      <td>11</td>\n",
              "    </tr>\n",
              "  </tbody>\n",
              "</table>\n",
              "<p>600 rows × 10 columns</p>\n",
              "</div>\n",
              "      <button class=\"colab-df-convert\" onclick=\"convertToInteractive('df-b466d2e1-30af-4247-bc2f-f427162f023a')\"\n",
              "              title=\"Convert this dataframe to an interactive table.\"\n",
              "              style=\"display:none;\">\n",
              "        \n",
              "  <svg xmlns=\"http://www.w3.org/2000/svg\" height=\"24px\"viewBox=\"0 0 24 24\"\n",
              "       width=\"24px\">\n",
              "    <path d=\"M0 0h24v24H0V0z\" fill=\"none\"/>\n",
              "    <path d=\"M18.56 5.44l.94 2.06.94-2.06 2.06-.94-2.06-.94-.94-2.06-.94 2.06-2.06.94zm-11 1L8.5 8.5l.94-2.06 2.06-.94-2.06-.94L8.5 2.5l-.94 2.06-2.06.94zm10 10l.94 2.06.94-2.06 2.06-.94-2.06-.94-.94-2.06-.94 2.06-2.06.94z\"/><path d=\"M17.41 7.96l-1.37-1.37c-.4-.4-.92-.59-1.43-.59-.52 0-1.04.2-1.43.59L10.3 9.45l-7.72 7.72c-.78.78-.78 2.05 0 2.83L4 21.41c.39.39.9.59 1.41.59.51 0 1.02-.2 1.41-.59l7.78-7.78 2.81-2.81c.8-.78.8-2.07 0-2.86zM5.41 20L4 18.59l7.72-7.72 1.47 1.35L5.41 20z\"/>\n",
              "  </svg>\n",
              "      </button>\n",
              "      \n",
              "  <style>\n",
              "    .colab-df-container {\n",
              "      display:flex;\n",
              "      flex-wrap:wrap;\n",
              "      gap: 12px;\n",
              "    }\n",
              "\n",
              "    .colab-df-convert {\n",
              "      background-color: #E8F0FE;\n",
              "      border: none;\n",
              "      border-radius: 50%;\n",
              "      cursor: pointer;\n",
              "      display: none;\n",
              "      fill: #1967D2;\n",
              "      height: 32px;\n",
              "      padding: 0 0 0 0;\n",
              "      width: 32px;\n",
              "    }\n",
              "\n",
              "    .colab-df-convert:hover {\n",
              "      background-color: #E2EBFA;\n",
              "      box-shadow: 0px 1px 2px rgba(60, 64, 67, 0.3), 0px 1px 3px 1px rgba(60, 64, 67, 0.15);\n",
              "      fill: #174EA6;\n",
              "    }\n",
              "\n",
              "    [theme=dark] .colab-df-convert {\n",
              "      background-color: #3B4455;\n",
              "      fill: #D2E3FC;\n",
              "    }\n",
              "\n",
              "    [theme=dark] .colab-df-convert:hover {\n",
              "      background-color: #434B5C;\n",
              "      box-shadow: 0px 1px 3px 1px rgba(0, 0, 0, 0.15);\n",
              "      filter: drop-shadow(0px 1px 2px rgba(0, 0, 0, 0.3));\n",
              "      fill: #FFFFFF;\n",
              "    }\n",
              "  </style>\n",
              "\n",
              "      <script>\n",
              "        const buttonEl =\n",
              "          document.querySelector('#df-b466d2e1-30af-4247-bc2f-f427162f023a button.colab-df-convert');\n",
              "        buttonEl.style.display =\n",
              "          google.colab.kernel.accessAllowed ? 'block' : 'none';\n",
              "\n",
              "        async function convertToInteractive(key) {\n",
              "          const element = document.querySelector('#df-b466d2e1-30af-4247-bc2f-f427162f023a');\n",
              "          const dataTable =\n",
              "            await google.colab.kernel.invokeFunction('convertToInteractive',\n",
              "                                                     [key], {});\n",
              "          if (!dataTable) return;\n",
              "\n",
              "          const docLinkHtml = 'Like what you see? Visit the ' +\n",
              "            '<a target=\"_blank\" href=https://colab.research.google.com/notebooks/data_table.ipynb>data table notebook</a>'\n",
              "            + ' to learn more about interactive tables.';\n",
              "          element.innerHTML = '';\n",
              "          dataTable['output_type'] = 'display_data';\n",
              "          await google.colab.output.renderOutput(dataTable, element);\n",
              "          const docLink = document.createElement('div');\n",
              "          docLink.innerHTML = docLinkHtml;\n",
              "          element.appendChild(docLink);\n",
              "        }\n",
              "      </script>\n",
              "    </div>\n",
              "  </div>\n",
              "  "
            ]
          },
          "metadata": {},
          "execution_count": 258
        }
      ]
    },
    {
      "cell_type": "markdown",
      "source": [
        "* 원핫인코딩"
      ],
      "metadata": {
        "id": "T_3AKdBLz70v"
      }
    },
    {
      "cell_type": "code",
      "source": [
        "tr_scre_nm_rank['scre_nm_rank'] = [i + 1 for i in range(tr_scre_nm_rank.shape[0])]\n",
        "tr_scre_nm_rank"
      ],
      "metadata": {
        "colab": {
          "base_uri": "https://localhost:8080/",
          "height": 175
        },
        "id": "UoxQB055CIPD",
        "outputId": "a35cf27c-e2bd-4193-c7a0-0cd48ccad3ec"
      },
      "execution_count": 259,
      "outputs": [
        {
          "output_type": "execute_result",
          "data": {
            "text/plain": [
              "  screening_rat  scre_num_rank  scre_nm_rank\n",
              "3      청소년 관람불가         3008.5             1\n",
              "2        전체 관람가         8325.0             2\n",
              "0       12세 관람가        19323.0             3\n",
              "1       15세 관람가       242381.0             4"
            ],
            "text/html": [
              "\n",
              "  <div id=\"df-cd78659e-996f-4903-b18c-f9dc9651d18d\">\n",
              "    <div class=\"colab-df-container\">\n",
              "      <div>\n",
              "<style scoped>\n",
              "    .dataframe tbody tr th:only-of-type {\n",
              "        vertical-align: middle;\n",
              "    }\n",
              "\n",
              "    .dataframe tbody tr th {\n",
              "        vertical-align: top;\n",
              "    }\n",
              "\n",
              "    .dataframe thead th {\n",
              "        text-align: right;\n",
              "    }\n",
              "</style>\n",
              "<table border=\"1\" class=\"dataframe\">\n",
              "  <thead>\n",
              "    <tr style=\"text-align: right;\">\n",
              "      <th></th>\n",
              "      <th>screening_rat</th>\n",
              "      <th>scre_num_rank</th>\n",
              "      <th>scre_nm_rank</th>\n",
              "    </tr>\n",
              "  </thead>\n",
              "  <tbody>\n",
              "    <tr>\n",
              "      <th>3</th>\n",
              "      <td>청소년 관람불가</td>\n",
              "      <td>3008.5</td>\n",
              "      <td>1</td>\n",
              "    </tr>\n",
              "    <tr>\n",
              "      <th>2</th>\n",
              "      <td>전체 관람가</td>\n",
              "      <td>8325.0</td>\n",
              "      <td>2</td>\n",
              "    </tr>\n",
              "    <tr>\n",
              "      <th>0</th>\n",
              "      <td>12세 관람가</td>\n",
              "      <td>19323.0</td>\n",
              "      <td>3</td>\n",
              "    </tr>\n",
              "    <tr>\n",
              "      <th>1</th>\n",
              "      <td>15세 관람가</td>\n",
              "      <td>242381.0</td>\n",
              "      <td>4</td>\n",
              "    </tr>\n",
              "  </tbody>\n",
              "</table>\n",
              "</div>\n",
              "      <button class=\"colab-df-convert\" onclick=\"convertToInteractive('df-cd78659e-996f-4903-b18c-f9dc9651d18d')\"\n",
              "              title=\"Convert this dataframe to an interactive table.\"\n",
              "              style=\"display:none;\">\n",
              "        \n",
              "  <svg xmlns=\"http://www.w3.org/2000/svg\" height=\"24px\"viewBox=\"0 0 24 24\"\n",
              "       width=\"24px\">\n",
              "    <path d=\"M0 0h24v24H0V0z\" fill=\"none\"/>\n",
              "    <path d=\"M18.56 5.44l.94 2.06.94-2.06 2.06-.94-2.06-.94-.94-2.06-.94 2.06-2.06.94zm-11 1L8.5 8.5l.94-2.06 2.06-.94-2.06-.94L8.5 2.5l-.94 2.06-2.06.94zm10 10l.94 2.06.94-2.06 2.06-.94-2.06-.94-.94-2.06-.94 2.06-2.06.94z\"/><path d=\"M17.41 7.96l-1.37-1.37c-.4-.4-.92-.59-1.43-.59-.52 0-1.04.2-1.43.59L10.3 9.45l-7.72 7.72c-.78.78-.78 2.05 0 2.83L4 21.41c.39.39.9.59 1.41.59.51 0 1.02-.2 1.41-.59l7.78-7.78 2.81-2.81c.8-.78.8-2.07 0-2.86zM5.41 20L4 18.59l7.72-7.72 1.47 1.35L5.41 20z\"/>\n",
              "  </svg>\n",
              "      </button>\n",
              "      \n",
              "  <style>\n",
              "    .colab-df-container {\n",
              "      display:flex;\n",
              "      flex-wrap:wrap;\n",
              "      gap: 12px;\n",
              "    }\n",
              "\n",
              "    .colab-df-convert {\n",
              "      background-color: #E8F0FE;\n",
              "      border: none;\n",
              "      border-radius: 50%;\n",
              "      cursor: pointer;\n",
              "      display: none;\n",
              "      fill: #1967D2;\n",
              "      height: 32px;\n",
              "      padding: 0 0 0 0;\n",
              "      width: 32px;\n",
              "    }\n",
              "\n",
              "    .colab-df-convert:hover {\n",
              "      background-color: #E2EBFA;\n",
              "      box-shadow: 0px 1px 2px rgba(60, 64, 67, 0.3), 0px 1px 3px 1px rgba(60, 64, 67, 0.15);\n",
              "      fill: #174EA6;\n",
              "    }\n",
              "\n",
              "    [theme=dark] .colab-df-convert {\n",
              "      background-color: #3B4455;\n",
              "      fill: #D2E3FC;\n",
              "    }\n",
              "\n",
              "    [theme=dark] .colab-df-convert:hover {\n",
              "      background-color: #434B5C;\n",
              "      box-shadow: 0px 1px 3px 1px rgba(0, 0, 0, 0.15);\n",
              "      filter: drop-shadow(0px 1px 2px rgba(0, 0, 0, 0.3));\n",
              "      fill: #FFFFFF;\n",
              "    }\n",
              "  </style>\n",
              "\n",
              "      <script>\n",
              "        const buttonEl =\n",
              "          document.querySelector('#df-cd78659e-996f-4903-b18c-f9dc9651d18d button.colab-df-convert');\n",
              "        buttonEl.style.display =\n",
              "          google.colab.kernel.accessAllowed ? 'block' : 'none';\n",
              "\n",
              "        async function convertToInteractive(key) {\n",
              "          const element = document.querySelector('#df-cd78659e-996f-4903-b18c-f9dc9651d18d');\n",
              "          const dataTable =\n",
              "            await google.colab.kernel.invokeFunction('convertToInteractive',\n",
              "                                                     [key], {});\n",
              "          if (!dataTable) return;\n",
              "\n",
              "          const docLinkHtml = 'Like what you see? Visit the ' +\n",
              "            '<a target=\"_blank\" href=https://colab.research.google.com/notebooks/data_table.ipynb>data table notebook</a>'\n",
              "            + ' to learn more about interactive tables.';\n",
              "          element.innerHTML = '';\n",
              "          dataTable['output_type'] = 'display_data';\n",
              "          await google.colab.output.renderOutput(dataTable, element);\n",
              "          const docLink = document.createElement('div');\n",
              "          docLink.innerHTML = docLinkHtml;\n",
              "          element.appendChild(docLink);\n",
              "        }\n",
              "      </script>\n",
              "    </div>\n",
              "  </div>\n",
              "  "
            ]
          },
          "metadata": {},
          "execution_count": 259
        }
      ]
    },
    {
      "cell_type": "code",
      "source": [
        "df_train = pd.merge(df_train, tr_scre_nm_rank)\n",
        "df_test = pd.merge(df_test, tr_scre_nm_rank)"
      ],
      "metadata": {
        "id": "TCIKldd77eKy"
      },
      "execution_count": 260,
      "outputs": []
    },
    {
      "cell_type": "code",
      "source": [
        "df_test.info()"
      ],
      "metadata": {
        "colab": {
          "base_uri": "https://localhost:8080/"
        },
        "id": "MsQQnGgw0vdf",
        "outputId": "15fc0da6-a9d0-47e1-e651-e8233e67b1cf"
      },
      "execution_count": 261,
      "outputs": [
        {
          "output_type": "stream",
          "name": "stdout",
          "text": [
            "<class 'pandas.core.frame.DataFrame'>\n",
            "Int64Index: 243 entries, 0 to 242\n",
            "Data columns (total 11 columns):\n",
            " #   Column          Non-Null Count  Dtype  \n",
            "---  ------          --------------  -----  \n",
            " 0   time            243 non-null    int64  \n",
            " 1   screening_rat   243 non-null    object \n",
            " 2   director        243 non-null    object \n",
            " 3   dir_prev_bfnum  243 non-null    float64\n",
            " 4   dir_prev_num    243 non-null    int64  \n",
            " 5   num_staff       243 non-null    int64  \n",
            " 6   num_actor       243 non-null    int64  \n",
            " 7   dist_num_rank   243 non-null    float64\n",
            " 8   genre_rank      243 non-null    int64  \n",
            " 9   scre_num_rank   243 non-null    float64\n",
            " 10  scre_nm_rank    243 non-null    int64  \n",
            "dtypes: float64(3), int64(6), object(2)\n",
            "memory usage: 22.8+ KB\n"
          ]
        }
      ]
    },
    {
      "cell_type": "code",
      "source": [
        "df_train.drop(['screening_rat'],inplace = True, axis = 1)\n",
        "df_test.drop(['screening_rat'],inplace = True, axis = 1)"
      ],
      "metadata": {
        "id": "QCJht2hNBXOs"
      },
      "execution_count": 262,
      "outputs": []
    },
    {
      "cell_type": "markdown",
      "source": [
        "## 2.8 dir_prev_num"
      ],
      "metadata": {
        "id": "Rnwozx4sdDRc"
      }
    },
    {
      "cell_type": "code",
      "source": [
        "df_train['dir_prev_num'].unique()"
      ],
      "metadata": {
        "id": "rElNouXQoh2M",
        "colab": {
          "base_uri": "https://localhost:8080/"
        },
        "outputId": "fd7adc4f-29c3-4295-a0ce-7e73147488c6"
      },
      "execution_count": 263,
      "outputs": [
        {
          "output_type": "execute_result",
          "data": {
            "text/plain": [
              "array([0, 2, 3, 1, 4, 5])"
            ]
          },
          "metadata": {},
          "execution_count": 263
        }
      ]
    },
    {
      "cell_type": "code",
      "source": [
        "plt.figure(figsize=(10, 5))\n",
        "sns.barplot(data=df_train, x=\"dir_prev_num\", y=\"box_off_num\")"
      ],
      "metadata": {
        "colab": {
          "base_uri": "https://localhost:8080/",
          "height": 364
        },
        "id": "3VOYluHbdur3",
        "outputId": "7c03de1c-81a7-408b-e5ac-e32a9f16c4ad"
      },
      "execution_count": 264,
      "outputs": [
        {
          "output_type": "execute_result",
          "data": {
            "text/plain": [
              "<matplotlib.axes._subplots.AxesSubplot at 0x7f5272034d50>"
            ]
          },
          "metadata": {},
          "execution_count": 264
        },
        {
          "output_type": "display_data",
          "data": {
            "text/plain": [
              "<Figure size 720x360 with 1 Axes>"
            ],
            "image/png": "[encoded data removed]"
          },
          "metadata": {
            "needs_background": "light"
          }
        }
      ]
    },
    {
      "cell_type": "markdown",
      "source": [
        "그래프를 보기 전에는 당연히 5개를 만들 감독들의 수치가 높을 것이라 예상했지만 꼭 그렇지만도 않았다. \n"
      ],
      "metadata": {
        "id": "CdPniTdAd1M2"
      }
    },
    {
      "cell_type": "markdown",
      "source": [
        "## 2.9 director"
      ],
      "metadata": {
        "id": "qwuiNXxN2vp6"
      }
    },
    {
      "cell_type": "code",
      "source": [
        "df_train['director'].unique()"
      ],
      "metadata": {
        "id": "g4KY3p8tAfi2",
        "colab": {
          "base_uri": "https://localhost:8080/"
        },
        "outputId": "ddc1e5f0-e501-4063-df4d-f5c27a0f17d7"
      },
      "execution_count": 265,
      "outputs": [
        {
          "output_type": "execute_result",
          "data": {
            "text/plain": [
              "array(['조병옥', '우민호', '임상윤', '조조 히데오', '한종훈', '홍상수', '안국진', '권칠인', '김재한',\n",
              "       '손승웅', '김철한', '한상희', '김조광수', '김기덕', '민규동', '진승현', '도창훈', '류승완',\n",
              "       '전수일', '하기호', '정범식', '남기웅', '곽경택', '이지형', '김인식', '이영미', '이정범',\n",
              "       '박재식', '김상만', '정연식', '한동호', '손영국', '김동명', '김대우', '방현준', '연상호',\n",
              "       '전재홍', '신재영', '조근현', '윤종빈', '김병준', '허은희', '고석진', '하마구치 류스케', '조원희',\n",
              "       '박형우', '이수성', '박헌수', '이현철', '장성수', '조창호', '박석영', '김회근', '박선욱',\n",
              "       '신재호', '주경중', '장건재', '박상현', '신혜성', 'New Pistol', '한윤선', '유하',\n",
              "       '임상수', '강우석', '노진수', '권형진', '박철수', '김동후', '오영두', '이상우', '황철민',\n",
              "       '김명서', '황욱', '정용택', '지하진', '문정윤', '이숭환', '맹관표', '최승호', '이수진',\n",
              "       '이광호', '류훈', '윤여창', '김일종', '박명랑', '김태균', '김진홍', '구모', '백승기', '김태식',\n",
              "       '김정훈', '강훈', '전규환', '박용집', '송정우', '이로이', '김건', '이돈구', '민용근', '정영헌',\n",
              "       '안상훈', '김봉은', '노병하', '김정호', '신연식', '최위안', '고구마', '이송희일', '황인호',\n",
              "       '허종호', '이정욱', '이난', '임권택', '유정환', '김곡', '김홍선', '임경수', '이사무엘',\n",
              "       '강형철', '이세일', '정초신', '김선아', '하원준', '황유식', '한우진', '송창용', '조범구',\n",
              "       '노성수', '박정범', '이전', '김지운', '공귀현', '한소준', '김경묵', '김지용', '이지승', '김휘',\n",
              "       '전태윤', '노덕', '나홍진', '알버트 신', '정단우', '김석정', '김성홍', '정윤수', '김민욱',\n",
              "       '최시형', '임필성', '김태경', '신정균', '조운', '김대성', '기대호', '임우성', '이재한', '김선',\n",
              "       '이덕희', '이해영', '조성희', '봉만대', '한준희', '심성보', '김대현', '장철수', '신근호',\n",
              "       '육상효', '변성현', '동지견', '김규민', '김관철', '전계수', '최원섭', '최호', '김기영',\n",
              "       '문인수', '손영성', '정기훈', '김희정', '정우철', '전형준', '김상석', '에밀리오 에스테베즈',\n",
              "       '김태용', '지민', '송해성', '엄태화', '김동빈', '김진무', '한재림', '임흥순', '김경만', '경순',\n",
              "       '신태라', '배광수', '김성수', '박진표', '오인천', '양우석', '이재규', '이해준', '장훈',\n",
              "       '김정환', '홍석재', '서호빈', '박범훈', '임진순', '정승구', '김지훈', '이규만', '박진성',\n",
              "       '김진영', '성지혜', '김광식', '홍지영', '박훈정', '유선동', '신수원', '정지영', '박범수',\n",
              "       '박찬경', '이성은', '정윤석', '이상호', '김민석', '방은진', '조동오', '구혜선', '이성규',\n",
              "       '강효진', '손재곤', '백연아', '민복기', '추창민', '황병국', '장진', '신아가', '한동욱',\n",
              "       '문제용', '김성제', '노영석', '송일곤', '장윤현', '조세영', '박미선', '전윤수', '윤재근',\n",
              "       '김한민', '조성규', '김호준', '장재현', '조치언', '조세래', '박은형', '민백두', '김동주',\n",
              "       '임순례', '박중구', '장률', '이창동', '김현석', '김봉주', '최동훈', '박동훈', '정하린',\n",
              "       '김명균', '이광국', '김상진', '이연우', '최영석', '이수정', '홍원찬', '한승훈', '인진미',\n",
              "       '허인무', '성시흡', '김광태', '이주형', '한상민', '김효정', '변승욱', '권중목', '정용주',\n",
              "       '박정우', '박철관', '조의석', '황동혁', '임찬상', '진광교', '김성훈', '오창민', '김동원',\n",
              "       '김철민', '변영주', '봉준호', '정호현', '이현승', '김준권', '안권태', '이근우', '유원상',\n",
              "       '김용균', '백승화', '윤준형', '이환경', '계윤식', '이원석', '박배일', '폴 페이그', '박규택',\n",
              "       '이준익', '박흥식', '김익로', '배형준', '이철하', '허정', '임범', '국동석', '추상록', '신성섭',\n",
              "       '김태곤', '전화성', '신정원', '윤종찬', '백운학', '구자홍', '이창재', '정성복', '린슈유',\n",
              "       '최윤석', '방형우', '김상철', '배성상', '김성호', '손석', '배창호', '권혁만', '이창규',\n",
              "       '구수환', '최경석', '정익환', '이홍석', '박준기', '조성형', '지율스님', '문승욱', '임성구',\n",
              "       '문제대', '이종현', '안재훈', '권우정', '태미 추', '김혜정', '김영진', '김진만', '정흠문',\n",
              "       '박문칠', '임유철', '표만석', '임상준', '이지현', '진모영', '김창만', '이길보라', '김봉곤',\n",
              "       '피터 레페니오티스', '백승창', '노효두', '김대창', '강석필', '이정철', '박경근', '주호성',\n",
              "       '강성옥', '권효', '이정인', '양영희', '신현원', '유성엽', '이승준', '황석호', '오성윤',\n",
              "       '서동일', '김태일', '장태령', '이강현', '최필곤', '장경수', '박성미', '김정욱', '전성우',\n",
              "       '이홍재', '이성수', '한승룡', '백동훈', '윤기형', '오멸', '허철', '이상빈', '박태동', '박영균',\n",
              "       '이홍기', '양병간', '최종태', '윤학렬', '부지영', '이재용', '장희선', '최용석', '이종필',\n",
              "       '김진민', '소재영', '타케 마사하루', '심형래', '장희철', '김덕수', '김석윤', '오기환', '홍재희',\n",
              "       '라희찬', '이장호', '김영탁', '신춘수', '유상헌', '박진순', '한철수', '양윤호', '이대희',\n",
              "       '강의석', '권오광', '김태윤', '민환기', '이항배', '윤태식', '김종철', '장규성', '한창근',\n",
              "       '홍리경', '민두식', '박사유', '백승우', '이석훈', '이조훈', '이정황', '김병곤', '김달중',\n",
              "       '김성균', '이호재', '윤제균', '박희곤', '손광주', '이용주', '문현성', '하정우', '김용화',\n",
              "       '김진열', '김재환', '장유정', '태준식', '이학준', '백종열', '남택수', '한지원', '윤성호',\n",
              "       '천성일', '구봉회', '안도 마사히로', '김대승', '정세교', '김기훈', '조연수', '김형주', '김재수'],\n",
              "      dtype=object)"
            ]
          },
          "metadata": {},
          "execution_count": 265
        }
      ]
    },
    {
      "cell_type": "code",
      "source": [
        "df_train[[\"director\", \"box_off_num\"]].groupby(\"director\").mean().sort_values(\"box_off_num\")"
      ],
      "metadata": {
        "colab": {
          "base_uri": "https://localhost:8080/",
          "height": 455
        },
        "id": "_OqqarX318OB",
        "outputId": "a84aea37-3936-460a-f24b-14f6dcc95e4f"
      },
      "execution_count": 266,
      "outputs": [
        {
          "output_type": "execute_result",
          "data": {
            "text/plain": [
              "          box_off_num\n",
              "director             \n",
              "노성수               1.0\n",
              "김정호               2.0\n",
              "고구마               8.0\n",
              "이세일              10.0\n",
              "진광교              36.0\n",
              "...               ...\n",
              "한재림         9135806.0\n",
              "봉준호         9350351.0\n",
              "양우석        11374879.0\n",
              "최동훈        12845252.0\n",
              "윤제균        14262766.0\n",
              "\n",
              "[472 rows x 1 columns]"
            ],
            "text/html": [
              "\n",
              "  <div id=\"df-131c768a-5f16-4b34-885d-89c8ea90cc8e\">\n",
              "    <div class=\"colab-df-container\">\n",
              "      <div>\n",
              "<style scoped>\n",
              "    .dataframe tbody tr th:only-of-type {\n",
              "        vertical-align: middle;\n",
              "    }\n",
              "\n",
              "    .dataframe tbody tr th {\n",
              "        vertical-align: top;\n",
              "    }\n",
              "\n",
              "    .dataframe thead th {\n",
              "        text-align: right;\n",
              "    }\n",
              "</style>\n",
              "<table border=\"1\" class=\"dataframe\">\n",
              "  <thead>\n",
              "    <tr style=\"text-align: right;\">\n",
              "      <th></th>\n",
              "      <th>box_off_num</th>\n",
              "    </tr>\n",
              "    <tr>\n",
              "      <th>director</th>\n",
              "      <th></th>\n",
              "    </tr>\n",
              "  </thead>\n",
              "  <tbody>\n",
              "    <tr>\n",
              "      <th>노성수</th>\n",
              "      <td>1.0</td>\n",
              "    </tr>\n",
              "    <tr>\n",
              "      <th>김정호</th>\n",
              "      <td>2.0</td>\n",
              "    </tr>\n",
              "    <tr>\n",
              "      <th>고구마</th>\n",
              "      <td>8.0</td>\n",
              "    </tr>\n",
              "    <tr>\n",
              "      <th>이세일</th>\n",
              "      <td>10.0</td>\n",
              "    </tr>\n",
              "    <tr>\n",
              "      <th>진광교</th>\n",
              "      <td>36.0</td>\n",
              "    </tr>\n",
              "    <tr>\n",
              "      <th>...</th>\n",
              "      <td>...</td>\n",
              "    </tr>\n",
              "    <tr>\n",
              "      <th>한재림</th>\n",
              "      <td>9135806.0</td>\n",
              "    </tr>\n",
              "    <tr>\n",
              "      <th>봉준호</th>\n",
              "      <td>9350351.0</td>\n",
              "    </tr>\n",
              "    <tr>\n",
              "      <th>양우석</th>\n",
              "      <td>11374879.0</td>\n",
              "    </tr>\n",
              "    <tr>\n",
              "      <th>최동훈</th>\n",
              "      <td>12845252.0</td>\n",
              "    </tr>\n",
              "    <tr>\n",
              "      <th>윤제균</th>\n",
              "      <td>14262766.0</td>\n",
              "    </tr>\n",
              "  </tbody>\n",
              "</table>\n",
              "<p>472 rows × 1 columns</p>\n",
              "</div>\n",
              "      <button class=\"colab-df-convert\" onclick=\"convertToInteractive('df-131c768a-5f16-4b34-885d-89c8ea90cc8e')\"\n",
              "              title=\"Convert this dataframe to an interactive table.\"\n",
              "              style=\"display:none;\">\n",
              "        \n",
              "  <svg xmlns=\"http://www.w3.org/2000/svg\" height=\"24px\"viewBox=\"0 0 24 24\"\n",
              "       width=\"24px\">\n",
              "    <path d=\"M0 0h24v24H0V0z\" fill=\"none\"/>\n",
              "    <path d=\"M18.56 5.44l.94 2.06.94-2.06 2.06-.94-2.06-.94-.94-2.06-.94 2.06-2.06.94zm-11 1L8.5 8.5l.94-2.06 2.06-.94-2.06-.94L8.5 2.5l-.94 2.06-2.06.94zm10 10l.94 2.06.94-2.06 2.06-.94-2.06-.94-.94-2.06-.94 2.06-2.06.94z\"/><path d=\"M17.41 7.96l-1.37-1.37c-.4-.4-.92-.59-1.43-.59-.52 0-1.04.2-1.43.59L10.3 9.45l-7.72 7.72c-.78.78-.78 2.05 0 2.83L4 21.41c.39.39.9.59 1.41.59.51 0 1.02-.2 1.41-.59l7.78-7.78 2.81-2.81c.8-.78.8-2.07 0-2.86zM5.41 20L4 18.59l7.72-7.72 1.47 1.35L5.41 20z\"/>\n",
              "  </svg>\n",
              "      </button>\n",
              "      \n",
              "  <style>\n",
              "    .colab-df-container {\n",
              "      display:flex;\n",
              "      flex-wrap:wrap;\n",
              "      gap: 12px;\n",
              "    }\n",
              "\n",
              "    .colab-df-convert {\n",
              "      background-color: #E8F0FE;\n",
              "      border: none;\n",
              "      border-radius: 50%;\n",
              "      cursor: pointer;\n",
              "      display: none;\n",
              "      fill: #1967D2;\n",
              "      height: 32px;\n",
              "      padding: 0 0 0 0;\n",
              "      width: 32px;\n",
              "    }\n",
              "\n",
              "    .colab-df-convert:hover {\n",
              "      background-color: #E2EBFA;\n",
              "      box-shadow: 0px 1px 2px rgba(60, 64, 67, 0.3), 0px 1px 3px 1px rgba(60, 64, 67, 0.15);\n",
              "      fill: #174EA6;\n",
              "    }\n",
              "\n",
              "    [theme=dark] .colab-df-convert {\n",
              "      background-color: #3B4455;\n",
              "      fill: #D2E3FC;\n",
              "    }\n",
              "\n",
              "    [theme=dark] .colab-df-convert:hover {\n",
              "      background-color: #434B5C;\n",
              "      box-shadow: 0px 1px 3px 1px rgba(0, 0, 0, 0.15);\n",
              "      filter: drop-shadow(0px 1px 2px rgba(0, 0, 0, 0.3));\n",
              "      fill: #FFFFFF;\n",
              "    }\n",
              "  </style>\n",
              "\n",
              "      <script>\n",
              "        const buttonEl =\n",
              "          document.querySelector('#df-131c768a-5f16-4b34-885d-89c8ea90cc8e button.colab-df-convert');\n",
              "        buttonEl.style.display =\n",
              "          google.colab.kernel.accessAllowed ? 'block' : 'none';\n",
              "\n",
              "        async function convertToInteractive(key) {\n",
              "          const element = document.querySelector('#df-131c768a-5f16-4b34-885d-89c8ea90cc8e');\n",
              "          const dataTable =\n",
              "            await google.colab.kernel.invokeFunction('convertToInteractive',\n",
              "                                                     [key], {});\n",
              "          if (!dataTable) return;\n",
              "\n",
              "          const docLinkHtml = 'Like what you see? Visit the ' +\n",
              "            '<a target=\"_blank\" href=https://colab.research.google.com/notebooks/data_table.ipynb>data table notebook</a>'\n",
              "            + ' to learn more about interactive tables.';\n",
              "          element.innerHTML = '';\n",
              "          dataTable['output_type'] = 'display_data';\n",
              "          await google.colab.output.renderOutput(dataTable, element);\n",
              "          const docLink = document.createElement('div');\n",
              "          docLink.innerHTML = docLinkHtml;\n",
              "          element.appendChild(docLink);\n",
              "        }\n",
              "      </script>\n",
              "    </div>\n",
              "  </div>\n",
              "  "
            ]
          },
          "metadata": {},
          "execution_count": 266
        }
      ]
    },
    {
      "cell_type": "markdown",
      "source": [
        "감독에 따라 관람객의 수가 다를 수도 있겠지만 관람객의 수를 절대적으로 판별할수있는 기준은 안된다고 판단\n",
        "\n",
        "또한 감독의 이름대신 수치화 되어있는 다른 컬럼들이 존재"
      ],
      "metadata": {
        "id": "jcqGnvusiZk_"
      }
    },
    {
      "cell_type": "markdown",
      "source": [
        "### 2.9.1director 제거"
      ],
      "metadata": {
        "id": "E08FEx5o227R"
      }
    },
    {
      "cell_type": "code",
      "source": [
        "df_train.drop(['director'], inplace = True, axis =1)\n",
        "df_test.drop(['director'], inplace = True, axis =1)"
      ],
      "metadata": {
        "id": "dIvvm4SGBevD"
      },
      "execution_count": 267,
      "outputs": []
    },
    {
      "cell_type": "markdown",
      "source": [
        "### 2.10 num_staff"
      ],
      "metadata": {
        "id": "UdgVtfpB3ARa"
      }
    },
    {
      "cell_type": "code",
      "source": [
        "df_train['num_staff'].unique()"
      ],
      "metadata": {
        "id": "BTWM6dp5oh4B",
        "colab": {
          "base_uri": "https://localhost:8080/"
        },
        "outputId": "f75c47da-b028-47a2-9993-e50fa61ed1fc"
      },
      "execution_count": 268,
      "outputs": [
        {
          "output_type": "execute_result",
          "data": {
            "text/plain": [
              "array([ 91, 387, 342,   0,  15,  52,  74, 228, 288, 153, 183, 250,  29,\n",
              "         1, 135, 182,  10, 100, 471,  23, 368, 315, 107, 290, 319,   5,\n",
              "        80, 132,  59, 110, 509, 108, 344, 174,  72, 379,  12, 136,  95,\n",
              "       350, 216, 308,  55,  34,  50,  88, 119,  92, 252,   6,  82,  60,\n",
              "        56,  16, 239,  53,  26, 151, 214,  30,  48, 126, 719, 302, 353,\n",
              "       111,  44, 156,  38, 124,  40,  14,  57,  58,  41,  18,  89,  97,\n",
              "       333,  20,  19, 215, 207, 292,  63, 143, 103, 178, 105,  90,  21,\n",
              "       106, 642,  27,  31,  43,   3, 196,  70, 139, 336, 109,   2,   4,\n",
              "        42, 148, 101, 382, 309, 129,   8, 284,  13,  85, 324, 162, 583,\n",
              "        49,  75,  17, 335,  54,   7,  66, 418, 180, 582,  24, 481, 121,\n",
              "        93, 257, 683,  81,  28, 354,  37, 450,  11, 115,  22, 404, 194,\n",
              "       420, 510, 123, 343, 251, 262, 138, 572,  71,   9, 600, 279, 125,\n",
              "        67, 372,  68, 341, 310, 204, 264, 546, 155,  65, 167, 365, 298,\n",
              "       360, 391,  96, 397, 268, 311, 650, 459, 238, 351, 208, 118, 260,\n",
              "       423,  83, 326, 224, 306, 307, 270, 227, 112,  35, 500, 318, 428,\n",
              "       304, 253, 273, 458, 433, 287, 199,  51, 198, 356,  77, 364, 687,\n",
              "       131, 369, 193,  78, 263, 237,  94, 566, 437, 462, 212, 277, 197,\n",
              "       191, 402,  32, 399, 192, 367,  61, 438, 200, 128, 120, 331, 431,\n",
              "       477, 628, 340, 436, 150, 243,  98, 317, 255, 300, 258, 158, 410,\n",
              "       439, 157, 303, 249, 281, 154, 380, 456, 286, 363, 140, 359,  33,\n",
              "       240,  36,  76,  86, 261, 220, 152, 466, 519, 130, 295,  47, 244,\n",
              "       485, 358, 282, 173,  25, 520, 496, 869,  69, 134, 499, 419, 412,\n",
              "       422, 547, 357, 612, 206, 868, 388, 574, 117, 245])"
            ]
          },
          "metadata": {},
          "execution_count": 268
        }
      ]
    },
    {
      "cell_type": "code",
      "source": [
        "df_train.shape"
      ],
      "metadata": {
        "colab": {
          "base_uri": "https://localhost:8080/"
        },
        "id": "4LF4B8Dghiwd",
        "outputId": "ac37456f-fbcc-46af-b4c8-a24b6c86bf31"
      },
      "execution_count": 269,
      "outputs": [
        {
          "output_type": "execute_result",
          "data": {
            "text/plain": [
              "(600, 10)"
            ]
          },
          "metadata": {},
          "execution_count": 269
        }
      ]
    },
    {
      "cell_type": "code",
      "source": [
        "df_test.shape"
      ],
      "metadata": {
        "colab": {
          "base_uri": "https://localhost:8080/"
        },
        "id": "ZhQhNHqUhpFn",
        "outputId": "07a396a3-67e6-4ccb-87b5-ae7ce91bbb8f"
      },
      "execution_count": 270,
      "outputs": [
        {
          "output_type": "execute_result",
          "data": {
            "text/plain": [
              "(243, 9)"
            ]
          },
          "metadata": {},
          "execution_count": 270
        }
      ]
    },
    {
      "cell_type": "code",
      "source": [
        "plt.figure(figsize = (30,20))\n",
        "sns.relplot(x=\"num_staff\", y=\"box_off_num\", data = df_train, color='r',)\n",
        "sns.lineplot(x=\"num_staff\", y=\"box_off_num\", data = df_train)\n",
        "plt.show()"
      ],
      "metadata": {
        "colab": {
          "base_uri": "https://localhost:8080/",
          "height": 388
        },
        "id": "3xbmWHuPjHaF",
        "outputId": "61b7c48d-6e64-4c0a-91ca-a5f10a68f4da"
      },
      "execution_count": 271,
      "outputs": [
        {
          "output_type": "display_data",
          "data": {
            "text/plain": [
              "<Figure size 2160x1440 with 0 Axes>"
            ]
          },
          "metadata": {}
        },
        {
          "output_type": "display_data",
          "data": {
            "text/plain": [
              "<Figure size 360x360 with 1 Axes>"
            ],
            "image/png": "[encoded data removed]"
          },
          "metadata": {
            "needs_background": "light"
          }
        }
      ]
    },
    {
      "cell_type": "markdown",
      "source": [
        "### 2.11 num_actor"
      ],
      "metadata": {
        "id": "3jbt2dv63KNp"
      }
    },
    {
      "cell_type": "code",
      "source": [
        "df_train['num_actor'].unique()"
      ],
      "metadata": {
        "id": "VLmOgVQfonHa",
        "colab": {
          "base_uri": "https://localhost:8080/"
        },
        "outputId": "7eecd666-c4bc-4bd5-cbaf-8c4fdf07c5cc"
      },
      "execution_count": 272,
      "outputs": [
        {
          "output_type": "execute_result",
          "data": {
            "text/plain": [
              "array([ 2,  3,  4,  9,  1,  5,  7,  6,  8, 10, 16, 11, 25,  0, 13, 14, 22])"
            ]
          },
          "metadata": {},
          "execution_count": 272
        }
      ]
    },
    {
      "cell_type": "markdown",
      "source": [
        "## 상관계수 확인"
      ],
      "metadata": {
        "id": "xVFewcPHC16U"
      }
    },
    {
      "cell_type": "code",
      "source": [
        "df_train.corr().iloc[:-1]"
      ],
      "metadata": {
        "id": "DCe7DJf4-1wX",
        "colab": {
          "base_uri": "https://localhost:8080/",
          "height": 332
        },
        "outputId": "22342b01-0f36-44ae-b4f7-ab6086fe8452"
      },
      "execution_count": 273,
      "outputs": [
        {
          "output_type": "execute_result",
          "data": {
            "text/plain": [
              "                    time  dir_prev_bfnum  dir_prev_num  num_staff  num_actor  \\\n",
              "time            1.000000        0.266065      0.306727   0.623205   0.114153   \n",
              "dir_prev_bfnum  0.266065        1.000000      0.396616   0.369657   0.042491   \n",
              "dir_prev_num    0.306727        0.396616      1.000000   0.450706   0.014006   \n",
              "num_staff       0.623205        0.369657      0.450706   1.000000   0.077871   \n",
              "num_actor       0.114153        0.042491      0.014006   0.077871   1.000000   \n",
              "box_off_num     0.441452        0.293791      0.259674   0.544265   0.111179   \n",
              "dist_num_rank   0.523461        0.235885      0.359163   0.647542   0.085962   \n",
              "genre_rank      0.404035        0.174314      0.236391   0.466936   0.058944   \n",
              "scre_num_rank   0.240933        0.100996      0.199170   0.250536   0.065989   \n",
              "\n",
              "                box_off_num  dist_num_rank  genre_rank  scre_num_rank  \\\n",
              "time               0.441452       0.523461    0.404035       0.240933   \n",
              "dir_prev_bfnum     0.293791       0.235885    0.174314       0.100996   \n",
              "dir_prev_num       0.259674       0.359163    0.236391       0.199170   \n",
              "num_staff          0.544265       0.647542    0.466936       0.250536   \n",
              "num_actor          0.111179       0.085962    0.058944       0.065989   \n",
              "box_off_num        1.000000       0.409919    0.279454       0.214533   \n",
              "dist_num_rank      0.409919       1.000000    0.294501       0.261426   \n",
              "genre_rank         0.279454       0.294501    1.000000       0.197025   \n",
              "scre_num_rank      0.214533       0.261426    0.197025       1.000000   \n",
              "\n",
              "                scre_nm_rank  \n",
              "time                0.204273  \n",
              "dir_prev_bfnum      0.095578  \n",
              "dir_prev_num        0.185063  \n",
              "num_staff           0.234017  \n",
              "num_actor           0.067075  \n",
              "box_off_num         0.217651  \n",
              "dist_num_rank       0.270930  \n",
              "genre_rank          0.053331  \n",
              "scre_num_rank       0.867382  "
            ],
            "text/html": [
              "\n",
              "  <div id=\"df-08713f11-bea1-482f-aeda-2885e0dc8cdc\">\n",
              "    <div class=\"colab-df-container\">\n",
              "      <div>\n",
              "<style scoped>\n",
              "    .dataframe tbody tr th:only-of-type {\n",
              "        vertical-align: middle;\n",
              "    }\n",
              "\n",
              "    .dataframe tbody tr th {\n",
              "        vertical-align: top;\n",
              "    }\n",
              "\n",
              "    .dataframe thead th {\n",
              "        text-align: right;\n",
              "    }\n",
              "</style>\n",
              "<table border=\"1\" class=\"dataframe\">\n",
              "  <thead>\n",
              "    <tr style=\"text-align: right;\">\n",
              "      <th></th>\n",
              "      <th>time</th>\n",
              "      <th>dir_prev_bfnum</th>\n",
              "      <th>dir_prev_num</th>\n",
              "      <th>num_staff</th>\n",
              "      <th>num_actor</th>\n",
              "      <th>box_off_num</th>\n",
              "      <th>dist_num_rank</th>\n",
              "      <th>genre_rank</th>\n",
              "      <th>scre_num_rank</th>\n",
              "      <th>scre_nm_rank</th>\n",
              "    </tr>\n",
              "  </thead>\n",
              "  <tbody>\n",
              "    <tr>\n",
              "      <th>time</th>\n",
              "      <td>1.000000</td>\n",
              "      <td>0.266065</td>\n",
              "      <td>0.306727</td>\n",
              "      <td>0.623205</td>\n",
              "      <td>0.114153</td>\n",
              "      <td>0.441452</td>\n",
              "      <td>0.523461</td>\n",
              "      <td>0.404035</td>\n",
              "      <td>0.240933</td>\n",
              "      <td>0.204273</td>\n",
              "    </tr>\n",
              "    <tr>\n",
              "      <th>dir_prev_bfnum</th>\n",
              "      <td>0.266065</td>\n",
              "      <td>1.000000</td>\n",
              "      <td>0.396616</td>\n",
              "      <td>0.369657</td>\n",
              "      <td>0.042491</td>\n",
              "      <td>0.293791</td>\n",
              "      <td>0.235885</td>\n",
              "      <td>0.174314</td>\n",
              "      <td>0.100996</td>\n",
              "      <td>0.095578</td>\n",
              "    </tr>\n",
              "    <tr>\n",
              "      <th>dir_prev_num</th>\n",
              "      <td>0.306727</td>\n",
              "      <td>0.396616</td>\n",
              "      <td>1.000000</td>\n",
              "      <td>0.450706</td>\n",
              "      <td>0.014006</td>\n",
              "      <td>0.259674</td>\n",
              "      <td>0.359163</td>\n",
              "      <td>0.236391</td>\n",
              "      <td>0.199170</td>\n",
              "      <td>0.185063</td>\n",
              "    </tr>\n",
              "    <tr>\n",
              "      <th>num_staff</th>\n",
              "      <td>0.623205</td>\n",
              "      <td>0.369657</td>\n",
              "      <td>0.450706</td>\n",
              "      <td>1.000000</td>\n",
              "      <td>0.077871</td>\n",
              "      <td>0.544265</td>\n",
              "      <td>0.647542</td>\n",
              "      <td>0.466936</td>\n",
              "      <td>0.250536</td>\n",
              "      <td>0.234017</td>\n",
              "    </tr>\n",
              "    <tr>\n",
              "      <th>num_actor</th>\n",
              "      <td>0.114153</td>\n",
              "      <td>0.042491</td>\n",
              "      <td>0.014006</td>\n",
              "      <td>0.077871</td>\n",
              "      <td>1.000000</td>\n",
              "      <td>0.111179</td>\n",
              "      <td>0.085962</td>\n",
              "      <td>0.058944</td>\n",
              "      <td>0.065989</td>\n",
              "      <td>0.067075</td>\n",
              "    </tr>\n",
              "    <tr>\n",
              "      <th>box_off_num</th>\n",
              "      <td>0.441452</td>\n",
              "      <td>0.293791</td>\n",
              "      <td>0.259674</td>\n",
              "      <td>0.544265</td>\n",
              "      <td>0.111179</td>\n",
              "      <td>1.000000</td>\n",
              "      <td>0.409919</td>\n",
              "      <td>0.279454</td>\n",
              "      <td>0.214533</td>\n",
              "      <td>0.217651</td>\n",
              "    </tr>\n",
              "    <tr>\n",
              "      <th>dist_num_rank</th>\n",
              "      <td>0.523461</td>\n",
              "      <td>0.235885</td>\n",
              "      <td>0.359163</td>\n",
              "      <td>0.647542</td>\n",
              "      <td>0.085962</td>\n",
              "      <td>0.409919</td>\n",
              "      <td>1.000000</td>\n",
              "      <td>0.294501</td>\n",
              "      <td>0.261426</td>\n",
              "      <td>0.270930</td>\n",
              "    </tr>\n",
              "    <tr>\n",
              "      <th>genre_rank</th>\n",
              "      <td>0.404035</td>\n",
              "      <td>0.174314</td>\n",
              "      <td>0.236391</td>\n",
              "      <td>0.466936</td>\n",
              "      <td>0.058944</td>\n",
              "      <td>0.279454</td>\n",
              "      <td>0.294501</td>\n",
              "      <td>1.000000</td>\n",
              "      <td>0.197025</td>\n",
              "      <td>0.053331</td>\n",
              "    </tr>\n",
              "    <tr>\n",
              "      <th>scre_num_rank</th>\n",
              "      <td>0.240933</td>\n",
              "      <td>0.100996</td>\n",
              "      <td>0.199170</td>\n",
              "      <td>0.250536</td>\n",
              "      <td>0.065989</td>\n",
              "      <td>0.214533</td>\n",
              "      <td>0.261426</td>\n",
              "      <td>0.197025</td>\n",
              "      <td>1.000000</td>\n",
              "      <td>0.867382</td>\n",
              "    </tr>\n",
              "  </tbody>\n",
              "</table>\n",
              "</div>\n",
              "      <button class=\"colab-df-convert\" onclick=\"convertToInteractive('df-08713f11-bea1-482f-aeda-2885e0dc8cdc')\"\n",
              "              title=\"Convert this dataframe to an interactive table.\"\n",
              "              style=\"display:none;\">\n",
              "        \n",
              "  <svg xmlns=\"http://www.w3.org/2000/svg\" height=\"24px\"viewBox=\"0 0 24 24\"\n",
              "       width=\"24px\">\n",
              "    <path d=\"M0 0h24v24H0V0z\" fill=\"none\"/>\n",
              "    <path d=\"M18.56 5.44l.94 2.06.94-2.06 2.06-.94-2.06-.94-.94-2.06-.94 2.06-2.06.94zm-11 1L8.5 8.5l.94-2.06 2.06-.94-2.06-.94L8.5 2.5l-.94 2.06-2.06.94zm10 10l.94 2.06.94-2.06 2.06-.94-2.06-.94-.94-2.06-.94 2.06-2.06.94z\"/><path d=\"M17.41 7.96l-1.37-1.37c-.4-.4-.92-.59-1.43-.59-.52 0-1.04.2-1.43.59L10.3 9.45l-7.72 7.72c-.78.78-.78 2.05 0 2.83L4 21.41c.39.39.9.59 1.41.59.51 0 1.02-.2 1.41-.59l7.78-7.78 2.81-2.81c.8-.78.8-2.07 0-2.86zM5.41 20L4 18.59l7.72-7.72 1.47 1.35L5.41 20z\"/>\n",
              "  </svg>\n",
              "      </button>\n",
              "      \n",
              "  <style>\n",
              "    .colab-df-container {\n",
              "      display:flex;\n",
              "      flex-wrap:wrap;\n",
              "      gap: 12px;\n",
              "    }\n",
              "\n",
              "    .colab-df-convert {\n",
              "      background-color: #E8F0FE;\n",
              "      border: none;\n",
              "      border-radius: 50%;\n",
              "      cursor: pointer;\n",
              "      display: none;\n",
              "      fill: #1967D2;\n",
              "      height: 32px;\n",
              "      padding: 0 0 0 0;\n",
              "      width: 32px;\n",
              "    }\n",
              "\n",
              "    .colab-df-convert:hover {\n",
              "      background-color: #E2EBFA;\n",
              "      box-shadow: 0px 1px 2px rgba(60, 64, 67, 0.3), 0px 1px 3px 1px rgba(60, 64, 67, 0.15);\n",
              "      fill: #174EA6;\n",
              "    }\n",
              "\n",
              "    [theme=dark] .colab-df-convert {\n",
              "      background-color: #3B4455;\n",
              "      fill: #D2E3FC;\n",
              "    }\n",
              "\n",
              "    [theme=dark] .colab-df-convert:hover {\n",
              "      background-color: #434B5C;\n",
              "      box-shadow: 0px 1px 3px 1px rgba(0, 0, 0, 0.15);\n",
              "      filter: drop-shadow(0px 1px 2px rgba(0, 0, 0, 0.3));\n",
              "      fill: #FFFFFF;\n",
              "    }\n",
              "  </style>\n",
              "\n",
              "      <script>\n",
              "        const buttonEl =\n",
              "          document.querySelector('#df-08713f11-bea1-482f-aeda-2885e0dc8cdc button.colab-df-convert');\n",
              "        buttonEl.style.display =\n",
              "          google.colab.kernel.accessAllowed ? 'block' : 'none';\n",
              "\n",
              "        async function convertToInteractive(key) {\n",
              "          const element = document.querySelector('#df-08713f11-bea1-482f-aeda-2885e0dc8cdc');\n",
              "          const dataTable =\n",
              "            await google.colab.kernel.invokeFunction('convertToInteractive',\n",
              "                                                     [key], {});\n",
              "          if (!dataTable) return;\n",
              "\n",
              "          const docLinkHtml = 'Like what you see? Visit the ' +\n",
              "            '<a target=\"_blank\" href=https://colab.research.google.com/notebooks/data_table.ipynb>data table notebook</a>'\n",
              "            + ' to learn more about interactive tables.';\n",
              "          element.innerHTML = '';\n",
              "          dataTable['output_type'] = 'display_data';\n",
              "          await google.colab.output.renderOutput(dataTable, element);\n",
              "          const docLink = document.createElement('div');\n",
              "          docLink.innerHTML = docLinkHtml;\n",
              "          element.appendChild(docLink);\n",
              "        }\n",
              "      </script>\n",
              "    </div>\n",
              "  </div>\n",
              "  "
            ]
          },
          "metadata": {},
          "execution_count": 273
        }
      ]
    },
    {
      "cell_type": "code",
      "source": [
        "df_train.info()"
      ],
      "metadata": {
        "id": "QkdiEs0zDaKj",
        "colab": {
          "base_uri": "https://localhost:8080/"
        },
        "outputId": "d95d256f-6073-4e44-ed1d-0893b6a42a9a"
      },
      "execution_count": 274,
      "outputs": [
        {
          "output_type": "stream",
          "name": "stdout",
          "text": [
            "<class 'pandas.core.frame.DataFrame'>\n",
            "Int64Index: 600 entries, 0 to 599\n",
            "Data columns (total 10 columns):\n",
            " #   Column          Non-Null Count  Dtype  \n",
            "---  ------          --------------  -----  \n",
            " 0   time            600 non-null    int64  \n",
            " 1   dir_prev_bfnum  600 non-null    float64\n",
            " 2   dir_prev_num    600 non-null    int64  \n",
            " 3   num_staff       600 non-null    int64  \n",
            " 4   num_actor       600 non-null    int64  \n",
            " 5   box_off_num     600 non-null    int64  \n",
            " 6   dist_num_rank   600 non-null    int64  \n",
            " 7   genre_rank      600 non-null    int64  \n",
            " 8   scre_num_rank   600 non-null    float64\n",
            " 9   scre_nm_rank    600 non-null    int64  \n",
            "dtypes: float64(2), int64(8)\n",
            "memory usage: 67.7 KB\n"
          ]
        }
      ]
    },
    {
      "cell_type": "code",
      "source": [
        "df_test"
      ],
      "metadata": {
        "colab": {
          "base_uri": "https://localhost:8080/",
          "height": 424
        },
        "id": "d_LQdUopE9U8",
        "outputId": "88e5fb91-306c-4879-a660-b8fbab6d018a"
      },
      "execution_count": 275,
      "outputs": [
        {
          "output_type": "execute_result",
          "data": {
            "text/plain": [
              "     time  dir_prev_bfnum  dir_prev_num  num_staff  num_actor  dist_num_rank  \\\n",
              "0     125   300529.000000             2        304          3          128.0   \n",
              "1     100        0.000000             0        117          5            0.0   \n",
              "2      85        0.000000             0        109          4           55.0   \n",
              "3     115   240459.666667             3        219          4           39.0   \n",
              "4     110        0.000000             0         11          3            0.0   \n",
              "..    ...             ...           ...        ...        ...            ...   \n",
              "238    60        0.000000             0          0          6          111.0   \n",
              "239   106        0.000000             0          0          1           70.0   \n",
              "240    87        0.000000             0         64          3          113.0   \n",
              "241  2015        0.000000             0          4          5          111.0   \n",
              "242    70     3568.000000             3          1          2           48.0   \n",
              "\n",
              "     genre_rank  scre_num_rank  scre_nm_rank  \n",
              "0            12         3008.5             1  \n",
              "1             8         3008.5             1  \n",
              "2            12         3008.5             1  \n",
              "3             7         3008.5             1  \n",
              "4             8         3008.5             1  \n",
              "..          ...            ...           ...  \n",
              "238           4         8325.0             2  \n",
              "239           2         8325.0             2  \n",
              "240           2         8325.0             2  \n",
              "241           4         8325.0             2  \n",
              "242           2         8325.0             2  \n",
              "\n",
              "[243 rows x 9 columns]"
            ],
            "text/html": [
              "\n",
              "  <div id=\"df-b3a42dcc-b693-44a6-ac3e-aa7fb976447d\">\n",
              "    <div class=\"colab-df-container\">\n",
              "      <div>\n",
              "<style scoped>\n",
              "    .dataframe tbody tr th:only-of-type {\n",
              "        vertical-align: middle;\n",
              "    }\n",
              "\n",
              "    .dataframe tbody tr th {\n",
              "        vertical-align: top;\n",
              "    }\n",
              "\n",
              "    .dataframe thead th {\n",
              "        text-align: right;\n",
              "    }\n",
              "</style>\n",
              "<table border=\"1\" class=\"dataframe\">\n",
              "  <thead>\n",
              "    <tr style=\"text-align: right;\">\n",
              "      <th></th>\n",
              "      <th>time</th>\n",
              "      <th>dir_prev_bfnum</th>\n",
              "      <th>dir_prev_num</th>\n",
              "      <th>num_staff</th>\n",
              "      <th>num_actor</th>\n",
              "      <th>dist_num_rank</th>\n",
              "      <th>genre_rank</th>\n",
              "      <th>scre_num_rank</th>\n",
              "      <th>scre_nm_rank</th>\n",
              "    </tr>\n",
              "  </thead>\n",
              "  <tbody>\n",
              "    <tr>\n",
              "      <th>0</th>\n",
              "      <td>125</td>\n",
              "      <td>300529.000000</td>\n",
              "      <td>2</td>\n",
              "      <td>304</td>\n",
              "      <td>3</td>\n",
              "      <td>128.0</td>\n",
              "      <td>12</td>\n",
              "      <td>3008.5</td>\n",
              "      <td>1</td>\n",
              "    </tr>\n",
              "    <tr>\n",
              "      <th>1</th>\n",
              "      <td>100</td>\n",
              "      <td>0.000000</td>\n",
              "      <td>0</td>\n",
              "      <td>117</td>\n",
              "      <td>5</td>\n",
              "      <td>0.0</td>\n",
              "      <td>8</td>\n",
              "      <td>3008.5</td>\n",
              "      <td>1</td>\n",
              "    </tr>\n",
              "    <tr>\n",
              "      <th>2</th>\n",
              "      <td>85</td>\n",
              "      <td>0.000000</td>\n",
              "      <td>0</td>\n",
              "      <td>109</td>\n",
              "      <td>4</td>\n",
              "      <td>55.0</td>\n",
              "      <td>12</td>\n",
              "      <td>3008.5</td>\n",
              "      <td>1</td>\n",
              "    </tr>\n",
              "    <tr>\n",
              "      <th>3</th>\n",
              "      <td>115</td>\n",
              "      <td>240459.666667</td>\n",
              "      <td>3</td>\n",
              "      <td>219</td>\n",
              "      <td>4</td>\n",
              "      <td>39.0</td>\n",
              "      <td>7</td>\n",
              "      <td>3008.5</td>\n",
              "      <td>1</td>\n",
              "    </tr>\n",
              "    <tr>\n",
              "      <th>4</th>\n",
              "      <td>110</td>\n",
              "      <td>0.000000</td>\n",
              "      <td>0</td>\n",
              "      <td>11</td>\n",
              "      <td>3</td>\n",
              "      <td>0.0</td>\n",
              "      <td>8</td>\n",
              "      <td>3008.5</td>\n",
              "      <td>1</td>\n",
              "    </tr>\n",
              "    <tr>\n",
              "      <th>...</th>\n",
              "      <td>...</td>\n",
              "      <td>...</td>\n",
              "      <td>...</td>\n",
              "      <td>...</td>\n",
              "      <td>...</td>\n",
              "      <td>...</td>\n",
              "      <td>...</td>\n",
              "      <td>...</td>\n",
              "      <td>...</td>\n",
              "    </tr>\n",
              "    <tr>\n",
              "      <th>238</th>\n",
              "      <td>60</td>\n",
              "      <td>0.000000</td>\n",
              "      <td>0</td>\n",
              "      <td>0</td>\n",
              "      <td>6</td>\n",
              "      <td>111.0</td>\n",
              "      <td>4</td>\n",
              "      <td>8325.0</td>\n",
              "      <td>2</td>\n",
              "    </tr>\n",
              "    <tr>\n",
              "      <th>239</th>\n",
              "      <td>106</td>\n",
              "      <td>0.000000</td>\n",
              "      <td>0</td>\n",
              "      <td>0</td>\n",
              "      <td>1</td>\n",
              "      <td>70.0</td>\n",
              "      <td>2</td>\n",
              "      <td>8325.0</td>\n",
              "      <td>2</td>\n",
              "    </tr>\n",
              "    <tr>\n",
              "      <th>240</th>\n",
              "      <td>87</td>\n",
              "      <td>0.000000</td>\n",
              "      <td>0</td>\n",
              "      <td>64</td>\n",
              "      <td>3</td>\n",
              "      <td>113.0</td>\n",
              "      <td>2</td>\n",
              "      <td>8325.0</td>\n",
              "      <td>2</td>\n",
              "    </tr>\n",
              "    <tr>\n",
              "      <th>241</th>\n",
              "      <td>2015</td>\n",
              "      <td>0.000000</td>\n",
              "      <td>0</td>\n",
              "      <td>4</td>\n",
              "      <td>5</td>\n",
              "      <td>111.0</td>\n",
              "      <td>4</td>\n",
              "      <td>8325.0</td>\n",
              "      <td>2</td>\n",
              "    </tr>\n",
              "    <tr>\n",
              "      <th>242</th>\n",
              "      <td>70</td>\n",
              "      <td>3568.000000</td>\n",
              "      <td>3</td>\n",
              "      <td>1</td>\n",
              "      <td>2</td>\n",
              "      <td>48.0</td>\n",
              "      <td>2</td>\n",
              "      <td>8325.0</td>\n",
              "      <td>2</td>\n",
              "    </tr>\n",
              "  </tbody>\n",
              "</table>\n",
              "<p>243 rows × 9 columns</p>\n",
              "</div>\n",
              "      <button class=\"colab-df-convert\" onclick=\"convertToInteractive('df-b3a42dcc-b693-44a6-ac3e-aa7fb976447d')\"\n",
              "              title=\"Convert this dataframe to an interactive table.\"\n",
              "              style=\"display:none;\">\n",
              "        \n",
              "  <svg xmlns=\"http://www.w3.org/2000/svg\" height=\"24px\"viewBox=\"0 0 24 24\"\n",
              "       width=\"24px\">\n",
              "    <path d=\"M0 0h24v24H0V0z\" fill=\"none\"/>\n",
              "    <path d=\"M18.56 5.44l.94 2.06.94-2.06 2.06-.94-2.06-.94-.94-2.06-.94 2.06-2.06.94zm-11 1L8.5 8.5l.94-2.06 2.06-.94-2.06-.94L8.5 2.5l-.94 2.06-2.06.94zm10 10l.94 2.06.94-2.06 2.06-.94-2.06-.94-.94-2.06-.94 2.06-2.06.94z\"/><path d=\"M17.41 7.96l-1.37-1.37c-.4-.4-.92-.59-1.43-.59-.52 0-1.04.2-1.43.59L10.3 9.45l-7.72 7.72c-.78.78-.78 2.05 0 2.83L4 21.41c.39.39.9.59 1.41.59.51 0 1.02-.2 1.41-.59l7.78-7.78 2.81-2.81c.8-.78.8-2.07 0-2.86zM5.41 20L4 18.59l7.72-7.72 1.47 1.35L5.41 20z\"/>\n",
              "  </svg>\n",
              "      </button>\n",
              "      \n",
              "  <style>\n",
              "    .colab-df-container {\n",
              "      display:flex;\n",
              "      flex-wrap:wrap;\n",
              "      gap: 12px;\n",
              "    }\n",
              "\n",
              "    .colab-df-convert {\n",
              "      background-color: #E8F0FE;\n",
              "      border: none;\n",
              "      border-radius: 50%;\n",
              "      cursor: pointer;\n",
              "      display: none;\n",
              "      fill: #1967D2;\n",
              "      height: 32px;\n",
              "      padding: 0 0 0 0;\n",
              "      width: 32px;\n",
              "    }\n",
              "\n",
              "    .colab-df-convert:hover {\n",
              "      background-color: #E2EBFA;\n",
              "      box-shadow: 0px 1px 2px rgba(60, 64, 67, 0.3), 0px 1px 3px 1px rgba(60, 64, 67, 0.15);\n",
              "      fill: #174EA6;\n",
              "    }\n",
              "\n",
              "    [theme=dark] .colab-df-convert {\n",
              "      background-color: #3B4455;\n",
              "      fill: #D2E3FC;\n",
              "    }\n",
              "\n",
              "    [theme=dark] .colab-df-convert:hover {\n",
              "      background-color: #434B5C;\n",
              "      box-shadow: 0px 1px 3px 1px rgba(0, 0, 0, 0.15);\n",
              "      filter: drop-shadow(0px 1px 2px rgba(0, 0, 0, 0.3));\n",
              "      fill: #FFFFFF;\n",
              "    }\n",
              "  </style>\n",
              "\n",
              "      <script>\n",
              "        const buttonEl =\n",
              "          document.querySelector('#df-b3a42dcc-b693-44a6-ac3e-aa7fb976447d button.colab-df-convert');\n",
              "        buttonEl.style.display =\n",
              "          google.colab.kernel.accessAllowed ? 'block' : 'none';\n",
              "\n",
              "        async function convertToInteractive(key) {\n",
              "          const element = document.querySelector('#df-b3a42dcc-b693-44a6-ac3e-aa7fb976447d');\n",
              "          const dataTable =\n",
              "            await google.colab.kernel.invokeFunction('convertToInteractive',\n",
              "                                                     [key], {});\n",
              "          if (!dataTable) return;\n",
              "\n",
              "          const docLinkHtml = 'Like what you see? Visit the ' +\n",
              "            '<a target=\"_blank\" href=https://colab.research.google.com/notebooks/data_table.ipynb>data table notebook</a>'\n",
              "            + ' to learn more about interactive tables.';\n",
              "          element.innerHTML = '';\n",
              "          dataTable['output_type'] = 'display_data';\n",
              "          await google.colab.output.renderOutput(dataTable, element);\n",
              "          const docLink = document.createElement('div');\n",
              "          docLink.innerHTML = docLinkHtml;\n",
              "          element.appendChild(docLink);\n",
              "        }\n",
              "      </script>\n",
              "    </div>\n",
              "  </div>\n",
              "  "
            ]
          },
          "metadata": {},
          "execution_count": 275
        }
      ]
    },
    {
      "cell_type": "code",
      "source": [
        "df_train"
      ],
      "metadata": {
        "colab": {
          "base_uri": "https://localhost:8080/",
          "height": 424
        },
        "id": "0F-rI_xnE9W5",
        "outputId": "2fbb447d-8675-46f8-ccd4-c32c000c83dc"
      },
      "execution_count": 276,
      "outputs": [
        {
          "output_type": "execute_result",
          "data": {
            "text/plain": [
              "     time  dir_prev_bfnum  dir_prev_num  num_staff  num_actor  box_off_num  \\\n",
              "0      96             0.0             0         91          2        23398   \n",
              "1     130       1161602.5             2        387          3      7072501   \n",
              "2      96        739522.0             3        342          2      1110523   \n",
              "3      89             0.0             0          0          4          745   \n",
              "4     107        534232.5             2         15          4        23052   \n",
              "..    ...             ...           ...        ...        ...          ...   \n",
              "595    94             0.0             0        158          2         3436   \n",
              "596   112        385977.5             2        245          8       978413   \n",
              "597    78             0.0             0         17          7          172   \n",
              "598   108             0.0             0          8          1         2972   \n",
              "599    83             0.0             0          2          4         4550   \n",
              "\n",
              "     dist_num_rank  genre_rank  scre_num_rank  scre_nm_rank  \n",
              "0              130          11         3008.5             1  \n",
              "1              141          12         3008.5             1  \n",
              "2              141          11         3008.5             1  \n",
              "3               28           5         3008.5             1  \n",
              "4              104           3         3008.5             1  \n",
              "..             ...         ...            ...           ...  \n",
              "595             74           5        19323.0             3  \n",
              "596            130           9        19323.0             3  \n",
              "597             12           8        19323.0             3  \n",
              "598             70           2        19323.0             3  \n",
              "599             27           8        19323.0             3  \n",
              "\n",
              "[600 rows x 10 columns]"
            ],
            "text/html": [
              "\n",
              "  <div id=\"df-1a81590f-1d65-4120-8396-3ef9a2c365d7\">\n",
              "    <div class=\"colab-df-container\">\n",
              "      <div>\n",
              "<style scoped>\n",
              "    .dataframe tbody tr th:only-of-type {\n",
              "        vertical-align: middle;\n",
              "    }\n",
              "\n",
              "    .dataframe tbody tr th {\n",
              "        vertical-align: top;\n",
              "    }\n",
              "\n",
              "    .dataframe thead th {\n",
              "        text-align: right;\n",
              "    }\n",
              "</style>\n",
              "<table border=\"1\" class=\"dataframe\">\n",
              "  <thead>\n",
              "    <tr style=\"text-align: right;\">\n",
              "      <th></th>\n",
              "      <th>time</th>\n",
              "      <th>dir_prev_bfnum</th>\n",
              "      <th>dir_prev_num</th>\n",
              "      <th>num_staff</th>\n",
              "      <th>num_actor</th>\n",
              "      <th>box_off_num</th>\n",
              "      <th>dist_num_rank</th>\n",
              "      <th>genre_rank</th>\n",
              "      <th>scre_num_rank</th>\n",
              "      <th>scre_nm_rank</th>\n",
              "    </tr>\n",
              "  </thead>\n",
              "  <tbody>\n",
              "    <tr>\n",
              "      <th>0</th>\n",
              "      <td>96</td>\n",
              "      <td>0.0</td>\n",
              "      <td>0</td>\n",
              "      <td>91</td>\n",
              "      <td>2</td>\n",
              "      <td>23398</td>\n",
              "      <td>130</td>\n",
              "      <td>11</td>\n",
              "      <td>3008.5</td>\n",
              "      <td>1</td>\n",
              "    </tr>\n",
              "    <tr>\n",
              "      <th>1</th>\n",
              "      <td>130</td>\n",
              "      <td>1161602.5</td>\n",
              "      <td>2</td>\n",
              "      <td>387</td>\n",
              "      <td>3</td>\n",
              "      <td>7072501</td>\n",
              "      <td>141</td>\n",
              "      <td>12</td>\n",
              "      <td>3008.5</td>\n",
              "      <td>1</td>\n",
              "    </tr>\n",
              "    <tr>\n",
              "      <th>2</th>\n",
              "      <td>96</td>\n",
              "      <td>739522.0</td>\n",
              "      <td>3</td>\n",
              "      <td>342</td>\n",
              "      <td>2</td>\n",
              "      <td>1110523</td>\n",
              "      <td>141</td>\n",
              "      <td>11</td>\n",
              "      <td>3008.5</td>\n",
              "      <td>1</td>\n",
              "    </tr>\n",
              "    <tr>\n",
              "      <th>3</th>\n",
              "      <td>89</td>\n",
              "      <td>0.0</td>\n",
              "      <td>0</td>\n",
              "      <td>0</td>\n",
              "      <td>4</td>\n",
              "      <td>745</td>\n",
              "      <td>28</td>\n",
              "      <td>5</td>\n",
              "      <td>3008.5</td>\n",
              "      <td>1</td>\n",
              "    </tr>\n",
              "    <tr>\n",
              "      <th>4</th>\n",
              "      <td>107</td>\n",
              "      <td>534232.5</td>\n",
              "      <td>2</td>\n",
              "      <td>15</td>\n",
              "      <td>4</td>\n",
              "      <td>23052</td>\n",
              "      <td>104</td>\n",
              "      <td>3</td>\n",
              "      <td>3008.5</td>\n",
              "      <td>1</td>\n",
              "    </tr>\n",
              "    <tr>\n",
              "      <th>...</th>\n",
              "      <td>...</td>\n",
              "      <td>...</td>\n",
              "      <td>...</td>\n",
              "      <td>...</td>\n",
              "      <td>...</td>\n",
              "      <td>...</td>\n",
              "      <td>...</td>\n",
              "      <td>...</td>\n",
              "      <td>...</td>\n",
              "      <td>...</td>\n",
              "    </tr>\n",
              "    <tr>\n",
              "      <th>595</th>\n",
              "      <td>94</td>\n",
              "      <td>0.0</td>\n",
              "      <td>0</td>\n",
              "      <td>158</td>\n",
              "      <td>2</td>\n",
              "      <td>3436</td>\n",
              "      <td>74</td>\n",
              "      <td>5</td>\n",
              "      <td>19323.0</td>\n",
              "      <td>3</td>\n",
              "    </tr>\n",
              "    <tr>\n",
              "      <th>596</th>\n",
              "      <td>112</td>\n",
              "      <td>385977.5</td>\n",
              "      <td>2</td>\n",
              "      <td>245</td>\n",
              "      <td>8</td>\n",
              "      <td>978413</td>\n",
              "      <td>130</td>\n",
              "      <td>9</td>\n",
              "      <td>19323.0</td>\n",
              "      <td>3</td>\n",
              "    </tr>\n",
              "    <tr>\n",
              "      <th>597</th>\n",
              "      <td>78</td>\n",
              "      <td>0.0</td>\n",
              "      <td>0</td>\n",
              "      <td>17</td>\n",
              "      <td>7</td>\n",
              "      <td>172</td>\n",
              "      <td>12</td>\n",
              "      <td>8</td>\n",
              "      <td>19323.0</td>\n",
              "      <td>3</td>\n",
              "    </tr>\n",
              "    <tr>\n",
              "      <th>598</th>\n",
              "      <td>108</td>\n",
              "      <td>0.0</td>\n",
              "      <td>0</td>\n",
              "      <td>8</td>\n",
              "      <td>1</td>\n",
              "      <td>2972</td>\n",
              "      <td>70</td>\n",
              "      <td>2</td>\n",
              "      <td>19323.0</td>\n",
              "      <td>3</td>\n",
              "    </tr>\n",
              "    <tr>\n",
              "      <th>599</th>\n",
              "      <td>83</td>\n",
              "      <td>0.0</td>\n",
              "      <td>0</td>\n",
              "      <td>2</td>\n",
              "      <td>4</td>\n",
              "      <td>4550</td>\n",
              "      <td>27</td>\n",
              "      <td>8</td>\n",
              "      <td>19323.0</td>\n",
              "      <td>3</td>\n",
              "    </tr>\n",
              "  </tbody>\n",
              "</table>\n",
              "<p>600 rows × 10 columns</p>\n",
              "</div>\n",
              "      <button class=\"colab-df-convert\" onclick=\"convertToInteractive('df-1a81590f-1d65-4120-8396-3ef9a2c365d7')\"\n",
              "              title=\"Convert this dataframe to an interactive table.\"\n",
              "              style=\"display:none;\">\n",
              "        \n",
              "  <svg xmlns=\"http://www.w3.org/2000/svg\" height=\"24px\"viewBox=\"0 0 24 24\"\n",
              "       width=\"24px\">\n",
              "    <path d=\"M0 0h24v24H0V0z\" fill=\"none\"/>\n",
              "    <path d=\"M18.56 5.44l.94 2.06.94-2.06 2.06-.94-2.06-.94-.94-2.06-.94 2.06-2.06.94zm-11 1L8.5 8.5l.94-2.06 2.06-.94-2.06-.94L8.5 2.5l-.94 2.06-2.06.94zm10 10l.94 2.06.94-2.06 2.06-.94-2.06-.94-.94-2.06-.94 2.06-2.06.94z\"/><path d=\"M17.41 7.96l-1.37-1.37c-.4-.4-.92-.59-1.43-.59-.52 0-1.04.2-1.43.59L10.3 9.45l-7.72 7.72c-.78.78-.78 2.05 0 2.83L4 21.41c.39.39.9.59 1.41.59.51 0 1.02-.2 1.41-.59l7.78-7.78 2.81-2.81c.8-.78.8-2.07 0-2.86zM5.41 20L4 18.59l7.72-7.72 1.47 1.35L5.41 20z\"/>\n",
              "  </svg>\n",
              "      </button>\n",
              "      \n",
              "  <style>\n",
              "    .colab-df-container {\n",
              "      display:flex;\n",
              "      flex-wrap:wrap;\n",
              "      gap: 12px;\n",
              "    }\n",
              "\n",
              "    .colab-df-convert {\n",
              "      background-color: #E8F0FE;\n",
              "      border: none;\n",
              "      border-radius: 50%;\n",
              "      cursor: pointer;\n",
              "      display: none;\n",
              "      fill: #1967D2;\n",
              "      height: 32px;\n",
              "      padding: 0 0 0 0;\n",
              "      width: 32px;\n",
              "    }\n",
              "\n",
              "    .colab-df-convert:hover {\n",
              "      background-color: #E2EBFA;\n",
              "      box-shadow: 0px 1px 2px rgba(60, 64, 67, 0.3), 0px 1px 3px 1px rgba(60, 64, 67, 0.15);\n",
              "      fill: #174EA6;\n",
              "    }\n",
              "\n",
              "    [theme=dark] .colab-df-convert {\n",
              "      background-color: #3B4455;\n",
              "      fill: #D2E3FC;\n",
              "    }\n",
              "\n",
              "    [theme=dark] .colab-df-convert:hover {\n",
              "      background-color: #434B5C;\n",
              "      box-shadow: 0px 1px 3px 1px rgba(0, 0, 0, 0.15);\n",
              "      filter: drop-shadow(0px 1px 2px rgba(0, 0, 0, 0.3));\n",
              "      fill: #FFFFFF;\n",
              "    }\n",
              "  </style>\n",
              "\n",
              "      <script>\n",
              "        const buttonEl =\n",
              "          document.querySelector('#df-1a81590f-1d65-4120-8396-3ef9a2c365d7 button.colab-df-convert');\n",
              "        buttonEl.style.display =\n",
              "          google.colab.kernel.accessAllowed ? 'block' : 'none';\n",
              "\n",
              "        async function convertToInteractive(key) {\n",
              "          const element = document.querySelector('#df-1a81590f-1d65-4120-8396-3ef9a2c365d7');\n",
              "          const dataTable =\n",
              "            await google.colab.kernel.invokeFunction('convertToInteractive',\n",
              "                                                     [key], {});\n",
              "          if (!dataTable) return;\n",
              "\n",
              "          const docLinkHtml = 'Like what you see? Visit the ' +\n",
              "            '<a target=\"_blank\" href=https://colab.research.google.com/notebooks/data_table.ipynb>data table notebook</a>'\n",
              "            + ' to learn more about interactive tables.';\n",
              "          element.innerHTML = '';\n",
              "          dataTable['output_type'] = 'display_data';\n",
              "          await google.colab.output.renderOutput(dataTable, element);\n",
              "          const docLink = document.createElement('div');\n",
              "          docLink.innerHTML = docLinkHtml;\n",
              "          element.appendChild(docLink);\n",
              "        }\n",
              "      </script>\n",
              "    </div>\n",
              "  </div>\n",
              "  "
            ]
          },
          "metadata": {},
          "execution_count": 276
        }
      ]
    },
    {
      "cell_type": "markdown",
      "source": [
        "# 3.**이상치 제거**"
      ],
      "metadata": {
        "id": "jm6NOwwyOeif"
      }
    },
    {
      "cell_type": "code",
      "source": [
        "#plt.figure(figsize = (15,10))\n",
        "#sns.boxplot(data=df_train)\n",
        "#plt.xticks(rotation = 45)"
      ],
      "metadata": {
        "id": "OXOtcDkmOjbN"
      },
      "execution_count": 277,
      "outputs": []
    },
    {
      "cell_type": "code",
      "source": [
        "#q3 = df_train['dir_prev_bfnum'].quantile(0.75) # df['국어'].quantile(0.75) 처럼 특정 열만 적용 가능\n",
        "#q1 = df_train['dir_prev_bfnum'].quantile(0.25)\n",
        "\n",
        "#iqr = q3 - q1"
      ],
      "metadata": {
        "id": "JYHkuB_MbMyS"
      },
      "execution_count": 278,
      "outputs": []
    },
    {
      "cell_type": "code",
      "source": [
        "# 'dir_prev_bfnum' 열에 대하여 이상치 여부를 판별해주는 함수\n",
        "#def is_kor_outlier(df_train):\n",
        "#    dir_prev_num = df_train['dir_prev_bfnum']\n",
        "#    if dir_prev_num > q3 + 1.5 * iqr or dir_prev_num < q1 - 1.5 * iqr:\n",
        "#        return True\n",
        "#    else:\n",
        "#        return False\n",
        "\n",
        "# apply 함수를 통하여 각 값의 이상치 여부를 찾고 새로운 열에 결과 저장\n",
        "#df_train['dir_prev_bfnum_이상치여부'] = df_train.apply(is_kor_outlier, axis = 1) # axis = 1 지정 필수"
      ],
      "metadata": {
        "id": "jYvoadeWbcqq"
      },
      "execution_count": 279,
      "outputs": []
    },
    {
      "cell_type": "code",
      "source": [
        "#df_train.head(10)"
      ],
      "metadata": {
        "id": "jrMOIs8xcyJ4"
      },
      "execution_count": 280,
      "outputs": []
    },
    {
      "cell_type": "code",
      "source": [
        "# 이상치인 행은 제거하여 필터링\n",
        "#df_train = df_train.loc[df_train['dir_prev_bfnum_이상치여부'] == False]\n",
        "\n",
        "# 이상치여부를 나타내는 열 제거\n",
        "#del df_train['dir_prev_bfnum_이상치여부']\n",
        "\n",
        "#df_train "
      ],
      "metadata": {
        "id": "h0tMBAanc5lC"
      },
      "execution_count": 281,
      "outputs": []
    },
    {
      "cell_type": "code",
      "source": [
        "#plt.figure(figsize = (15,10))\n",
        "#sns.boxplot(data=df_train)\n",
        "#plt.xticks(rotation = 45)"
      ],
      "metadata": {
        "id": "LxK8alUDdvm4"
      },
      "execution_count": 282,
      "outputs": []
    },
    {
      "cell_type": "code",
      "source": [
        "df_train\n"
      ],
      "metadata": {
        "colab": {
          "base_uri": "https://localhost:8080/",
          "height": 424
        },
        "id": "5pozoBtAHKnG",
        "outputId": "e0c93f30-ebb0-48ed-c9cb-87d5b4b46929"
      },
      "execution_count": 283,
      "outputs": [
        {
          "output_type": "execute_result",
          "data": {
            "text/plain": [
              "     time  dir_prev_bfnum  dir_prev_num  num_staff  num_actor  box_off_num  \\\n",
              "0      96             0.0             0         91          2        23398   \n",
              "1     130       1161602.5             2        387          3      7072501   \n",
              "2      96        739522.0             3        342          2      1110523   \n",
              "3      89             0.0             0          0          4          745   \n",
              "4     107        534232.5             2         15          4        23052   \n",
              "..    ...             ...           ...        ...        ...          ...   \n",
              "595    94             0.0             0        158          2         3436   \n",
              "596   112        385977.5             2        245          8       978413   \n",
              "597    78             0.0             0         17          7          172   \n",
              "598   108             0.0             0          8          1         2972   \n",
              "599    83             0.0             0          2          4         4550   \n",
              "\n",
              "     dist_num_rank  genre_rank  scre_num_rank  scre_nm_rank  \n",
              "0              130          11         3008.5             1  \n",
              "1              141          12         3008.5             1  \n",
              "2              141          11         3008.5             1  \n",
              "3               28           5         3008.5             1  \n",
              "4              104           3         3008.5             1  \n",
              "..             ...         ...            ...           ...  \n",
              "595             74           5        19323.0             3  \n",
              "596            130           9        19323.0             3  \n",
              "597             12           8        19323.0             3  \n",
              "598             70           2        19323.0             3  \n",
              "599             27           8        19323.0             3  \n",
              "\n",
              "[600 rows x 10 columns]"
            ],
            "text/html": [
              "\n",
              "  <div id=\"df-fe91e918-3455-416c-86a1-a855ca7412db\">\n",
              "    <div class=\"colab-df-container\">\n",
              "      <div>\n",
              "<style scoped>\n",
              "    .dataframe tbody tr th:only-of-type {\n",
              "        vertical-align: middle;\n",
              "    }\n",
              "\n",
              "    .dataframe tbody tr th {\n",
              "        vertical-align: top;\n",
              "    }\n",
              "\n",
              "    .dataframe thead th {\n",
              "        text-align: right;\n",
              "    }\n",
              "</style>\n",
              "<table border=\"1\" class=\"dataframe\">\n",
              "  <thead>\n",
              "    <tr style=\"text-align: right;\">\n",
              "      <th></th>\n",
              "      <th>time</th>\n",
              "      <th>dir_prev_bfnum</th>\n",
              "      <th>dir_prev_num</th>\n",
              "      <th>num_staff</th>\n",
              "      <th>num_actor</th>\n",
              "      <th>box_off_num</th>\n",
              "      <th>dist_num_rank</th>\n",
              "      <th>genre_rank</th>\n",
              "      <th>scre_num_rank</th>\n",
              "      <th>scre_nm_rank</th>\n",
              "    </tr>\n",
              "  </thead>\n",
              "  <tbody>\n",
              "    <tr>\n",
              "      <th>0</th>\n",
              "      <td>96</td>\n",
              "      <td>0.0</td>\n",
              "      <td>0</td>\n",
              "      <td>91</td>\n",
              "      <td>2</td>\n",
              "      <td>23398</td>\n",
              "      <td>130</td>\n",
              "      <td>11</td>\n",
              "      <td>3008.5</td>\n",
              "      <td>1</td>\n",
              "    </tr>\n",
              "    <tr>\n",
              "      <th>1</th>\n",
              "      <td>130</td>\n",
              "      <td>1161602.5</td>\n",
              "      <td>2</td>\n",
              "      <td>387</td>\n",
              "      <td>3</td>\n",
              "      <td>7072501</td>\n",
              "      <td>141</td>\n",
              "      <td>12</td>\n",
              "      <td>3008.5</td>\n",
              "      <td>1</td>\n",
              "    </tr>\n",
              "    <tr>\n",
              "      <th>2</th>\n",
              "      <td>96</td>\n",
              "      <td>739522.0</td>\n",
              "      <td>3</td>\n",
              "      <td>342</td>\n",
              "      <td>2</td>\n",
              "      <td>1110523</td>\n",
              "      <td>141</td>\n",
              "      <td>11</td>\n",
              "      <td>3008.5</td>\n",
              "      <td>1</td>\n",
              "    </tr>\n",
              "    <tr>\n",
              "      <th>3</th>\n",
              "      <td>89</td>\n",
              "      <td>0.0</td>\n",
              "      <td>0</td>\n",
              "      <td>0</td>\n",
              "      <td>4</td>\n",
              "      <td>745</td>\n",
              "      <td>28</td>\n",
              "      <td>5</td>\n",
              "      <td>3008.5</td>\n",
              "      <td>1</td>\n",
              "    </tr>\n",
              "    <tr>\n",
              "      <th>4</th>\n",
              "      <td>107</td>\n",
              "      <td>534232.5</td>\n",
              "      <td>2</td>\n",
              "      <td>15</td>\n",
              "      <td>4</td>\n",
              "      <td>23052</td>\n",
              "      <td>104</td>\n",
              "      <td>3</td>\n",
              "      <td>3008.5</td>\n",
              "      <td>1</td>\n",
              "    </tr>\n",
              "    <tr>\n",
              "      <th>...</th>\n",
              "      <td>...</td>\n",
              "      <td>...</td>\n",
              "      <td>...</td>\n",
              "      <td>...</td>\n",
              "      <td>...</td>\n",
              "      <td>...</td>\n",
              "      <td>...</td>\n",
              "      <td>...</td>\n",
              "      <td>...</td>\n",
              "      <td>...</td>\n",
              "    </tr>\n",
              "    <tr>\n",
              "      <th>595</th>\n",
              "      <td>94</td>\n",
              "      <td>0.0</td>\n",
              "      <td>0</td>\n",
              "      <td>158</td>\n",
              "      <td>2</td>\n",
              "      <td>3436</td>\n",
              "      <td>74</td>\n",
              "      <td>5</td>\n",
              "      <td>19323.0</td>\n",
              "      <td>3</td>\n",
              "    </tr>\n",
              "    <tr>\n",
              "      <th>596</th>\n",
              "      <td>112</td>\n",
              "      <td>385977.5</td>\n",
              "      <td>2</td>\n",
              "      <td>245</td>\n",
              "      <td>8</td>\n",
              "      <td>978413</td>\n",
              "      <td>130</td>\n",
              "      <td>9</td>\n",
              "      <td>19323.0</td>\n",
              "      <td>3</td>\n",
              "    </tr>\n",
              "    <tr>\n",
              "      <th>597</th>\n",
              "      <td>78</td>\n",
              "      <td>0.0</td>\n",
              "      <td>0</td>\n",
              "      <td>17</td>\n",
              "      <td>7</td>\n",
              "      <td>172</td>\n",
              "      <td>12</td>\n",
              "      <td>8</td>\n",
              "      <td>19323.0</td>\n",
              "      <td>3</td>\n",
              "    </tr>\n",
              "    <tr>\n",
              "      <th>598</th>\n",
              "      <td>108</td>\n",
              "      <td>0.0</td>\n",
              "      <td>0</td>\n",
              "      <td>8</td>\n",
              "      <td>1</td>\n",
              "      <td>2972</td>\n",
              "      <td>70</td>\n",
              "      <td>2</td>\n",
              "      <td>19323.0</td>\n",
              "      <td>3</td>\n",
              "    </tr>\n",
              "    <tr>\n",
              "      <th>599</th>\n",
              "      <td>83</td>\n",
              "      <td>0.0</td>\n",
              "      <td>0</td>\n",
              "      <td>2</td>\n",
              "      <td>4</td>\n",
              "      <td>4550</td>\n",
              "      <td>27</td>\n",
              "      <td>8</td>\n",
              "      <td>19323.0</td>\n",
              "      <td>3</td>\n",
              "    </tr>\n",
              "  </tbody>\n",
              "</table>\n",
              "<p>600 rows × 10 columns</p>\n",
              "</div>\n",
              "      <button class=\"colab-df-convert\" onclick=\"convertToInteractive('df-fe91e918-3455-416c-86a1-a855ca7412db')\"\n",
              "              title=\"Convert this dataframe to an interactive table.\"\n",
              "              style=\"display:none;\">\n",
              "        \n",
              "  <svg xmlns=\"http://www.w3.org/2000/svg\" height=\"24px\"viewBox=\"0 0 24 24\"\n",
              "       width=\"24px\">\n",
              "    <path d=\"M0 0h24v24H0V0z\" fill=\"none\"/>\n",
              "    <path d=\"M18.56 5.44l.94 2.06.94-2.06 2.06-.94-2.06-.94-.94-2.06-.94 2.06-2.06.94zm-11 1L8.5 8.5l.94-2.06 2.06-.94-2.06-.94L8.5 2.5l-.94 2.06-2.06.94zm10 10l.94 2.06.94-2.06 2.06-.94-2.06-.94-.94-2.06-.94 2.06-2.06.94z\"/><path d=\"M17.41 7.96l-1.37-1.37c-.4-.4-.92-.59-1.43-.59-.52 0-1.04.2-1.43.59L10.3 9.45l-7.72 7.72c-.78.78-.78 2.05 0 2.83L4 21.41c.39.39.9.59 1.41.59.51 0 1.02-.2 1.41-.59l7.78-7.78 2.81-2.81c.8-.78.8-2.07 0-2.86zM5.41 20L4 18.59l7.72-7.72 1.47 1.35L5.41 20z\"/>\n",
              "  </svg>\n",
              "      </button>\n",
              "      \n",
              "  <style>\n",
              "    .colab-df-container {\n",
              "      display:flex;\n",
              "      flex-wrap:wrap;\n",
              "      gap: 12px;\n",
              "    }\n",
              "\n",
              "    .colab-df-convert {\n",
              "      background-color: #E8F0FE;\n",
              "      border: none;\n",
              "      border-radius: 50%;\n",
              "      cursor: pointer;\n",
              "      display: none;\n",
              "      fill: #1967D2;\n",
              "      height: 32px;\n",
              "      padding: 0 0 0 0;\n",
              "      width: 32px;\n",
              "    }\n",
              "\n",
              "    .colab-df-convert:hover {\n",
              "      background-color: #E2EBFA;\n",
              "      box-shadow: 0px 1px 2px rgba(60, 64, 67, 0.3), 0px 1px 3px 1px rgba(60, 64, 67, 0.15);\n",
              "      fill: #174EA6;\n",
              "    }\n",
              "\n",
              "    [theme=dark] .colab-df-convert {\n",
              "      background-color: #3B4455;\n",
              "      fill: #D2E3FC;\n",
              "    }\n",
              "\n",
              "    [theme=dark] .colab-df-convert:hover {\n",
              "      background-color: #434B5C;\n",
              "      box-shadow: 0px 1px 3px 1px rgba(0, 0, 0, 0.15);\n",
              "      filter: drop-shadow(0px 1px 2px rgba(0, 0, 0, 0.3));\n",
              "      fill: #FFFFFF;\n",
              "    }\n",
              "  </style>\n",
              "\n",
              "      <script>\n",
              "        const buttonEl =\n",
              "          document.querySelector('#df-fe91e918-3455-416c-86a1-a855ca7412db button.colab-df-convert');\n",
              "        buttonEl.style.display =\n",
              "          google.colab.kernel.accessAllowed ? 'block' : 'none';\n",
              "\n",
              "        async function convertToInteractive(key) {\n",
              "          const element = document.querySelector('#df-fe91e918-3455-416c-86a1-a855ca7412db');\n",
              "          const dataTable =\n",
              "            await google.colab.kernel.invokeFunction('convertToInteractive',\n",
              "                                                     [key], {});\n",
              "          if (!dataTable) return;\n",
              "\n",
              "          const docLinkHtml = 'Like what you see? Visit the ' +\n",
              "            '<a target=\"_blank\" href=https://colab.research.google.com/notebooks/data_table.ipynb>data table notebook</a>'\n",
              "            + ' to learn more about interactive tables.';\n",
              "          element.innerHTML = '';\n",
              "          dataTable['output_type'] = 'display_data';\n",
              "          await google.colab.output.renderOutput(dataTable, element);\n",
              "          const docLink = document.createElement('div');\n",
              "          docLink.innerHTML = docLinkHtml;\n",
              "          element.appendChild(docLink);\n",
              "        }\n",
              "      </script>\n",
              "    </div>\n",
              "  </div>\n",
              "  "
            ]
          },
          "metadata": {},
          "execution_count": 283
        }
      ]
    },
    {
      "cell_type": "markdown",
      "source": [
        "# 4.**학습&예측**"
      ],
      "metadata": {
        "id": "7rxS7ZdyGwtn"
      }
    },
    {
      "cell_type": "markdown",
      "source": [
        "훈련데이터 테스트데이터 나누기"
      ],
      "metadata": {
        "id": "Tu5JipPwbFqE"
      }
    },
    {
      "cell_type": "code",
      "source": [
        "X = df_train[['time',\t'dir_prev_bfnum',\t'dir_prev_num',\t'num_staff',\n",
        "              'dist_num_rank',\t'genre_rank',\t'scre_num_rank',\t'scre_nm_rank']]\n",
        "y = np.log1p(df_train.box_off_num)"
      ],
      "metadata": {
        "id": "TMsTsuGHbKNX"
      },
      "execution_count": 284,
      "outputs": []
    },
    {
      "cell_type": "code",
      "source": [
        "target = df_test[['time',\t'dir_prev_bfnum',\t'dir_prev_num',\t'num_staff',\n",
        "              'dist_num_rank',\t'genre_rank',\t'scre_num_rank',\t'scre_nm_rank']]"
      ],
      "metadata": {
        "id": "ywILrXsrHu7B"
      },
      "execution_count": 285,
      "outputs": []
    },
    {
      "cell_type": "markdown",
      "source": [
        "5Fold 교차검증"
      ],
      "metadata": {
        "id": "ptFK2rlWF5TE"
      }
    },
    {
      "cell_type": "code",
      "source": [
        "!pip3 install catboost"
      ],
      "metadata": {
        "colab": {
          "base_uri": "https://localhost:8080/"
        },
        "id": "aGXxCxvJMV-5",
        "outputId": "2f3f9a77-4613-43ab-bccf-6adf5f0a3d09"
      },
      "execution_count": 207,
      "outputs": [
        {
          "output_type": "stream",
          "name": "stdout",
          "text": [
            "Looking in indexes: https://pypi.org/simple, https://us-python.pkg.dev/colab-wheels/public/simple/\n",
            "Collecting catboost\n",
            "  Downloading catboost-1.0.6-cp37-none-manylinux1_x86_64.whl (76.6 MB)\n",
            "\u001b[K     |████████████████████████████████| 76.6 MB 111 kB/s \n",
            "\u001b[?25hRequirement already satisfied: matplotlib in /usr/local/lib/python3.7/dist-packages (from catboost) (3.2.2)\n",
            "Requirement already satisfied: numpy>=1.16.0 in /usr/local/lib/python3.7/dist-packages (from catboost) (1.21.6)\n",
            "Requirement already satisfied: graphviz in /usr/local/lib/python3.7/dist-packages (from catboost) (0.10.1)\n",
            "Requirement already satisfied: pandas>=0.24.0 in /usr/local/lib/python3.7/dist-packages (from catboost) (1.3.5)\n",
            "Requirement already satisfied: plotly in /usr/local/lib/python3.7/dist-packages (from catboost) (5.5.0)\n",
            "Requirement already satisfied: six in /usr/local/lib/python3.7/dist-packages (from catboost) (1.15.0)\n",
            "Requirement already satisfied: scipy in /usr/local/lib/python3.7/dist-packages (from catboost) (1.7.3)\n",
            "Requirement already satisfied: python-dateutil>=2.7.3 in /usr/local/lib/python3.7/dist-packages (from pandas>=0.24.0->catboost) (2.8.2)\n",
            "Requirement already satisfied: pytz>=2017.3 in /usr/local/lib/python3.7/dist-packages (from pandas>=0.24.0->catboost) (2022.1)\n",
            "Requirement already satisfied: pyparsing!=2.0.4,!=2.1.2,!=2.1.6,>=2.0.1 in /usr/local/lib/python3.7/dist-packages (from matplotlib->catboost) (3.0.9)\n",
            "Requirement already satisfied: kiwisolver>=1.0.1 in /usr/local/lib/python3.7/dist-packages (from matplotlib->catboost) (1.4.3)\n",
            "Requirement already satisfied: cycler>=0.10 in /usr/local/lib/python3.7/dist-packages (from matplotlib->catboost) (0.11.0)\n",
            "Requirement already satisfied: typing-extensions in /usr/local/lib/python3.7/dist-packages (from kiwisolver>=1.0.1->matplotlib->catboost) (4.1.1)\n",
            "Requirement already satisfied: tenacity>=6.2.0 in /usr/local/lib/python3.7/dist-packages (from plotly->catboost) (8.0.1)\n",
            "Installing collected packages: catboost\n",
            "Successfully installed catboost-1.0.6\n"
          ]
        }
      ]
    },
    {
      "cell_type": "code",
      "source": [
        "from sklearn.ensemble import GradientBoostingRegressor, RandomForestRegressor\n",
        "from xgboost import XGBRegressor\n",
        "from lightgbm import LGBMRegressor\n",
        "from sklearn.metrics import mean_squared_error\n",
        "from sklearn.model_selection import KFold\n",
        "from catboost import CatBoostRegressor\n",
        "        "
      ],
      "metadata": {
        "id": "aPvksF_yGILI"
      },
      "execution_count": 286,
      "outputs": []
    },
    {
      "cell_type": "code",
      "source": [
        "kf = KFold(n_splits =  5, shuffle = True, random_state = 42)"
      ],
      "metadata": {
        "id": "GsA0qj7iF6HA"
      },
      "execution_count": 287,
      "outputs": []
    },
    {
      "cell_type": "markdown",
      "source": [
        "### 5가지 모델 사용\n",
        "#### 1) GradientBoostingRegressor"
      ],
      "metadata": {
        "id": "33R50JS3IltC"
      }
    },
    {
      "cell_type": "code",
      "source": [
        "gbm = GradientBoostingRegressor(random_state = 42)"
      ],
      "metadata": {
        "id": "08UzRr5LLVFa"
      },
      "execution_count": 288,
      "outputs": []
    },
    {
      "cell_type": "code",
      "source": [
        "rmse_list = []\n",
        "gb_pred = np.zeros((df_test.shape[0]))\n",
        "for tr_idx, val_idx in kf.split(X, y) :\n",
        "    tr_x, tr_y = X.iloc[tr_idx], y.iloc[tr_idx]\n",
        "    val_x, val_y = X.iloc[val_idx], y.iloc[val_idx]\n",
        "    \n",
        "    gbm.fit(tr_x, tr_y)\n",
        "    \n",
        "    pred = np.expm1([0 if x < 0 else x for x in gbm.predict(val_x)])\n",
        "    sub_pred = np.expm1([0 if x < 0 else x for x in gbm.predict(target)])\n",
        "    rmse = np.sqrt(mean_squared_error(val_y, pred))\n",
        "    \n",
        "    rmse_list.append(rmse)\n",
        "    \n",
        "    gb_pred += (sub_pred / 10)"
      ],
      "metadata": {
        "id": "BCKqgOGrGDzg"
      },
      "execution_count": 289,
      "outputs": []
    },
    {
      "cell_type": "code",
      "source": [
        "np.mean(rmse_list)"
      ],
      "metadata": {
        "colab": {
          "base_uri": "https://localhost:8080/"
        },
        "id": "WIJBWNQVGPuN",
        "outputId": "2ddffb8a-2d38-4667-f4bf-5596a6dd87a5"
      },
      "execution_count": 290,
      "outputs": [
        {
          "output_type": "execute_result",
          "data": {
            "text/plain": [
              "1054283.2448083924"
            ]
          },
          "metadata": {},
          "execution_count": 290
        }
      ]
    },
    {
      "cell_type": "markdown",
      "source": [
        "#### 2) LGBMRegressor"
      ],
      "metadata": {
        "id": "COANEQpNIqV4"
      }
    },
    {
      "cell_type": "code",
      "source": [
        "lgbm = LGBMRegressor(random_state = 42)"
      ],
      "metadata": {
        "id": "-Ozd3G9DLI2M"
      },
      "execution_count": 291,
      "outputs": []
    },
    {
      "cell_type": "code",
      "source": [
        "rmse_list = []\n",
        "lgb_pred = np.zeros((df_test.shape[0]))\n",
        "for tr_idx, val_idx in kf.split(X, y) :\n",
        "    tr_x, tr_y = X.iloc[tr_idx], y.iloc[tr_idx]\n",
        "    val_x, val_y = X.iloc[val_idx], y.iloc[val_idx]\n",
        "    \n",
        "    lgbm.fit(tr_x, tr_y)\n",
        "    \n",
        "    pred = np.expm1([0 if x < 0 else x for x in lgbm.predict(val_x)])\n",
        "    sub_pred = np.expm1([0 if x < 0 else x for x in lgbm.predict(target)])\n",
        "    rmse = np.sqrt(mean_squared_error(val_y, pred))\n",
        "    \n",
        "    rmse_list.append(rmse)\n",
        "    \n",
        "    lgb_pred += (sub_pred / 10)"
      ],
      "metadata": {
        "id": "flLR_jstLI4R"
      },
      "execution_count": 292,
      "outputs": []
    },
    {
      "cell_type": "code",
      "source": [
        "np.mean(rmse_list)"
      ],
      "metadata": {
        "colab": {
          "base_uri": "https://localhost:8080/"
        },
        "id": "Sx_HiejbLI6L",
        "outputId": "bc2d7de1-f4ce-459c-ccdf-877f819cc52d"
      },
      "execution_count": 293,
      "outputs": [
        {
          "output_type": "execute_result",
          "data": {
            "text/plain": [
              "1203803.1428036501"
            ]
          },
          "metadata": {},
          "execution_count": 293
        }
      ]
    },
    {
      "cell_type": "markdown",
      "source": [
        "#### 4) XGBRegressor"
      ],
      "metadata": {
        "id": "9KXSV4ETpz4v"
      }
    },
    {
      "cell_type": "code",
      "source": [
        "xgb = XGBRegressor(random_state = 42)"
      ],
      "metadata": {
        "id": "gSB4YL5XLI8O"
      },
      "execution_count": 294,
      "outputs": []
    },
    {
      "cell_type": "code",
      "source": [
        "rmse_list = []\n",
        "xgb_pred = np.zeros((df_test.shape[0]))\n",
        "for tr_idx, val_idx in kf.split(X, y) :\n",
        "    tr_x, tr_y = X.iloc[tr_idx], y.iloc[tr_idx]\n",
        "    val_x, val_y = X.iloc[val_idx], y.iloc[val_idx]\n",
        "    \n",
        "    xgb.fit(tr_x, tr_y)\n",
        "    \n",
        "    pred = np.expm1([0 if x < 0 else x for x in xgb.predict(val_x)])\n",
        "    sub_pred = np.expm1([0 if x < 0 else x for x in xgb.predict(target)])\n",
        "    rmse = np.sqrt(mean_squared_error(val_y, pred))\n",
        "    \n",
        "    rmse_list.append(rmse)\n",
        "    \n",
        "    xgb_pred += (sub_pred / 10)"
      ],
      "metadata": {
        "colab": {
          "base_uri": "https://localhost:8080/"
        },
        "id": "ci9OBPO6Lc8K",
        "outputId": "6b3a13c4-1dd4-4726-ee9f-51b7450dc944"
      },
      "execution_count": 295,
      "outputs": [
        {
          "output_type": "stream",
          "name": "stdout",
          "text": [
            "[00:31:42] WARNING: /workspace/src/objective/regression_obj.cu:152: reg:linear is now deprecated in favor of reg:squarederror.\n",
            "[00:31:43] WARNING: /workspace/src/objective/regression_obj.cu:152: reg:linear is now deprecated in favor of reg:squarederror.\n",
            "[00:31:43] WARNING: /workspace/src/objective/regression_obj.cu:152: reg:linear is now deprecated in favor of reg:squarederror.\n",
            "[00:31:43] WARNING: /workspace/src/objective/regression_obj.cu:152: reg:linear is now deprecated in favor of reg:squarederror.\n",
            "[00:31:43] WARNING: /workspace/src/objective/regression_obj.cu:152: reg:linear is now deprecated in favor of reg:squarederror.\n"
          ]
        }
      ]
    },
    {
      "cell_type": "markdown",
      "source": [
        ""
      ],
      "metadata": {
        "id": "bUfCfdT3p60J"
      }
    },
    {
      "cell_type": "code",
      "source": [
        "np.mean(rmse_list)"
      ],
      "metadata": {
        "colab": {
          "base_uri": "https://localhost:8080/"
        },
        "id": "edlz8nfaLc9-",
        "outputId": "3305168d-3c8f-4e3c-c845-45d1f026046f"
      },
      "execution_count": 296,
      "outputs": [
        {
          "output_type": "execute_result",
          "data": {
            "text/plain": [
              "1116964.6853792064"
            ]
          },
          "metadata": {},
          "execution_count": 296
        }
      ]
    },
    {
      "cell_type": "markdown",
      "source": [
        "#### 5) CatBoostRegressor"
      ],
      "metadata": {
        "id": "ygVEbIncpxnS"
      }
    },
    {
      "cell_type": "code",
      "source": [
        "cat = CatBoostRegressor(random_state = 42, silent = True)"
      ],
      "metadata": {
        "id": "cSQwUJskLc_4"
      },
      "execution_count": 297,
      "outputs": []
    },
    {
      "cell_type": "code",
      "source": [
        "rmse_list = []\n",
        "cat_pred = np.zeros((df_test.shape[0]))\n",
        "for tr_idx, val_idx in kf.split(X, y) :\n",
        "    tr_x, tr_y = X.iloc[tr_idx], y.iloc[tr_idx]\n",
        "    val_x, val_y = X.iloc[val_idx], y.iloc[val_idx]\n",
        "    \n",
        "    cat.fit(tr_x, tr_y)\n",
        "    \n",
        "    pred = np.expm1([0 if x < 0 else x for x in cat.predict(val_x)])\n",
        "    sub_pred = np.expm1([0 if x < 0 else x for x in cat.predict(target)])\n",
        "    rmse = np.sqrt(mean_squared_error(val_y, pred))\n",
        "    \n",
        "    rmse_list.append(rmse)\n",
        "    \n",
        "    cat_pred += (sub_pred / 10)"
      ],
      "metadata": {
        "id": "_bIEcmrqLlRQ"
      },
      "execution_count": 298,
      "outputs": []
    },
    {
      "cell_type": "code",
      "source": [
        "np.mean(rmse_list)"
      ],
      "metadata": {
        "colab": {
          "base_uri": "https://localhost:8080/"
        },
        "id": "3l8YkzxGLlTF",
        "outputId": "eaca17d9-a277-4a82-a66b-e1b684c59cfc"
      },
      "execution_count": 299,
      "outputs": [
        {
          "output_type": "execute_result",
          "data": {
            "text/plain": [
              "1066620.6134897817"
            ]
          },
          "metadata": {},
          "execution_count": 299
        }
      ]
    },
    {
      "cell_type": "markdown",
      "source": [
        "#### 6) RandomForestRegressor"
      ],
      "metadata": {
        "id": "n3hSBRhKp8EY"
      }
    },
    {
      "cell_type": "code",
      "source": [
        "rf = RandomForestRegressor(random_state = 42)"
      ],
      "metadata": {
        "id": "3ykrhW1_p85s"
      },
      "execution_count": 300,
      "outputs": []
    },
    {
      "cell_type": "code",
      "source": [
        "rmse_list = []\n",
        "rf_pred = np.zeros((df_test.shape[0]))\n",
        "for tr_idx, val_idx in kf.split(X, y) :\n",
        "    tr_x, tr_y = X.iloc[tr_idx], y.iloc[tr_idx]\n",
        "    val_x, val_y = X.iloc[val_idx], y.iloc[val_idx]\n",
        "    \n",
        "    rf.fit(tr_x, tr_y)\n",
        "    \n",
        "    pred = np.expm1([0 if x < 0 else x for x in rf.predict(val_x)])\n",
        "    sub_pred = np.expm1([0 if x < 0 else x for x in rf.predict(target)])\n",
        "    rmse = np.sqrt(mean_squared_error(val_y, pred))\n",
        "    \n",
        "    rmse_list.append(rmse)\n",
        "    \n",
        "    rf_pred += (sub_pred / 10)"
      ],
      "metadata": {
        "id": "mtHJk8Wkp88G"
      },
      "execution_count": 301,
      "outputs": []
    },
    {
      "cell_type": "code",
      "source": [
        "np.mean(rmse_list)"
      ],
      "metadata": {
        "colab": {
          "base_uri": "https://localhost:8080/"
        },
        "id": "si48IR6Dp8-q",
        "outputId": "c1c95ab5-cfb2-4e6a-a1e2-45f86da27291"
      },
      "execution_count": 302,
      "outputs": [
        {
          "output_type": "execute_result",
          "data": {
            "text/plain": [
              "893053.4981180755"
            ]
          },
          "metadata": {},
          "execution_count": 302
        }
      ]
    },
    {
      "cell_type": "markdown",
      "source": [
        "***\n",
        "\n",
        "#### 최종 예측 결과 블렌딩"
      ],
      "metadata": {
        "id": "eoigLtHTqH7e"
      }
    },
    {
      "cell_type": "code",
      "source": [
        "df_sub"
      ],
      "metadata": {
        "colab": {
          "base_uri": "https://localhost:8080/",
          "height": 424
        },
        "id": "dmjq_2ohqodm",
        "outputId": "07d6ff63-ec83-43fd-fcd4-bea61c4abc81"
      },
      "execution_count": 303,
      "outputs": [
        {
          "output_type": "execute_result",
          "data": {
            "text/plain": [
              "               title  box_off_num\n",
              "0             용서는 없다            0\n",
              "1        아빠가 여자를 좋아해            0\n",
              "2                하모니            0\n",
              "3                의형제            0\n",
              "4              평행 이론            0\n",
              "..               ...          ...\n",
              "238        해에게서 소년에게            0\n",
              "239           울보 권투부            0\n",
              "240             어떤살인            0\n",
              "241        말하지 못한 비밀            0\n",
              "242  조선안방 스캔들-칠거지악 2            0\n",
              "\n",
              "[243 rows x 2 columns]"
            ],
            "text/html": [
              "\n",
              "  <div id=\"df-19c0036f-bb91-4c9b-a27b-1a6592ee6159\">\n",
              "    <div class=\"colab-df-container\">\n",
              "      <div>\n",
              "<style scoped>\n",
              "    .dataframe tbody tr th:only-of-type {\n",
              "        vertical-align: middle;\n",
              "    }\n",
              "\n",
              "    .dataframe tbody tr th {\n",
              "        vertical-align: top;\n",
              "    }\n",
              "\n",
              "    .dataframe thead th {\n",
              "        text-align: right;\n",
              "    }\n",
              "</style>\n",
              "<table border=\"1\" class=\"dataframe\">\n",
              "  <thead>\n",
              "    <tr style=\"text-align: right;\">\n",
              "      <th></th>\n",
              "      <th>title</th>\n",
              "      <th>box_off_num</th>\n",
              "    </tr>\n",
              "  </thead>\n",
              "  <tbody>\n",
              "    <tr>\n",
              "      <th>0</th>\n",
              "      <td>용서는 없다</td>\n",
              "      <td>0</td>\n",
              "    </tr>\n",
              "    <tr>\n",
              "      <th>1</th>\n",
              "      <td>아빠가 여자를 좋아해</td>\n",
              "      <td>0</td>\n",
              "    </tr>\n",
              "    <tr>\n",
              "      <th>2</th>\n",
              "      <td>하모니</td>\n",
              "      <td>0</td>\n",
              "    </tr>\n",
              "    <tr>\n",
              "      <th>3</th>\n",
              "      <td>의형제</td>\n",
              "      <td>0</td>\n",
              "    </tr>\n",
              "    <tr>\n",
              "      <th>4</th>\n",
              "      <td>평행 이론</td>\n",
              "      <td>0</td>\n",
              "    </tr>\n",
              "    <tr>\n",
              "      <th>...</th>\n",
              "      <td>...</td>\n",
              "      <td>...</td>\n",
              "    </tr>\n",
              "    <tr>\n",
              "      <th>238</th>\n",
              "      <td>해에게서 소년에게</td>\n",
              "      <td>0</td>\n",
              "    </tr>\n",
              "    <tr>\n",
              "      <th>239</th>\n",
              "      <td>울보 권투부</td>\n",
              "      <td>0</td>\n",
              "    </tr>\n",
              "    <tr>\n",
              "      <th>240</th>\n",
              "      <td>어떤살인</td>\n",
              "      <td>0</td>\n",
              "    </tr>\n",
              "    <tr>\n",
              "      <th>241</th>\n",
              "      <td>말하지 못한 비밀</td>\n",
              "      <td>0</td>\n",
              "    </tr>\n",
              "    <tr>\n",
              "      <th>242</th>\n",
              "      <td>조선안방 스캔들-칠거지악 2</td>\n",
              "      <td>0</td>\n",
              "    </tr>\n",
              "  </tbody>\n",
              "</table>\n",
              "<p>243 rows × 2 columns</p>\n",
              "</div>\n",
              "      <button class=\"colab-df-convert\" onclick=\"convertToInteractive('df-19c0036f-bb91-4c9b-a27b-1a6592ee6159')\"\n",
              "              title=\"Convert this dataframe to an interactive table.\"\n",
              "              style=\"display:none;\">\n",
              "        \n",
              "  <svg xmlns=\"http://www.w3.org/2000/svg\" height=\"24px\"viewBox=\"0 0 24 24\"\n",
              "       width=\"24px\">\n",
              "    <path d=\"M0 0h24v24H0V0z\" fill=\"none\"/>\n",
              "    <path d=\"M18.56 5.44l.94 2.06.94-2.06 2.06-.94-2.06-.94-.94-2.06-.94 2.06-2.06.94zm-11 1L8.5 8.5l.94-2.06 2.06-.94-2.06-.94L8.5 2.5l-.94 2.06-2.06.94zm10 10l.94 2.06.94-2.06 2.06-.94-2.06-.94-.94-2.06-.94 2.06-2.06.94z\"/><path d=\"M17.41 7.96l-1.37-1.37c-.4-.4-.92-.59-1.43-.59-.52 0-1.04.2-1.43.59L10.3 9.45l-7.72 7.72c-.78.78-.78 2.05 0 2.83L4 21.41c.39.39.9.59 1.41.59.51 0 1.02-.2 1.41-.59l7.78-7.78 2.81-2.81c.8-.78.8-2.07 0-2.86zM5.41 20L4 18.59l7.72-7.72 1.47 1.35L5.41 20z\"/>\n",
              "  </svg>\n",
              "      </button>\n",
              "      \n",
              "  <style>\n",
              "    .colab-df-container {\n",
              "      display:flex;\n",
              "      flex-wrap:wrap;\n",
              "      gap: 12px;\n",
              "    }\n",
              "\n",
              "    .colab-df-convert {\n",
              "      background-color: #E8F0FE;\n",
              "      border: none;\n",
              "      border-radius: 50%;\n",
              "      cursor: pointer;\n",
              "      display: none;\n",
              "      fill: #1967D2;\n",
              "      height: 32px;\n",
              "      padding: 0 0 0 0;\n",
              "      width: 32px;\n",
              "    }\n",
              "\n",
              "    .colab-df-convert:hover {\n",
              "      background-color: #E2EBFA;\n",
              "      box-shadow: 0px 1px 2px rgba(60, 64, 67, 0.3), 0px 1px 3px 1px rgba(60, 64, 67, 0.15);\n",
              "      fill: #174EA6;\n",
              "    }\n",
              "\n",
              "    [theme=dark] .colab-df-convert {\n",
              "      background-color: #3B4455;\n",
              "      fill: #D2E3FC;\n",
              "    }\n",
              "\n",
              "    [theme=dark] .colab-df-convert:hover {\n",
              "      background-color: #434B5C;\n",
              "      box-shadow: 0px 1px 3px 1px rgba(0, 0, 0, 0.15);\n",
              "      filter: drop-shadow(0px 1px 2px rgba(0, 0, 0, 0.3));\n",
              "      fill: #FFFFFF;\n",
              "    }\n",
              "  </style>\n",
              "\n",
              "      <script>\n",
              "        const buttonEl =\n",
              "          document.querySelector('#df-19c0036f-bb91-4c9b-a27b-1a6592ee6159 button.colab-df-convert');\n",
              "        buttonEl.style.display =\n",
              "          google.colab.kernel.accessAllowed ? 'block' : 'none';\n",
              "\n",
              "        async function convertToInteractive(key) {\n",
              "          const element = document.querySelector('#df-19c0036f-bb91-4c9b-a27b-1a6592ee6159');\n",
              "          const dataTable =\n",
              "            await google.colab.kernel.invokeFunction('convertToInteractive',\n",
              "                                                     [key], {});\n",
              "          if (!dataTable) return;\n",
              "\n",
              "          const docLinkHtml = 'Like what you see? Visit the ' +\n",
              "            '<a target=\"_blank\" href=https://colab.research.google.com/notebooks/data_table.ipynb>data table notebook</a>'\n",
              "            + ' to learn more about interactive tables.';\n",
              "          element.innerHTML = '';\n",
              "          dataTable['output_type'] = 'display_data';\n",
              "          await google.colab.output.renderOutput(dataTable, element);\n",
              "          const docLink = document.createElement('div');\n",
              "          docLink.innerHTML = docLinkHtml;\n",
              "          element.appendChild(docLink);\n",
              "        }\n",
              "      </script>\n",
              "    </div>\n",
              "  </div>\n",
              "  "
            ]
          },
          "metadata": {},
          "execution_count": 303
        }
      ]
    },
    {
      "cell_type": "code",
      "source": [
        "df_train.shape"
      ],
      "metadata": {
        "colab": {
          "base_uri": "https://localhost:8080/"
        },
        "id": "qGtN0Ls8r79A",
        "outputId": "dcdf12ae-73b4-49f3-8545-c58b8a5654c9"
      },
      "execution_count": 304,
      "outputs": [
        {
          "output_type": "execute_result",
          "data": {
            "text/plain": [
              "(600, 10)"
            ]
          },
          "metadata": {},
          "execution_count": 304
        }
      ]
    },
    {
      "cell_type": "code",
      "source": [
        "(xgb_pred + cat_pred + lgb_pred + rf_pred + gb_pred ) / 5"
      ],
      "metadata": {
        "colab": {
          "base_uri": "https://localhost:8080/"
        },
        "id": "JR6onwrlqsMZ",
        "outputId": "aac44dba-9a61-4321-c592-859ec765f421"
      },
      "execution_count": 305,
      "outputs": [
        {
          "output_type": "execute_result",
          "data": {
            "text/plain": [
              "array([9.21256081e+05, 2.25210784e+01, 9.90073925e+02, 6.84527395e+03,\n",
              "       4.04269151e+01, 4.86159323e+03, 3.61221726e+05, 1.90129046e+03,\n",
              "       1.45647920e+03, 1.72324813e+01, 7.68786444e+04, 3.61531668e+05,\n",
              "       1.34604421e+03, 1.79263781e+02, 2.22960431e+05, 2.17481002e+01,\n",
              "       8.62211549e+03, 6.40156933e+01, 3.04397758e+05, 1.35537946e+02,\n",
              "       2.78960761e+02, 1.69742905e+06, 1.66413036e+03, 7.52180157e+02,\n",
              "       5.21498484e+05, 6.19637988e+04, 5.75663034e+05, 3.32943993e+03,\n",
              "       1.38024957e+04, 1.48531796e+06, 5.46135875e+02, 7.92232632e+05,\n",
              "       2.28035491e+03, 2.65954604e+05, 4.49708496e+03, 2.16664104e+04,\n",
              "       1.50520700e+05, 2.99154857e+01, 1.89935970e+02, 2.53189635e+02,\n",
              "       1.32695877e+01, 1.90717547e+02, 1.05358621e+02, 2.05447173e+02,\n",
              "       2.15005353e+01, 4.33793933e+01, 8.60442433e+02, 9.66179075e+02,\n",
              "       3.30010458e+01, 3.43335586e+03, 2.45588568e+02, 1.82600084e+03,\n",
              "       1.09621392e+06, 1.18255295e+06, 1.29134704e+04, 3.58929021e+02,\n",
              "       8.13478787e+05, 2.96251661e+01, 6.70799864e+02, 1.30936613e+03,\n",
              "       4.16727758e+02, 8.88750358e+02, 3.77247247e+02, 1.81215888e+01,\n",
              "       1.45931359e+04, 3.05033629e+02, 4.58451079e+02, 1.29276572e+03,\n",
              "       2.82099269e+02, 2.85859715e+05, 3.74172457e+02, 5.22328105e+02,\n",
              "       6.81180397e+02, 3.05033629e+02, 1.80233825e+05, 3.11235415e+02,\n",
              "       4.38985543e+05, 7.81894995e+05, 1.37083116e+03, 4.61410199e+05,\n",
              "       6.86084844e+05, 1.79274593e+02, 1.81738339e+02, 3.65898842e+02,\n",
              "       3.49743906e+01, 3.75580761e+03, 1.64813396e+05, 7.12260453e+04,\n",
              "       2.52110329e+01, 5.07057141e+01, 1.38634748e+02, 8.24951417e+02,\n",
              "       3.21103134e+02, 7.97235464e+05, 7.57252236e+05, 2.59621567e+05,\n",
              "       9.19380881e+05, 6.47207704e+02, 3.83203346e+05, 4.09714791e+01,\n",
              "       5.58294419e+04, 7.05885718e+02, 1.98413243e+05, 3.14372425e+05,\n",
              "       4.13338031e+05, 5.50451239e+05, 1.72336669e+03, 4.49345686e+03,\n",
              "       4.82573482e+01, 2.48488727e+01, 2.85337497e+05, 2.05781314e+06,\n",
              "       1.54534846e+05, 3.92274525e+05, 2.60876770e+04, 3.26361026e+04,\n",
              "       2.18445893e+03, 5.72950805e+05, 3.63849716e+04, 1.65533805e+05,\n",
              "       1.08415821e+03, 4.00923629e+03, 5.07266488e+01, 2.27046386e+03,\n",
              "       3.01852314e+04, 1.08792970e+06, 5.78136151e+02, 4.91321198e+05,\n",
              "       1.94095981e+04, 1.71203187e+04, 1.40738130e+06, 1.28265705e+02,\n",
              "       2.17682990e+03, 1.10315331e+06, 5.33148624e+05, 4.46722145e+01,\n",
              "       1.58890717e+03, 1.04383910e+03, 2.11573022e+02, 1.13297055e+05,\n",
              "       3.27256603e+05, 2.95187528e+02, 1.21990456e+03, 4.78860113e+04,\n",
              "       2.83273280e+01, 8.80267525e+02, 1.02902747e+02, 5.73552331e+05,\n",
              "       1.99628982e+04, 1.05954569e+05, 8.02869039e+04, 2.73068500e+01,\n",
              "       3.14893611e+05, 4.46869589e+05, 2.46881745e+03, 4.02132555e+05,\n",
              "       1.47283858e+06, 1.91568130e+06, 2.54617787e+03, 1.99213664e+02,\n",
              "       2.67834823e+03, 3.92583322e+05, 1.06135945e+05, 4.86855160e+03,\n",
              "       3.10945548e+05, 6.92203097e+04, 2.65950658e+04, 6.43854118e+03,\n",
              "       1.12395896e+06, 9.27970551e+02, 5.90198365e+05, 4.91250503e+04,\n",
              "       1.22582009e+03, 7.37217743e+05, 4.57080713e+05, 1.47822962e+03,\n",
              "       9.38724991e+05, 9.04861232e+02, 3.34891684e+02, 2.58194493e+05,\n",
              "       1.69849045e+04, 8.68544052e+05, 2.28121741e+06, 2.11905008e+06,\n",
              "       6.90221939e+05, 2.27613491e+03, 4.79099103e+02, 3.71524532e+05,\n",
              "       1.14910683e+04, 4.85548976e+06, 2.67794272e+06, 7.50626650e+03,\n",
              "       7.40074084e+05, 1.74177397e+03, 1.15559335e+06, 1.11874573e+02,\n",
              "       4.48512400e+05, 8.57338317e+05, 6.60580587e+04, 2.70596728e+04,\n",
              "       9.05829408e+01, 5.92410603e+05, 4.13074565e+03, 1.41399111e+06,\n",
              "       3.63701322e+03, 3.79202466e+03, 7.48388511e+05, 8.07468367e+04,\n",
              "       3.40007901e+03, 1.19257919e+03, 1.71289229e+03, 1.18461333e+03,\n",
              "       3.51251101e+01, 3.69140252e+01, 1.16370231e+02, 7.45361098e+02,\n",
              "       3.95796397e+05, 6.62971673e+02, 5.07391665e+02, 4.94287370e+04,\n",
              "       5.24929300e+04, 6.29826256e+03, 8.77262951e+04, 1.73199562e+03,\n",
              "       3.29421032e+04, 1.62037777e+03, 6.29128393e+02, 6.75984613e+03,\n",
              "       2.03218295e+03, 3.59279112e+02, 4.49517953e+05, 1.24543255e+03,\n",
              "       4.93759019e+04, 2.36306558e+02, 1.05283447e+03, 1.66130388e+03,\n",
              "       1.87891346e+03, 1.13053614e+03, 2.21287790e+04, 5.91665495e+03,\n",
              "       3.01112872e+04, 5.69138944e+03, 5.36433446e+02])"
            ]
          },
          "metadata": {},
          "execution_count": 305
        }
      ]
    },
    {
      "cell_type": "code",
      "source": [
        "df_sub['box_off_num'] = rf_pred "
      ],
      "metadata": {
        "id": "fI7mKMvfqIvZ"
      },
      "execution_count": 306,
      "outputs": []
    },
    {
      "cell_type": "code",
      "source": [
        "df_sub.sort_values(by = 'box_off_num')"
      ],
      "metadata": {
        "colab": {
          "base_uri": "https://localhost:8080/",
          "height": 424
        },
        "id": "gw7LWCCKqI4_",
        "outputId": "dd6e461f-db70-4823-a961-cc60bc5e11fa"
      },
      "execution_count": 307,
      "outputs": [
        {
          "output_type": "execute_result",
          "data": {
            "text/plain": [
              "            title   box_off_num\n",
              "40        량강도 아이들  6.445278e+00\n",
              "37          하얀 정글  6.736026e+00\n",
              "15         포화 속으로  6.946174e+00\n",
              "88            한경직  7.015390e+00\n",
              "48            도가니  7.021404e+00\n",
              "..            ...           ...\n",
              "157         스퀴시랜드  1.820531e+06\n",
              "190       제자, 옥한흠  2.072129e+06\n",
              "182            숙희  2.122204e+06\n",
              "183  더 테너 리리코 스핀토  2.254792e+06\n",
              "189       레디액션 청춘  3.660791e+06\n",
              "\n",
              "[243 rows x 2 columns]"
            ],
            "text/html": [
              "\n",
              "  <div id=\"df-73116bd0-45d1-40b9-b349-a99db2b245ee\">\n",
              "    <div class=\"colab-df-container\">\n",
              "      <div>\n",
              "<style scoped>\n",
              "    .dataframe tbody tr th:only-of-type {\n",
              "        vertical-align: middle;\n",
              "    }\n",
              "\n",
              "    .dataframe tbody tr th {\n",
              "        vertical-align: top;\n",
              "    }\n",
              "\n",
              "    .dataframe thead th {\n",
              "        text-align: right;\n",
              "    }\n",
              "</style>\n",
              "<table border=\"1\" class=\"dataframe\">\n",
              "  <thead>\n",
              "    <tr style=\"text-align: right;\">\n",
              "      <th></th>\n",
              "      <th>title</th>\n",
              "      <th>box_off_num</th>\n",
              "    </tr>\n",
              "  </thead>\n",
              "  <tbody>\n",
              "    <tr>\n",
              "      <th>40</th>\n",
              "      <td>량강도 아이들</td>\n",
              "      <td>6.445278e+00</td>\n",
              "    </tr>\n",
              "    <tr>\n",
              "      <th>37</th>\n",
              "      <td>하얀 정글</td>\n",
              "      <td>6.736026e+00</td>\n",
              "    </tr>\n",
              "    <tr>\n",
              "      <th>15</th>\n",
              "      <td>포화 속으로</td>\n",
              "      <td>6.946174e+00</td>\n",
              "    </tr>\n",
              "    <tr>\n",
              "      <th>88</th>\n",
              "      <td>한경직</td>\n",
              "      <td>7.015390e+00</td>\n",
              "    </tr>\n",
              "    <tr>\n",
              "      <th>48</th>\n",
              "      <td>도가니</td>\n",
              "      <td>7.021404e+00</td>\n",
              "    </tr>\n",
              "    <tr>\n",
              "      <th>...</th>\n",
              "      <td>...</td>\n",
              "      <td>...</td>\n",
              "    </tr>\n",
              "    <tr>\n",
              "      <th>157</th>\n",
              "      <td>스퀴시랜드</td>\n",
              "      <td>1.820531e+06</td>\n",
              "    </tr>\n",
              "    <tr>\n",
              "      <th>190</th>\n",
              "      <td>제자, 옥한흠</td>\n",
              "      <td>2.072129e+06</td>\n",
              "    </tr>\n",
              "    <tr>\n",
              "      <th>182</th>\n",
              "      <td>숙희</td>\n",
              "      <td>2.122204e+06</td>\n",
              "    </tr>\n",
              "    <tr>\n",
              "      <th>183</th>\n",
              "      <td>더 테너 리리코 스핀토</td>\n",
              "      <td>2.254792e+06</td>\n",
              "    </tr>\n",
              "    <tr>\n",
              "      <th>189</th>\n",
              "      <td>레디액션 청춘</td>\n",
              "      <td>3.660791e+06</td>\n",
              "    </tr>\n",
              "  </tbody>\n",
              "</table>\n",
              "<p>243 rows × 2 columns</p>\n",
              "</div>\n",
              "      <button class=\"colab-df-convert\" onclick=\"convertToInteractive('df-73116bd0-45d1-40b9-b349-a99db2b245ee')\"\n",
              "              title=\"Convert this dataframe to an interactive table.\"\n",
              "              style=\"display:none;\">\n",
              "        \n",
              "  <svg xmlns=\"http://www.w3.org/2000/svg\" height=\"24px\"viewBox=\"0 0 24 24\"\n",
              "       width=\"24px\">\n",
              "    <path d=\"M0 0h24v24H0V0z\" fill=\"none\"/>\n",
              "    <path d=\"M18.56 5.44l.94 2.06.94-2.06 2.06-.94-2.06-.94-.94-2.06-.94 2.06-2.06.94zm-11 1L8.5 8.5l.94-2.06 2.06-.94-2.06-.94L8.5 2.5l-.94 2.06-2.06.94zm10 10l.94 2.06.94-2.06 2.06-.94-2.06-.94-.94-2.06-.94 2.06-2.06.94z\"/><path d=\"M17.41 7.96l-1.37-1.37c-.4-.4-.92-.59-1.43-.59-.52 0-1.04.2-1.43.59L10.3 9.45l-7.72 7.72c-.78.78-.78 2.05 0 2.83L4 21.41c.39.39.9.59 1.41.59.51 0 1.02-.2 1.41-.59l7.78-7.78 2.81-2.81c.8-.78.8-2.07 0-2.86zM5.41 20L4 18.59l7.72-7.72 1.47 1.35L5.41 20z\"/>\n",
              "  </svg>\n",
              "      </button>\n",
              "      \n",
              "  <style>\n",
              "    .colab-df-container {\n",
              "      display:flex;\n",
              "      flex-wrap:wrap;\n",
              "      gap: 12px;\n",
              "    }\n",
              "\n",
              "    .colab-df-convert {\n",
              "      background-color: #E8F0FE;\n",
              "      border: none;\n",
              "      border-radius: 50%;\n",
              "      cursor: pointer;\n",
              "      display: none;\n",
              "      fill: #1967D2;\n",
              "      height: 32px;\n",
              "      padding: 0 0 0 0;\n",
              "      width: 32px;\n",
              "    }\n",
              "\n",
              "    .colab-df-convert:hover {\n",
              "      background-color: #E2EBFA;\n",
              "      box-shadow: 0px 1px 2px rgba(60, 64, 67, 0.3), 0px 1px 3px 1px rgba(60, 64, 67, 0.15);\n",
              "      fill: #174EA6;\n",
              "    }\n",
              "\n",
              "    [theme=dark] .colab-df-convert {\n",
              "      background-color: #3B4455;\n",
              "      fill: #D2E3FC;\n",
              "    }\n",
              "\n",
              "    [theme=dark] .colab-df-convert:hover {\n",
              "      background-color: #434B5C;\n",
              "      box-shadow: 0px 1px 3px 1px rgba(0, 0, 0, 0.15);\n",
              "      filter: drop-shadow(0px 1px 2px rgba(0, 0, 0, 0.3));\n",
              "      fill: #FFFFFF;\n",
              "    }\n",
              "  </style>\n",
              "\n",
              "      <script>\n",
              "        const buttonEl =\n",
              "          document.querySelector('#df-73116bd0-45d1-40b9-b349-a99db2b245ee button.colab-df-convert');\n",
              "        buttonEl.style.display =\n",
              "          google.colab.kernel.accessAllowed ? 'block' : 'none';\n",
              "\n",
              "        async function convertToInteractive(key) {\n",
              "          const element = document.querySelector('#df-73116bd0-45d1-40b9-b349-a99db2b245ee');\n",
              "          const dataTable =\n",
              "            await google.colab.kernel.invokeFunction('convertToInteractive',\n",
              "                                                     [key], {});\n",
              "          if (!dataTable) return;\n",
              "\n",
              "          const docLinkHtml = 'Like what you see? Visit the ' +\n",
              "            '<a target=\"_blank\" href=https://colab.research.google.com/notebooks/data_table.ipynb>data table notebook</a>'\n",
              "            + ' to learn more about interactive tables.';\n",
              "          element.innerHTML = '';\n",
              "          dataTable['output_type'] = 'display_data';\n",
              "          await google.colab.output.renderOutput(dataTable, element);\n",
              "          const docLink = document.createElement('div');\n",
              "          docLink.innerHTML = docLinkHtml;\n",
              "          element.appendChild(docLink);\n",
              "        }\n",
              "      </script>\n",
              "    </div>\n",
              "  </div>\n",
              "  "
            ]
          },
          "metadata": {},
          "execution_count": 307
        }
      ]
    },
    {
      "cell_type": "code",
      "source": [
        "df_sub"
      ],
      "metadata": {
        "colab": {
          "base_uri": "https://localhost:8080/",
          "height": 424
        },
        "id": "ru_meyR-1wn8",
        "outputId": "af06e550-7bc0-442e-b72e-f4cc16ff666f"
      },
      "execution_count": 308,
      "outputs": [
        {
          "output_type": "execute_result",
          "data": {
            "text/plain": [
              "               title    box_off_num\n",
              "0             용서는 없다  777176.031828\n",
              "1        아빠가 여자를 좋아해       7.188665\n",
              "2                하모니    1301.449534\n",
              "3                의형제    4606.207206\n",
              "4              평행 이론       7.135810\n",
              "..               ...            ...\n",
              "238        해에게서 소년에게   21335.049294\n",
              "239           울보 권투부    3307.254594\n",
              "240             어떤살인   25968.403567\n",
              "241        말하지 못한 비밀   10460.819964\n",
              "242  조선안방 스캔들-칠거지악 2     451.504943\n",
              "\n",
              "[243 rows x 2 columns]"
            ],
            "text/html": [
              "\n",
              "  <div id=\"df-4db9a454-fa29-4adf-b336-8c4d7bfccb64\">\n",
              "    <div class=\"colab-df-container\">\n",
              "      <div>\n",
              "<style scoped>\n",
              "    .dataframe tbody tr th:only-of-type {\n",
              "        vertical-align: middle;\n",
              "    }\n",
              "\n",
              "    .dataframe tbody tr th {\n",
              "        vertical-align: top;\n",
              "    }\n",
              "\n",
              "    .dataframe thead th {\n",
              "        text-align: right;\n",
              "    }\n",
              "</style>\n",
              "<table border=\"1\" class=\"dataframe\">\n",
              "  <thead>\n",
              "    <tr style=\"text-align: right;\">\n",
              "      <th></th>\n",
              "      <th>title</th>\n",
              "      <th>box_off_num</th>\n",
              "    </tr>\n",
              "  </thead>\n",
              "  <tbody>\n",
              "    <tr>\n",
              "      <th>0</th>\n",
              "      <td>용서는 없다</td>\n",
              "      <td>777176.031828</td>\n",
              "    </tr>\n",
              "    <tr>\n",
              "      <th>1</th>\n",
              "      <td>아빠가 여자를 좋아해</td>\n",
              "      <td>7.188665</td>\n",
              "    </tr>\n",
              "    <tr>\n",
              "      <th>2</th>\n",
              "      <td>하모니</td>\n",
              "      <td>1301.449534</td>\n",
              "    </tr>\n",
              "    <tr>\n",
              "      <th>3</th>\n",
              "      <td>의형제</td>\n",
              "      <td>4606.207206</td>\n",
              "    </tr>\n",
              "    <tr>\n",
              "      <th>4</th>\n",
              "      <td>평행 이론</td>\n",
              "      <td>7.135810</td>\n",
              "    </tr>\n",
              "    <tr>\n",
              "      <th>...</th>\n",
              "      <td>...</td>\n",
              "      <td>...</td>\n",
              "    </tr>\n",
              "    <tr>\n",
              "      <th>238</th>\n",
              "      <td>해에게서 소년에게</td>\n",
              "      <td>21335.049294</td>\n",
              "    </tr>\n",
              "    <tr>\n",
              "      <th>239</th>\n",
              "      <td>울보 권투부</td>\n",
              "      <td>3307.254594</td>\n",
              "    </tr>\n",
              "    <tr>\n",
              "      <th>240</th>\n",
              "      <td>어떤살인</td>\n",
              "      <td>25968.403567</td>\n",
              "    </tr>\n",
              "    <tr>\n",
              "      <th>241</th>\n",
              "      <td>말하지 못한 비밀</td>\n",
              "      <td>10460.819964</td>\n",
              "    </tr>\n",
              "    <tr>\n",
              "      <th>242</th>\n",
              "      <td>조선안방 스캔들-칠거지악 2</td>\n",
              "      <td>451.504943</td>\n",
              "    </tr>\n",
              "  </tbody>\n",
              "</table>\n",
              "<p>243 rows × 2 columns</p>\n",
              "</div>\n",
              "      <button class=\"colab-df-convert\" onclick=\"convertToInteractive('df-4db9a454-fa29-4adf-b336-8c4d7bfccb64')\"\n",
              "              title=\"Convert this dataframe to an interactive table.\"\n",
              "              style=\"display:none;\">\n",
              "        \n",
              "  <svg xmlns=\"http://www.w3.org/2000/svg\" height=\"24px\"viewBox=\"0 0 24 24\"\n",
              "       width=\"24px\">\n",
              "    <path d=\"M0 0h24v24H0V0z\" fill=\"none\"/>\n",
              "    <path d=\"M18.56 5.44l.94 2.06.94-2.06 2.06-.94-2.06-.94-.94-2.06-.94 2.06-2.06.94zm-11 1L8.5 8.5l.94-2.06 2.06-.94-2.06-.94L8.5 2.5l-.94 2.06-2.06.94zm10 10l.94 2.06.94-2.06 2.06-.94-2.06-.94-.94-2.06-.94 2.06-2.06.94z\"/><path d=\"M17.41 7.96l-1.37-1.37c-.4-.4-.92-.59-1.43-.59-.52 0-1.04.2-1.43.59L10.3 9.45l-7.72 7.72c-.78.78-.78 2.05 0 2.83L4 21.41c.39.39.9.59 1.41.59.51 0 1.02-.2 1.41-.59l7.78-7.78 2.81-2.81c.8-.78.8-2.07 0-2.86zM5.41 20L4 18.59l7.72-7.72 1.47 1.35L5.41 20z\"/>\n",
              "  </svg>\n",
              "      </button>\n",
              "      \n",
              "  <style>\n",
              "    .colab-df-container {\n",
              "      display:flex;\n",
              "      flex-wrap:wrap;\n",
              "      gap: 12px;\n",
              "    }\n",
              "\n",
              "    .colab-df-convert {\n",
              "      background-color: #E8F0FE;\n",
              "      border: none;\n",
              "      border-radius: 50%;\n",
              "      cursor: pointer;\n",
              "      display: none;\n",
              "      fill: #1967D2;\n",
              "      height: 32px;\n",
              "      padding: 0 0 0 0;\n",
              "      width: 32px;\n",
              "    }\n",
              "\n",
              "    .colab-df-convert:hover {\n",
              "      background-color: #E2EBFA;\n",
              "      box-shadow: 0px 1px 2px rgba(60, 64, 67, 0.3), 0px 1px 3px 1px rgba(60, 64, 67, 0.15);\n",
              "      fill: #174EA6;\n",
              "    }\n",
              "\n",
              "    [theme=dark] .colab-df-convert {\n",
              "      background-color: #3B4455;\n",
              "      fill: #D2E3FC;\n",
              "    }\n",
              "\n",
              "    [theme=dark] .colab-df-convert:hover {\n",
              "      background-color: #434B5C;\n",
              "      box-shadow: 0px 1px 3px 1px rgba(0, 0, 0, 0.15);\n",
              "      filter: drop-shadow(0px 1px 2px rgba(0, 0, 0, 0.3));\n",
              "      fill: #FFFFFF;\n",
              "    }\n",
              "  </style>\n",
              "\n",
              "      <script>\n",
              "        const buttonEl =\n",
              "          document.querySelector('#df-4db9a454-fa29-4adf-b336-8c4d7bfccb64 button.colab-df-convert');\n",
              "        buttonEl.style.display =\n",
              "          google.colab.kernel.accessAllowed ? 'block' : 'none';\n",
              "\n",
              "        async function convertToInteractive(key) {\n",
              "          const element = document.querySelector('#df-4db9a454-fa29-4adf-b336-8c4d7bfccb64');\n",
              "          const dataTable =\n",
              "            await google.colab.kernel.invokeFunction('convertToInteractive',\n",
              "                                                     [key], {});\n",
              "          if (!dataTable) return;\n",
              "\n",
              "          const docLinkHtml = 'Like what you see? Visit the ' +\n",
              "            '<a target=\"_blank\" href=https://colab.research.google.com/notebooks/data_table.ipynb>data table notebook</a>'\n",
              "            + ' to learn more about interactive tables.';\n",
              "          element.innerHTML = '';\n",
              "          dataTable['output_type'] = 'display_data';\n",
              "          await google.colab.output.renderOutput(dataTable, element);\n",
              "          const docLink = document.createElement('div');\n",
              "          docLink.innerHTML = docLinkHtml;\n",
              "          element.appendChild(docLink);\n",
              "        }\n",
              "      </script>\n",
              "    </div>\n",
              "  </div>\n",
              "  "
            ]
          },
          "metadata": {},
          "execution_count": 308
        }
      ]
    },
    {
      "cell_type": "code",
      "source": [
        "df_sub.to_csv(\"df_submission4.csv\", index = False)"
      ],
      "metadata": {
        "id": "1mRkaq1zqI7W"
      },
      "execution_count": 310,
      "outputs": []
    }
  ]
}